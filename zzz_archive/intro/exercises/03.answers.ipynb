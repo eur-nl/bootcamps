{
 "cells": [
  {
   "cell_type": "markdown",
   "metadata": {
    "deletable": true,
    "editable": true
   },
   "source": [
    "<hr style=\"height: 3px; margin: 0\" />\n",
    "### 3 A"
   ]
  },
  {
   "cell_type": "code",
   "execution_count": null,
   "metadata": {
    "deletable": true,
    "editable": true
   },
   "outputs": [],
   "source": [
    "True or False"
   ]
  },
  {
   "cell_type": "code",
   "execution_count": null,
   "metadata": {
    "deletable": true,
    "editable": true
   },
   "outputs": [],
   "source": [
    "1 or False"
   ]
  },
  {
   "cell_type": "code",
   "execution_count": null,
   "metadata": {
    "deletable": true,
    "editable": true
   },
   "outputs": [],
   "source": [
    "2 or 1"
   ]
  },
  {
   "cell_type": "code",
   "execution_count": null,
   "metadata": {
    "deletable": true,
    "editable": true
   },
   "outputs": [],
   "source": [
    "False or False"
   ]
  },
  {
   "cell_type": "code",
   "execution_count": null,
   "metadata": {
    "deletable": true,
    "editable": true
   },
   "outputs": [],
   "source": [
    "True and True"
   ]
  },
  {
   "cell_type": "code",
   "execution_count": null,
   "metadata": {
    "deletable": true,
    "editable": true
   },
   "outputs": [],
   "source": [
    "False and True"
   ]
  },
  {
   "cell_type": "code",
   "execution_count": null,
   "metadata": {
    "deletable": true,
    "editable": true
   },
   "outputs": [],
   "source": [
    "(True and False) or (False and True)"
   ]
  },
  {
   "cell_type": "code",
   "execution_count": null,
   "metadata": {
    "deletable": true,
    "editable": true
   },
   "outputs": [],
   "source": [
    "(((True and 1 > 2) or False != True) and \"abc\")"
   ]
  },
  {
   "cell_type": "markdown",
   "metadata": {
    "deletable": true,
    "editable": true
   },
   "source": [
    "  "
   ]
  },
  {
   "cell_type": "markdown",
   "metadata": {
    "deletable": true,
    "editable": true
   },
   "source": [
    "### Numbers"
   ]
  },
  {
   "cell_type": "markdown",
   "metadata": {
    "deletable": true,
    "editable": true
   },
   "source": [
    "<hr style=\"height: 3px; margin: 0\" />\n",
    "### 3 B"
   ]
  },
  {
   "cell_type": "markdown",
   "metadata": {
    "deletable": true,
    "editable": true
   },
   "source": [
    "The __**__ operation has a higher precedence than **-**  \n",
    "Modify the code below so it squares **-3**"
   ]
  },
  {
   "cell_type": "code",
   "execution_count": null,
   "metadata": {
    "deletable": true,
    "editable": true
   },
   "outputs": [],
   "source": [
    "print( (-3) ** 2)"
   ]
  },
  {
   "cell_type": "markdown",
   "metadata": {
    "deletable": true,
    "editable": true
   },
   "source": [
    "<hr style=\"height: 3px; margin: 0\" />\n",
    "### 3 C"
   ]
  },
  {
   "cell_type": "markdown",
   "metadata": {
    "deletable": true,
    "editable": true
   },
   "source": [
    "Determine if a number is odd or even.  "
   ]
  },
  {
   "cell_type": "code",
   "execution_count": null,
   "metadata": {
    "deletable": true,
    "editable": true
   },
   "outputs": [],
   "source": [
    "a = 10\n",
    "print(a % 2 == 0)\n",
    "a = 11\n",
    "print(a % 2 == 0)"
   ]
  },
  {
   "cell_type": "markdown",
   "metadata": {
    "deletable": true,
    "editable": true
   },
   "source": [
    "<hr style=\"height: 3px; margin: 0\" />\n",
    "### 3 D"
   ]
  },
  {
   "cell_type": "markdown",
   "metadata": {
    "deletable": true,
    "editable": true
   },
   "source": [
    "For a list of tuples, print whether the first number is a divisor of the second number.\n",
    "\n",
    "[(4, 9), (13, 26), (5, 10), (2.5, 7.5)]"
   ]
  },
  {
   "cell_type": "code",
   "execution_count": null,
   "metadata": {
    "deletable": true,
    "editable": true
   },
   "outputs": [],
   "source": [
    "for i, j in [(4, 9), (13, 26), (5, 10), (2.5, 7.5)]:\n",
    "    print(i, j)\n",
    "    # Your code here"
   ]
  },
  {
   "cell_type": "code",
   "execution_count": null,
   "metadata": {
    "deletable": true,
    "editable": true
   },
   "outputs": [],
   "source": [
    "for i, j in [(4, 9), (13, 26), (5, 10), (2.5, 7.5)]:\n",
    "    if j % i == 0:\n",
    "        print(\"%s is a divisor of %s\" % (i, j))\n",
    "    else:\n",
    "        print(\"%s is a not divisor of %s\" % (i, j))"
   ]
  },
  {
   "cell_type": "markdown",
   "metadata": {
    "deletable": true,
    "editable": true
   },
   "source": [
    "  "
   ]
  },
  {
   "cell_type": "markdown",
   "metadata": {
    "deletable": true,
    "editable": true
   },
   "source": [
    "### Strings"
   ]
  },
  {
   "cell_type": "markdown",
   "metadata": {
    "deletable": true,
    "editable": true
   },
   "source": [
    "<hr style=\"height: 3px; margin: 0\" />\n",
    "### 3 E"
   ]
  },
  {
   "cell_type": "markdown",
   "metadata": {
    "deletable": true,
    "editable": true
   },
   "source": [
    "Determine if a string is all lower case.  \n",
    "Hint : Python strings have a `lower()` method  \n",
    "\n",
    "s = \"Is this all lower case?\"  \n",
    "t = \"is this all lower case?\"  "
   ]
  },
  {
   "cell_type": "code",
   "execution_count": null,
   "metadata": {
    "deletable": true,
    "editable": true
   },
   "outputs": [],
   "source": [
    "s = \"Is this all lower case?\"\n",
    "t = \"is this all lower case?\"\n",
    "print(s == s.lower())\n",
    "print(t == t.lower())"
   ]
  },
  {
   "cell_type": "markdown",
   "metadata": {
    "deletable": true,
    "editable": true
   },
   "source": [
    "<hr style=\"height: 3px; margin: 0\" />\n",
    "### 3 F"
   ]
  },
  {
   "cell_type": "markdown",
   "metadata": {
    "deletable": true,
    "editable": true
   },
   "source": [
    "Python strings also have the _upper_, _capitalize_ and _title_ methods.  \n",
    "Test them here to find out what they do"
   ]
  },
  {
   "cell_type": "code",
   "execution_count": null,
   "metadata": {
    "deletable": true,
    "editable": true
   },
   "outputs": [],
   "source": [
    "s = \"python is fun\"\n",
    "print(s.upper())\n",
    "print(s.capitalize())\n",
    "print(s.title())"
   ]
  },
  {
   "cell_type": "markdown",
   "metadata": {
    "deletable": true,
    "editable": true
   },
   "source": [
    "<hr style=\"height: 3px; margin: 0\" />\n",
    "### 3 G"
   ]
  },
  {
   "cell_type": "markdown",
   "metadata": {
    "deletable": true,
    "editable": true
   },
   "source": [
    "Strings have the method **strip()** to remove leading and/or trailing characters    \n",
    "and **replace()** to replace substrings"
   ]
  },
  {
   "cell_type": "code",
   "execution_count": null,
   "metadata": {
    "deletable": true,
    "editable": true
   },
   "outputs": [],
   "source": [
    "print(\"|\", \" PYTHON IS FUN \".strip(),                  \"|\", sep=\"\")\n",
    "print(\"|\", \" PYTHON IS FUN \".lstrip(),                 \"|\", sep=\"\")\n",
    "print(\"|\", \" PYTHON IS FUN \".rstrip(),                 \"|\", sep=\"\")\n",
    "print(\"|\", \"_PYTHON IS FUN_\".strip(\"_\"),               \"|\", sep=\"\")\n",
    "print(\"|\", \" PYTHON IS FUN \".replace(\"PY\", \"MARA\"),    \"|\", sep=\"\")"
   ]
  },
  {
   "cell_type": "markdown",
   "metadata": {
    "deletable": true,
    "editable": true
   },
   "source": [
    "Use these methods to transform the string **\"??Python!is?fun ??\"** into **\"Python is fun!\"**  \n",
    "Make sure the solution doesn't depend on the # of question marks"
   ]
  },
  {
   "cell_type": "code",
   "execution_count": null,
   "metadata": {
    "deletable": true,
    "editable": true
   },
   "outputs": [],
   "source": [
    "s = \"??Python!is?fun ??\"\n",
    "\n",
    "s = s.replace(\" \", \"#\")\n",
    "print(s)\n",
    "s = s.strip(\"?\")\n",
    "print(s)\n",
    "s = s.replace(\"?\", \" \").replace(\"!\", \" \")\n",
    "print(s)\n",
    "s = s.replace(\"#\", \"!\")\n",
    "print(s)"
   ]
  },
  {
   "cell_type": "markdown",
   "metadata": {
    "deletable": true,
    "editable": true
   },
   "source": [
    "<hr style=\"height: 3px; margin: 0\" />\n",
    "### 3 H"
   ]
  },
  {
   "cell_type": "markdown",
   "metadata": {
    "deletable": true,
    "editable": true
   },
   "source": [
    "Check if a word is a [palindrome](https://en.wikipedia.org/wiki/Palindrome) with slicing\n",
    "* Ignore any white spaces (replace if necessary)\n",
    "* Hint : s[::] creates a copy of a list or string\n",
    "* It's possible to slice in reversed order with '-1'"
   ]
  },
  {
   "cell_type": "code",
   "execution_count": null,
   "metadata": {
    "deletable": true,
    "editable": true
   },
   "outputs": [],
   "source": [
    "word1 = \"never odd or even\"\n",
    "word2 = \"not a palindrome\"\n",
    "\n",
    "word1 = word1.replace(\" \", \"\")\n",
    "word2 = word2.replace(\" \", \"\")\n",
    "\n",
    "print(word1 == word1[::-1])\n",
    "print(word2 == word2[::-1])"
   ]
  },
  {
   "cell_type": "markdown",
   "metadata": {
    "deletable": true,
    "editable": true
   },
   "source": [
    "  "
   ]
  },
  {
   "cell_type": "markdown",
   "metadata": {
    "deletable": true,
    "editable": true
   },
   "source": [
    "### Lists"
   ]
  },
  {
   "cell_type": "markdown",
   "metadata": {
    "deletable": true,
    "editable": true
   },
   "source": [
    "<hr style=\"height: 3px; margin: 0\" />\n",
    "### 3 I"
   ]
  },
  {
   "cell_type": "markdown",
   "metadata": {
    "deletable": true,
    "editable": true
   },
   "source": [
    "Print all the numbers from this list that are smaller or equal to 5.\n",
    "\n",
    "a = [1, 1, 2, 3, 5, 8, 13, 21, 34, 55, 89]"
   ]
  },
  {
   "cell_type": "code",
   "execution_count": null,
   "metadata": {
    "deletable": true,
    "editable": true
   },
   "outputs": [],
   "source": [
    "a = [1, 1, 2, 3, 5, 8, 13, 21, 34, 55, 89]\n",
    "for i in a:\n",
    "    if i <= 5:\n",
    "        print(i)"
   ]
  },
  {
   "cell_type": "markdown",
   "metadata": {
    "deletable": true,
    "editable": true
   },
   "source": [
    "<hr style=\"height: 3px; margin: 0\" />\n",
    "### 3 J"
   ]
  },
  {
   "cell_type": "markdown",
   "metadata": {
    "deletable": true,
    "editable": true
   },
   "source": [
    "Lists can be reversed with the **reverse()** method\n",
    "\n",
    "```python\n",
    "a = [1, 2, 3, 4, 5]\n",
    "a.reverse()\n",
    "[5, 4, 3, 2, 1]\n",
    "```\n",
    "\n",
    "Determine if the following lists are equal to their reversed versions  \n",
    "a = [1, 2, 3, 2, 1]  \n",
    "b = [1, 2, 3, 4, 1]"
   ]
  },
  {
   "cell_type": "code",
   "execution_count": null,
   "metadata": {
    "deletable": true,
    "editable": true
   },
   "outputs": [],
   "source": [
    "a = [1, 2, 3, 2, 1]\n",
    "b = [1, 2, 3, 4, 1]\n",
    "\n",
    "a_r = a[:]\n",
    "a_r.reverse()\n",
    "b_r = b[:]\n",
    "b_r.reverse()\n",
    "\n",
    "# An even faster way would be \n",
    "a_r = a[::-1]\n",
    "b_r = b[::-1]\n",
    "\n",
    "print(a == a_r)\n",
    "print(b == b_r)"
   ]
  },
  {
   "cell_type": "markdown",
   "metadata": {
    "deletable": true,
    "editable": true
   },
   "source": [
    "<hr style=\"height: 3px; margin: 0\" />\n",
    "### 3 K"
   ]
  },
  {
   "cell_type": "markdown",
   "metadata": {
    "deletable": true,
    "editable": true
   },
   "source": [
    "Print the list c, that contains all items common to a and b.  \n",
    "Bonus points if c doesn't contain duplicates  \n",
    "Hint : check if a list contains an item with ```x in y```\n",
    "\n",
    "a = [1, 1, 2, 3, 5, 8, 13, 21, 34, 55, 89]  \n",
    "b = [1, 2, 3, 4, 5, 6, 7, 8, 9, 10, 11, 12, 13]"
   ]
  },
  {
   "cell_type": "code",
   "execution_count": null,
   "metadata": {
    "deletable": true,
    "editable": true
   },
   "outputs": [],
   "source": [
    "a = [1, 1, 2, 3, 5, 8, 13, 21, 34, 55, 89]\n",
    "b = [1, 2, 3, 4, 5, 6, 7, 8, 9, 10, 11, 12, 13]\n",
    "c = []\n",
    "\n",
    "for i in a:\n",
    "    # solution with duplicates\n",
    "    if i in b:\n",
    "        c.append(i)\n",
    "    \n",
    "    # solution without duplicates\n",
    "    #if i in b and i not in c:\n",
    "    #    c.append(i)\n",
    "\n",
    "print(c)"
   ]
  }
 ],
 "metadata": {
  "hide_input": false,
  "kernelspec": {
   "display_name": "Python 3",
   "language": "python",
   "name": "python3"
  },
  "language_info": {
   "codemirror_mode": {
    "name": "ipython",
    "version": 3
   },
   "file_extension": ".py",
   "mimetype": "text/x-python",
   "name": "python",
   "nbconvert_exporter": "python",
   "pygments_lexer": "ipython3",
   "version": "3.5.2"
  }
 },
 "nbformat": 4,
 "nbformat_minor": 2
}
