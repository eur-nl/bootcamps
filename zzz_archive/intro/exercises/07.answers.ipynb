{
 "cells": [
  {
   "cell_type": "markdown",
   "metadata": {
    "deletable": true,
    "editable": true
   },
   "source": [
    "<hr style=\"height: 3px; margin: 0\" />\n",
    "### 7 A"
   ]
  },
  {
   "cell_type": "markdown",
   "metadata": {
    "deletable": true,
    "editable": true
   },
   "source": [
    "Write a Python class named Circle constructed by a radius.  \n",
    "Add 2 methods which will compute the area and the perimeter of a circle."
   ]
  },
  {
   "cell_type": "code",
   "execution_count": null,
   "metadata": {
    "deletable": true,
    "editable": true
   },
   "outputs": [],
   "source": [
    "from math import pi\n",
    "\n",
    "class Circle():\n",
    "    def __init__(self, r):\n",
    "        self.radius = r\n",
    "\n",
    "    def area(self):\n",
    "        return self.radius ** 2 * pi\n",
    "    \n",
    "    def perimeter(self):\n",
    "        return 2 * self.radius * pi\n",
    "\n",
    "circle = Circle(8)\n",
    "print(circle.area())\n",
    "print(circle.perimeter())"
   ]
  },
  {
   "cell_type": "markdown",
   "metadata": {
    "deletable": true,
    "editable": true
   },
   "source": [
    "<hr style=\"height: 3px; margin: 0\" />\n",
    "### 7 B"
   ]
  },
  {
   "cell_type": "markdown",
   "metadata": {
    "deletable": true,
    "editable": true
   },
   "source": [
    "Create a class that models a car.  \n",
    "Off course that car has a color.  \n",
    "Add a function **open()** with a parameter has_key.  \n",
    "Show appropriate messages for each situation."
   ]
  },
  {
   "cell_type": "code",
   "execution_count": null,
   "metadata": {
    "deletable": true,
    "editable": true
   },
   "outputs": [],
   "source": [
    "class Car:\n",
    "    def __init__(self, color):\n",
    "        self.color = color\n",
    "        \n",
    "    def open(self, has_key):\n",
    "        if has_key:\n",
    "            print(\"The %s car is now open!\" % self.color)\n",
    "        else:\n",
    "            print(\"The %s car is still locked!\" % self.color)\n",
    "            \n",
    "car = Car(\"blue\")\n",
    "car.open(has_key=False)\n",
    "car.open(has_key=True)"
   ]
  },
  {
   "cell_type": "markdown",
   "metadata": {
    "deletable": true,
    "editable": true
   },
   "source": [
    "<hr style=\"height: 3px; margin: 0\" />    \n",
    "### 7 C"
   ]
  },
  {
   "cell_type": "markdown",
   "metadata": {
    "deletable": true,
    "editable": true
   },
   "source": [
    "Like above, create a Car class but hold the state in a separate variable.  \n",
    "Don't open output on **open()**, but add a separate method **is_open()**."
   ]
  },
  {
   "cell_type": "code",
   "execution_count": null,
   "metadata": {
    "deletable": true,
    "editable": true
   },
   "outputs": [],
   "source": [
    "class Car:\n",
    "    def __init__(self, color):\n",
    "        self.color = color\n",
    "        self.locked = True\n",
    "        \n",
    "    def open(self, has_key):\n",
    "        self.locked &= has_key != True\n",
    "        \n",
    "    def print_state(self):\n",
    "        if self.locked:\n",
    "            print(\"The %s car is locked!\" % self.color)                 \n",
    "        else:\n",
    "            print(\"The %s car is open!\" % self.color)\n",
    "            \n",
    "        \n",
    "car = Car(\"green\")\n",
    "car.print_state()\n",
    "car.open(has_key=False)\n",
    "car.print_state()\n",
    "car.open(has_key=True)\n",
    "car.print_state()"
   ]
  },
  {
   "cell_type": "markdown",
   "metadata": {
    "deletable": true,
    "editable": true
   },
   "source": [
    "<hr style=\"height: 3px; margin: 0\" />    \n",
    "### 7 D"
   ]
  },
  {
   "cell_type": "markdown",
   "metadata": {},
   "source": [
    "A car isn't useful if it can't drive.  \n",
    "So we're going to create a car with an X and Y position.  \n",
    "Our car moves randomly in either the X or Y direction.  \n",
    "The movement is always +1 or -1 and its stopped at the boundaries 0 and 5.  \n",
    "\n",
    "* Because the car move randonly, it might crash with another car anytime.\n",
    "* Create 2 instances of your Car, and see where the collide.\n",
    "* Hint : look at [Class variables](https://docs.python.org/3/tutorial/classes.html#class-and-instance-variables)\n",
    "* Bonus points if your car keeps the distance it travelled.  "
   ]
  },
  {
   "cell_type": "code",
   "execution_count": null,
   "metadata": {},
   "outputs": [],
   "source": [
    "import random\n",
    "import time\n",
    "from IPython.display import clear_output\n",
    "\n",
    "\n",
    "class Car:\n",
    "    bounds_x = [0, 5]\n",
    "    bounds_y = [0, 5]\n",
    "    \n",
    "    def __init__(self, x, y):\n",
    "        self.x = x\n",
    "        self.y = y\n",
    "        self.distance = 0\n",
    "    \n",
    "    def _move_random(self, old_position, bounds):\n",
    "        new_position = old_position + random.randint(-1, 1)\n",
    "        new_position = max(new_position, bounds[0])\n",
    "        new_position = min(new_position, bounds[1])\n",
    "        if old_position != new_position:\n",
    "            self.distance += 1\n",
    "        return new_position\n",
    "    \n",
    "    def move_random(self):\n",
    "        if random.choice([True, False]):\n",
    "            self.x = self._move_random(self.x, Car.bounds_x)\n",
    "        else:\n",
    "            self.y = self._move_random(self.y, Car.bounds_y)\n",
    "        \n",
    "    def get_position(self):\n",
    "        return self.x, self.y\n",
    "    \n",
    "    def get_distance(self):\n",
    "        return self.distance\n",
    "    \n",
    "\n",
    "# Put the car in opposite corners\n",
    "car_1 = Car(Car.bounds_x[0], Car.bounds_y[0])\n",
    "car_2 = Car(Car.bounds_x[1], Car.bounds_y[1])\n",
    "\n",
    "while True:\n",
    "    car_1.move_random()\n",
    "    car_2.move_random()\n",
    "    \n",
    "    # Clear the output and display the current positions\n",
    "    clear_output(True)\n",
    "    print(car_1.get_position(), car_2.get_position())\n",
    "    \n",
    "    # Detect wether we crashed\n",
    "    if car_1.get_position() == car_2.get_position():\n",
    "        break\n",
    "        \n",
    "    # Wait for 0.5 second, decrease for faster collision\n",
    "    time.sleep(0.5)\n",
    "    \n",
    "print(\"\\nIt looks like we crashed in %d %d\" % car_1.get_position())\n",
    "# Only if your car keeps the distance travelled\n",
    "# print(\"Car 1 travelled :\", car_1.get_distance())\n",
    "# print(\"Car 2 travelled :\", car_2.get_distance())"
   ]
  }
 ],
 "metadata": {
  "kernelspec": {
   "display_name": "Python 3",
   "language": "python",
   "name": "python3"
  },
  "language_info": {
   "codemirror_mode": {
    "name": "ipython",
    "version": 3
   },
   "file_extension": ".py",
   "mimetype": "text/x-python",
   "name": "python",
   "nbconvert_exporter": "python",
   "pygments_lexer": "ipython3",
   "version": "3.5.2"
  }
 },
 "nbformat": 4,
 "nbformat_minor": 2
}
