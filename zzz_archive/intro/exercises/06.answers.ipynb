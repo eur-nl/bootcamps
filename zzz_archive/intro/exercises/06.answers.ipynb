{
 "cells": [
  {
   "cell_type": "markdown",
   "metadata": {
    "deletable": true,
    "editable": true
   },
   "source": [
    "<hr style=\"height: 3px; margin: 0\" />\n",
    "### 6 A"
   ]
  },
  {
   "cell_type": "markdown",
   "metadata": {
    "deletable": true,
    "editable": true
   },
   "source": [
    "Rewrite the following comprehension with 2 standard loops so the outputs are equal\n",
    "\n",
    "```python\n",
    "[(x, y) for x in [1,2,3] for y in [3,1,4] if x != y]\n",
    "\n",
    "# output\n",
    "[(1, 3), (1, 4), (2, 3), (2, 1), (2, 4), (3, 1), (3, 4)]\n",
    "```"
   ]
  },
  {
   "cell_type": "code",
   "execution_count": null,
   "metadata": {
    "deletable": true,
    "editable": true
   },
   "outputs": [],
   "source": [
    "out = []\n",
    "for x in [1, 2, 3]:\n",
    "    for y in [3, 1, 4]:\n",
    "        if x != y:\n",
    "            out.append((x, y))\n",
    "print(out)"
   ]
  },
  {
   "cell_type": "markdown",
   "metadata": {
    "deletable": true,
    "editable": true
   },
   "source": [
    "<hr style=\"height: 3px; margin: 0\" />\n",
    "### 6 B"
   ]
  },
  {
   "cell_type": "markdown",
   "metadata": {
    "deletable": true,
    "editable": true
   },
   "source": [
    "```python\n",
    "knights = {\n",
    "    'gallahad': 'the pure', \n",
    "    'robin': 'the brave', \n",
    "    'bedevere': 'the wise'\n",
    "}\n",
    "```\n",
    "\n",
    "Loop over the dictionary and print key-value pairs sorted on **key**.  \n",
    "The output should be:\n",
    "\n",
    "```\n",
    "bedevere the wise\n",
    "gallahad the pure\n",
    "robin the brave\n",
    "```"
   ]
  },
  {
   "cell_type": "code",
   "execution_count": null,
   "metadata": {
    "deletable": true,
    "editable": true
   },
   "outputs": [],
   "source": [
    "knights = {\n",
    "    'gallahad': 'the pure', \n",
    "    'robin': 'the brave', \n",
    "    'bedevere': 'the wise'\n",
    "}\n",
    "\n",
    "for key in sorted(knights.keys()):\n",
    "    value = knights[key]\n",
    "    print(key, value)"
   ]
  },
  {
   "cell_type": "markdown",
   "metadata": {
    "deletable": true,
    "editable": true
   },
   "source": [
    "<hr style=\"height: 3px; margin: 0\" />    \n",
    "### 6 C"
   ]
  },
  {
   "cell_type": "markdown",
   "metadata": {
    "deletable": true,
    "editable": true
   },
   "source": [
    "```python\n",
    "knights = {\n",
    "    'gallahad': 'the pure', \n",
    "    'robin': 'the brave', \n",
    "    'bedevere': 'the wise'\n",
    "}\n",
    "```\n",
    "\n",
    "Loop over the dictionary and print key-value pairs sorted on **value**.  \n",
    "The output should be:\n",
    "\n",
    "```\n",
    "robin the brave\n",
    "gallahad the pure\n",
    "bedevere the wise\n",
    "```"
   ]
  },
  {
   "cell_type": "code",
   "execution_count": null,
   "metadata": {
    "deletable": true,
    "editable": true
   },
   "outputs": [],
   "source": [
    "knights = {\n",
    "    'gallahad': 'the pure', \n",
    "    'robin': 'the brave', \n",
    "    'bedevere': 'the wise'\n",
    "}\n",
    "\n",
    "for value in sorted(knights.values()):\n",
    "    for key in knights.keys():\n",
    "        if knights[key] == value:\n",
    "            print(key, value)"
   ]
  },
  {
   "cell_type": "markdown",
   "metadata": {
    "deletable": true,
    "editable": true
   },
   "source": [
    "<hr style=\"height: 3px; margin: 0\" />    \n",
    "### 6 D"
   ]
  },
  {
   "cell_type": "markdown",
   "metadata": {},
   "source": [
    "Lists have the `append` method, sets have the `update` method to add items in bulk.  \n",
    "Dictionaries also have the `update` method, but the differ slightly from the set versions.  \n",
    "See if you can find out how it differs from `set.update`.  "
   ]
  },
  {
   "cell_type": "code",
   "execution_count": null,
   "metadata": {},
   "outputs": [],
   "source": [
    "dict_1 = {1: \"one\"}\n",
    "print(dict_1)\n",
    "\n",
    "# This adds the items like we expect\n",
    "dict_1.update({2: \"two\", 3: \"three\"})\n",
    "print(dict_1)\n",
    "\n",
    "# This overwrites ('updates') the existing elements\n",
    "dict_1.update({1: \"uno\", 2: \"dos\", 3: \"tres\"})\n",
    "print(dict_1)"
   ]
  },
  {
   "cell_type": "markdown",
   "metadata": {
    "deletable": true,
    "editable": true
   },
   "source": [
    "<hr style=\"height: 3px; margin: 0\" />    \n",
    "### 6 E"
   ]
  },
  {
   "cell_type": "markdown",
   "metadata": {
    "deletable": true,
    "editable": true,
    "solution": "hidden"
   },
   "source": [
    "* Generate a list of multiples of three (> -30 and <30)"
   ]
  },
  {
   "cell_type": "code",
   "execution_count": null,
   "metadata": {
    "deletable": true,
    "editable": true
   },
   "outputs": [],
   "source": [
    "[3 * x for x in range(int(-27 / 3), int(30 / 3))]"
   ]
  },
  {
   "cell_type": "code",
   "execution_count": null,
   "metadata": {
    "deletable": true,
    "editable": true
   },
   "outputs": [],
   "source": [
    "print([x for x in range(-29, 30) if not x % 3])"
   ]
  },
  {
   "cell_type": "markdown",
   "metadata": {
    "deletable": true,
    "editable": true
   },
   "source": [
    "<hr style=\"height: 3px; margin: 0\" />    \n",
    "### 6 F"
   ]
  },
  {
   "cell_type": "markdown",
   "metadata": {
    "deletable": true,
    "editable": true,
    "solution": "shown",
    "solution_first": true
   },
   "source": [
    "* Generate a list with 2<sup>x</sup> with x ranging from 0 - 10"
   ]
  },
  {
   "cell_type": "code",
   "execution_count": null,
   "metadata": {
    "deletable": true,
    "editable": true,
    "solution": "hidden"
   },
   "outputs": [],
   "source": [
    "[2 ** x for x in range(10)]"
   ]
  },
  {
   "cell_type": "markdown",
   "metadata": {
    "deletable": true,
    "editable": true
   },
   "source": [
    "<hr style=\"height: 3px; margin: 0\" />    \n",
    "### 6 G"
   ]
  },
  {
   "cell_type": "markdown",
   "metadata": {
    "deletable": true,
    "editable": true,
    "solution": "shown",
    "solution_first": true
   },
   "source": [
    "* Generate a list with all numbers from 0 - 30 which are divisible by an odd number > 1 and < 10"
   ]
  },
  {
   "cell_type": "code",
   "execution_count": null,
   "metadata": {
    "deletable": true,
    "editable": true,
    "solution": "shown"
   },
   "outputs": [],
   "source": [
    "odd_numbers_gt_one_lt_ten = [x for x in range(2, 10) if not x % 2 == 0]\n",
    "\n",
    "print(odd_numbers_gt_one_lt_ten)\n",
    "\n",
    "list(set(x for x in range(30) for d in odd_numbers_gt_one_lt_ten if not x % d))"
   ]
  },
  {
   "cell_type": "markdown",
   "metadata": {
    "deletable": true,
    "editable": true
   },
   "source": [
    "<hr style=\"height: 3px; margin: 0\" />    \n",
    "### 6 H"
   ]
  },
  {
   "cell_type": "markdown",
   "metadata": {
    "deletable": true,
    "editable": true,
    "solution": "shown",
    "solution_first": true
   },
   "source": [
    "* Import module **random**  \n",
    "Get a sorted list of all unique values in [random.randint(0, 20) for _ in range(20)]"
   ]
  },
  {
   "cell_type": "code",
   "execution_count": null,
   "metadata": {
    "deletable": true,
    "editable": true,
    "solution": "shown"
   },
   "outputs": [],
   "source": [
    "import random\n",
    "\n",
    "sorted(set([random.randint(0, 20) for _ in range(20)]))"
   ]
  },
  {
   "cell_type": "markdown",
   "metadata": {
    "deletable": true,
    "editable": true
   },
   "source": [
    "<hr style=\"height: 3px; margin: 0\" />    \n",
    "### 6 I"
   ]
  },
  {
   "cell_type": "markdown",
   "metadata": {
    "deletable": true,
    "editable": true,
    "solution": "shown",
    "solution_first": true
   },
   "source": [
    "* Generate a list of all words with length three from the following sentence\n",
    "* Bonus points if you can filter out the punctuation"
   ]
  },
  {
   "cell_type": "code",
   "execution_count": null,
   "metadata": {
    "deletable": true,
    "editable": true,
    "solution": "shown"
   },
   "outputs": [],
   "source": [
    "exercise_str = \"Elizabeth, New Jersey, \" \\\n",
    "\"when my mother was being raised there in a flat over her father's grocery store, \" \\\n",
    "\"was an industrial port a quarter the size of Newark, \" \\\n",
    "\"dominated by the Irish working class and their politicians \" \\\n",
    "\"and the tightly knit parish life that revolved around the town's many churches, \" \\\n",
    "\"and though I never heard her complain of having been pointedly ill-treated in Elizabeth as a girl, \" \\\n",
    "\"it was not until she married and moved to Newark's new Jewish neighborhood \" \\\n",
    "\"that she discovered the confidence that led her to become first a PTA \\\"grade mother\\\", \" \\\n",
    "\"then a PTA vice president in charge of establishing a Kindergarten Mothers' Club, and finally the PTA president, \" \\\n",
    "\"who, after attending a conference in Trenton on infantile paralysis, \" \\\n",
    "\"proposed an annual March of Dimes dance on January 30 - President Roosevelt's birthday - \" \\\n",
    "\"that was accepted by most schools.\""
   ]
  },
  {
   "cell_type": "code",
   "execution_count": null,
   "metadata": {
    "deletable": true,
    "editable": true,
    "solution": "shown"
   },
   "outputs": [],
   "source": [
    "{x for x in exercise_str.split() if len(x) == 3}"
   ]
  },
  {
   "cell_type": "code",
   "execution_count": null,
   "metadata": {
    "deletable": true,
    "editable": true,
    "solution": "shown"
   },
   "outputs": [],
   "source": [
    "{x for x in exercise_str.replace(\"\\\"\", \"\").replace(\",\", \"\").split() if len(x) == 3}"
   ]
  }
 ],
 "metadata": {
  "kernelspec": {
   "display_name": "Python 3",
   "language": "python",
   "name": "python3"
  },
  "language_info": {
   "codemirror_mode": {
    "name": "ipython",
    "version": 3
   },
   "file_extension": ".py",
   "mimetype": "text/x-python",
   "name": "python",
   "nbconvert_exporter": "python",
   "pygments_lexer": "ipython3",
   "version": "3.7.1"
  }
 },
 "nbformat": 4,
 "nbformat_minor": 2
}
