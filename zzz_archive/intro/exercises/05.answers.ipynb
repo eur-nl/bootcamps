{
 "cells": [
  {
   "cell_type": "markdown",
   "metadata": {
    "deletable": true,
    "editable": true
   },
   "source": [
    "<hr style=\"height: 3px; margin: 0\" />  \n",
    "### 5 A"
   ]
  },
  {
   "cell_type": "markdown",
   "metadata": {
    "deletable": true,
    "editable": true,
    "solution": "shown",
    "solution_first": true
   },
   "source": [
    "* Design a function that calculates the mean of a list of 3 values"
   ]
  },
  {
   "cell_type": "code",
   "execution_count": null,
   "metadata": {
    "deletable": true,
    "editable": true,
    "solution": "shown"
   },
   "outputs": [],
   "source": [
    "def mean_3(v1, v2, v3):\n",
    "    return (v1 + v2 + v3) / 3\n",
    "\n",
    "mean_3(-1, 1, 5)"
   ]
  },
  {
   "cell_type": "markdown",
   "metadata": {
    "deletable": true,
    "editable": true
   },
   "source": [
    "<hr style=\"height: 3px; margin: 0\" />\n",
    "### 5 B"
   ]
  },
  {
   "cell_type": "markdown",
   "metadata": {
    "deletable": true,
    "editable": true,
    "solution": "hidden",
    "solution_first": true
   },
   "source": [
    "* Create a function that calculates the mean of a list with arbitrary length of values"
   ]
  },
  {
   "cell_type": "code",
   "execution_count": null,
   "metadata": {
    "deletable": true,
    "editable": true,
    "solution": "hidden"
   },
   "outputs": [],
   "source": [
    "def mean_args(*args):\n",
    "    return sum(args) / len(args)\n",
    "\n",
    "    #or if you don't want to cheat by using the built-in sum()\n",
    "    s = 0\n",
    "    for arg in args:\n",
    "        s += arg\n",
    "    \n",
    "    return s / len(args)\n",
    "\n",
    "mean_args(1, 2, 3, 4, 5)"
   ]
  },
  {
   "cell_type": "markdown",
   "metadata": {
    "deletable": true,
    "editable": true
   },
   "source": [
    "<hr style=\"height: 3px; margin: 0\" />\n",
    "### 5 C"
   ]
  },
  {
   "cell_type": "markdown",
   "metadata": {
    "deletable": true,
    "editable": true,
    "solution": "hidden",
    "solution_first": true
   },
   "source": [
    "* Create a function that calculates the mean of a list with arbitrary length of values.  \n",
    "  Add the option to specify whether result should be absolute (default off)."
   ]
  },
  {
   "cell_type": "code",
   "execution_count": null,
   "metadata": {
    "deletable": true,
    "editable": true,
    "solution": "hidden"
   },
   "outputs": [],
   "source": [
    "def mean_list(*args, absolute=False):\n",
    "    s = 0\n",
    "    for arg in args:\n",
    "        if absolute:\n",
    "            s += abs(arg)\n",
    "        else:\n",
    "            s += arg\n",
    "    return s / len(args)\n",
    "\n",
    "result_0 = mean_list(-1, 1, -1, 1, absolute=False)\n",
    "print(result_0)\n",
    "\n",
    "result_1 = mean_list(-1, 1, -1, 1, absolute=True)\n",
    "print(result_1)"
   ]
  },
  {
   "cell_type": "markdown",
   "metadata": {
    "deletable": true,
    "editable": true
   },
   "source": [
    "<hr style=\"height: 3px; margin: 0\" />\n",
    "### 5 D"
   ]
  },
  {
   "cell_type": "markdown",
   "metadata": {
    "deletable": true,
    "editable": true
   },
   "source": [
    "* Create a function that sums all odd numbers smaller than a given number\n",
    "* i.e. find_odd_sums(5) == 4  # 1 + 3"
   ]
  },
  {
   "cell_type": "code",
   "execution_count": null,
   "metadata": {
    "deletable": true,
    "editable": true
   },
   "outputs": [],
   "source": [
    "def find_odd_sums(n): \n",
    "    total = 0\n",
    "    for i in range(n):\n",
    "        if i % 2 != 0:\n",
    "            total += i\n",
    "    return total\n",
    "\n",
    "print(find_odd_sums(10) == 25)\n",
    "print(find_odd_sums(20) == 100)"
   ]
  },
  {
   "cell_type": "markdown",
   "metadata": {
    "deletable": true,
    "editable": true
   },
   "source": [
    "<hr style=\"height: 3px; margin: 0\" />\n",
    "### 5 E"
   ]
  },
  {
   "cell_type": "markdown",
   "metadata": {
    "deletable": true,
    "editable": true
   },
   "source": [
    "* Write a simple function that checks if a number is prime\n",
    "* Remember : [primes](https://en.wikipedia.org/wiki/Prime_number) are integers > 1, with exactly 2 positive divisors"
   ]
  },
  {
   "cell_type": "code",
   "execution_count": null,
   "metadata": {
    "deletable": true,
    "editable": true
   },
   "outputs": [],
   "source": [
    "def is_prime(number):\n",
    "    if number < 2:\n",
    "        return False\n",
    "    \n",
    "    for i in range(2, number):\n",
    "        if number % i == 0:\n",
    "            return False\n",
    "    \n",
    "    return True\n",
    "\n",
    "print(is_prime(1))\n",
    "print(is_prime(3))\n",
    "print(is_prime(4))\n",
    "print(is_prime(673))\n",
    "print(is_prime(674))"
   ]
  }
 ],
 "metadata": {
  "kernelspec": {
   "display_name": "Python 3",
   "language": "python",
   "name": "python3"
  },
  "language_info": {
   "codemirror_mode": {
    "name": "ipython",
    "version": 3
   },
   "file_extension": ".py",
   "mimetype": "text/x-python",
   "name": "python",
   "nbconvert_exporter": "python",
   "pygments_lexer": "ipython3",
   "version": "3.5.2"
  },
  "latex_envs": {
   "bibliofile": "biblio.bib",
   "cite_by": "apalike",
   "current_citInitial": 1,
   "eqLabelWithNumbers": true,
   "eqNumInitial": 0
  }
 },
 "nbformat": 4,
 "nbformat_minor": 1
}
