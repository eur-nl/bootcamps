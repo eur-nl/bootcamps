{
 "cells": [
  {
   "cell_type": "markdown",
   "metadata": {
    "deletable": true,
    "editable": true
   },
   "source": [
    "## Tic Tac Toe"
   ]
  },
  {
   "cell_type": "markdown",
   "metadata": {
    "deletable": true,
    "editable": true
   },
   "source": [
    "In this exercise we're going to create the Tic Tac Toe game.  \n",
    "We'll be using a board like below, with 'X' is player 1 and 'O' player 2.  \n",
    "\n",
    "\n",
    "```\n",
    " --- --- --- \n",
    "|   | X | O | \n",
    " --- --- ---  \n",
    "|   | O |   | \n",
    " --- --- ---  \n",
    "| X | O | X | \n",
    " --- --- --- \n",
    "```"
   ]
  },
  {
   "cell_type": "markdown",
   "metadata": {
    "deletable": true,
    "editable": true
   },
   "source": [
    "<hr style=\"height: 3px; margin: 0\" />    \n",
    "### Part 1\n",
    "### Setup the game and draw the board"
   ]
  },
  {
   "cell_type": "markdown",
   "metadata": {
    "deletable": true,
    "editable": true
   },
   "source": [
    "In the first part we'll start with choosing a datastructure to hold the game state and drawing the board.  \n",
    "There are many options to choose from, but we pick a list of lists.  \n",
    "Each element of the outher list is a row, each row containing 3 items.\n",
    "A 1 or 2 denotes player 1 or 2, a 0 is for empty position.  \n",
    "\n",
    "* Define a function `start_game`, that returns an empty game  \n",
    "  That game consisting of 3 rows (with 3 columns) of zeros\n",
    "* Define a function called `draw_board` that outputs the game to the format above\n",
    "* Define as much helper funtions as you'd like"
   ]
  },
  {
   "cell_type": "code",
   "execution_count": null,
   "metadata": {
    "deletable": true,
    "editable": true
   },
   "outputs": [],
   "source": [
    "# Your code here\n",
    "    \n",
    "game = start_game()\n",
    "draw_board(game)\n",
    "game = [[2, 2, 0],\n",
    "        [1, 1, 0],\n",
    "        [2, 1, 1]]\n",
    "draw_board(game)"
   ]
  },
  {
   "cell_type": "markdown",
   "metadata": {
    "deletable": true,
    "editable": true
   },
   "source": [
    "<hr style=\"height: 3px; margin: 0\" />    \n",
    "### Part 2\n",
    "### Checking whether a game board has a winner"
   ]
  },
  {
   "cell_type": "markdown",
   "metadata": {
    "deletable": true,
    "editable": true
   },
   "source": [
    "Next we're going to focus on determining the winner.  \n",
    "Don't worry about how the moves were made.  \n",
    "The game below should declare player 1 as the winner.\n",
    "```\n",
    "game = [[1, 2, 0],\n",
    "        [2, 1, 0],\n",
    "        [2, 1, 1]]\n",
    "```\n",
    "\n",
    "* Create a function check_winner that either returns a 1, 2 (player won) or 0 (no winner)  \n",
    "* The input should be a game\n",
    "* Ignore the situation that a game has 2 winners (should never happen)"
   ]
  },
  {
   "cell_type": "code",
   "execution_count": null,
   "metadata": {
    "deletable": true,
    "editable": true
   },
   "outputs": [],
   "source": [
    "# Your code here\n",
    "\n",
    "\n",
    "game = [[2, 2, 0],\n",
    "        [2, 1, 1],\n",
    "        [2, 1, 1]]\n",
    "print(check_winner(game))  # Should be 2\n",
    "\n",
    "game = [[2, 2, 2],\n",
    "        [1, 1, 0],\n",
    "        [2, 1, 1]]\n",
    "print(check_winner(game))  # Should be 2\n",
    "\n",
    "game = [[1, 2, 0],\n",
    "        [2, 1, 0],\n",
    "        [2, 1, 1]]\n",
    "print(check_winner(game))  # Should be 1\n",
    "\n",
    "game = [[0, 1, 0],\n",
    "        [2, 1, 2],\n",
    "        [2, 1, 1]]\n",
    "print(check_winner(game))  # Should be 1\n",
    "\n",
    "game = [[1, 2, 0],\n",
    "        [2, 1, 1],\n",
    "        [2, 1, 2]]\n",
    "print(check_winner(game))  # Should be 0\n",
    "\n",
    "game = [[1, 2, 0],\n",
    "        [2, 1, 0],\n",
    "        [2, 1, 0]]\n",
    "print(check_winner(game))  # Should be 0"
   ]
  },
  {
   "cell_type": "markdown",
   "metadata": {
    "deletable": true,
    "editable": true
   },
   "source": [
    "<hr style=\"height: 3px; margin: 0\" />    \n",
    "### Part 3\n",
    "### Handle a player move from user input"
   ]
  },
  {
   "cell_type": "markdown",
   "metadata": {
    "deletable": true,
    "editable": true
   },
   "source": [
    "Next we have to get the input from the user.  \n",
    "Let's have the input in the format 'x y', 2 number with a space.  \n",
    "The first number is the row, the second is the column.  \n",
    "Both should range from 1 to 3, else warn the user.  \n",
    "We should also check if the move is valid, maining the position is unoccupied.\n",
    "\n",
    "* Create a function `get_user_input` that asks and verifies the user input\n",
    "* Input to that function should be the game and the current player\n",
    "* If the input is valid, update the game"
   ]
  },
  {
   "cell_type": "code",
   "execution_count": null,
   "metadata": {
    "deletable": true,
    "editable": true
   },
   "outputs": [],
   "source": [
    "# Your code here\n",
    "    \n",
    "\n",
    "game = [[0, 1, 0],\n",
    "        [2, 2, 0],\n",
    "        [2, 1, 1]]\n",
    "draw_board(game)\n",
    "get_user_move(game, current_player=1)\n",
    "draw_board(game)"
   ]
  },
  {
   "cell_type": "markdown",
   "metadata": {
    "deletable": true,
    "editable": true
   },
   "source": [
    "<hr style=\"height: 3px; margin: 0\" />    \n",
    "### Part 4\n",
    "### Finish the game!"
   ]
  },
  {
   "cell_type": "markdown",
   "metadata": {
    "deletable": true,
    "editable": true
   },
   "source": [
    "We're almost there, let's create the full game.  \n",
    "Start by initiating a game and set the current player to 1.  \n",
    "What we didn't check so far is if there is a draw : all positions taken but no winner\n",
    "\n",
    "* Create a function `is_draw` that detects if there is a draw\n",
    "* Start the game and ask the first player to move \n",
    "* Keep alternating between players until we have a winner or a draw\n",
    "* Print board after each move, and announce the winner "
   ]
  },
  {
   "cell_type": "code",
   "execution_count": null,
   "metadata": {
    "deletable": true,
    "editable": true
   },
   "outputs": [],
   "source": [
    "# Your code here\n",
    "        \n",
    "        \n",
    "tic_tac_toe()"
   ]
  }
 ],
 "metadata": {
  "kernelspec": {
   "display_name": "Python 3",
   "language": "python",
   "name": "python3"
  },
  "language_info": {
   "codemirror_mode": {
    "name": "ipython",
    "version": 3
   },
   "file_extension": ".py",
   "mimetype": "text/x-python",
   "name": "python",
   "nbconvert_exporter": "python",
   "pygments_lexer": "ipython3",
   "version": "3.5.2"
  }
 },
 "nbformat": 4,
 "nbformat_minor": 2
}
