{
 "cells": [
  {
   "cell_type": "markdown",
   "metadata": {
    "deletable": true,
    "editable": true
   },
   "source": [
    "## Guessing Game 1"
   ]
  },
  {
   "cell_type": "markdown",
   "metadata": {
    "deletable": true,
    "editable": true
   },
   "source": [
    "This is the opposite of Game 1 : this time you will pick the number (between 0 and 100) and we let the program guess.  \n",
    "First we'll focus on a functioning program, which we'll improve in steps.  \n",
    "Let's start with "
   ]
  },
  {
   "cell_type": "markdown",
   "metadata": {
    "deletable": true,
    "editable": true
   },
   "source": [
    "<hr style=\"height: 3px; margin: 0\" />    \n",
    "### 2 A"
   ]
  },
  {
   "cell_type": "markdown",
   "metadata": {
    "deletable": true,
    "editable": true
   },
   "source": [
    "We'll start with the pseudo code first"
   ]
  },
  {
   "cell_type": "markdown",
   "metadata": {
    "deletable": true,
    "editable": true
   },
   "source": [
    "```\n",
    "create random number\n",
    "\n",
    "repeat\n",
    "    ask user feedback\n",
    "    if guess exactly right\n",
    "        print exactly right\n",
    "        stop\n",
    "    if guess too low\n",
    "        increase guess by 1\n",
    "    if guess too high\n",
    "        decrease guess by 1\n",
    "```"
   ]
  },
  {
   "cell_type": "markdown",
   "metadata": {
    "deletable": true,
    "editable": true
   },
   "source": [
    "<hr style=\"height: 3px; margin: 0\" />    \n",
    "### 2 B"
   ]
  },
  {
   "cell_type": "markdown",
   "metadata": {
    "deletable": true,
    "editable": true
   },
   "source": [
    "* Translate pseduo to actual code\n",
    "* Hint: use the pseudo code as comments\n",
    "* We assume the user feedback consists of \"yes\", \"no, too low\" and \"no, too high\""
   ]
  },
  {
   "cell_type": "code",
   "execution_count": null,
   "metadata": {
    "deletable": true,
    "editable": true
   },
   "outputs": [],
   "source": [
    "import random\n",
    "\n",
    "guess = random.randint(0, 100)\n",
    "\n",
    "while True:\n",
    "    feedback = input(\"Is it %d? \" % guess)\n",
    "    \n",
    "    if feedback.lower == \"yes\":\n",
    "        print(\"Yes!\")\n",
    "        stop\n",
    "    \n",
    "    if \"low\" in feedback.lower():\n",
    "        guess += 1\n",
    "    elif \"high\" in feedback.lower():\n",
    "        guess -= 1    "
   ]
  },
  {
   "cell_type": "markdown",
   "metadata": {
    "deletable": true,
    "editable": true
   },
   "source": [
    "<hr style=\"height: 3px; margin: 0\" />    \n",
    "### 2 C"
   ]
  },
  {
   "cell_type": "markdown",
   "metadata": {
    "deletable": true,
    "editable": true
   },
   "source": [
    "Let's make the parsing a bit more robust.  \n",
    "If the user answers 'no, lower' the guess is actually increased!  \n",
    "Also, the user might answer with only 'no', so we have to ask a follow up question.  \n",
    "If we don't understand the feedback, explicitly tell the format.  \n",
    "Also, print the number of guesses once the program gets it right."
   ]
  },
  {
   "cell_type": "code",
   "execution_count": null,
   "metadata": {
    "deletable": true,
    "editable": true
   },
   "outputs": [],
   "source": [
    "import random\n",
    "\n",
    "guess = random.randint(0, 100)\n",
    "count = 0\n",
    "\n",
    "while True:\n",
    "    feedback = input(\"Is it %d? \" % guess).lower()\n",
    "    count += 1\n",
    "    \n",
    "    if feedback == \"yes\":\n",
    "        print(\"Yes, in %d guesses!\" % count)\n",
    "        break\n",
    "    \n",
    "    if feedback == \"no\":\n",
    "        feedback = input(\"Is it lower?\")\n",
    "        if feedback == \"no\":\n",
    "            guess += 1\n",
    "        else:\n",
    "            guess -= 1\n",
    "    else:\n",
    "        if \"lower\" in feedback or \"too high\" in feedback:\n",
    "            guess -= 1\n",
    "        elif \"higher\" in feedback or \"too low\" in feedback:\n",
    "            guess += 1\n",
    "        else:\n",
    "            print(\"Please answer with 'yes', 'no, too low' or 'no, too high'\")"
   ]
  },
  {
   "cell_type": "markdown",
   "metadata": {
    "deletable": true,
    "editable": true
   },
   "source": [
    "<hr style=\"height: 3px; margin: 0\" />    \n",
    "### 2 D"
   ]
  },
  {
   "cell_type": "markdown",
   "metadata": {
    "deletable": true,
    "editable": true
   },
   "source": [
    "The user might try and trick us by answering incorrectly.  \n",
    "Keep track of the maximum and minimum, and quit when outside the range."
   ]
  },
  {
   "cell_type": "code",
   "execution_count": null,
   "metadata": {
    "deletable": true,
    "editable": true
   },
   "outputs": [],
   "source": [
    "import random\n",
    "\n",
    "guess = random.randint(0, 100)\n",
    "count = 0\n",
    "minimum = 0\n",
    "maximum = 100\n",
    "running = True\n",
    "\n",
    "\n",
    "def not_fair():\n",
    "    global running, minimum, maximum\n",
    "    running = False\n",
    "    print(\"\\nThat's not fair!\")\n",
    "    print(\"The range is %d - %d\" % (minimum, maximum))\n",
    "    print(\"I don't want to play anymore!\")\n",
    "\n",
    "\n",
    "def decrease():\n",
    "    global guess, minimum, maximum\n",
    "    if guess <= minimum:\n",
    "        not_fair()\n",
    "    else:\n",
    "        maximum = min(maximum, guess)\n",
    "        guess -= 1\n",
    "    \n",
    "    \n",
    "def increase():\n",
    "    global guess, minimum, maximum\n",
    "    if guess >= maximum:\n",
    "        not_fair()\n",
    "    else:\n",
    "        minimum = max(minimum, guess)\n",
    "        guess += 1\n",
    "    \n",
    "\n",
    "while running:\n",
    "    feedback = input(\"Is it %d? \" % guess).lower()\n",
    "    count += 1\n",
    "    \n",
    "    if feedback == \"yes\":\n",
    "        print(\"\\nYes, in %d guesses!\" % count)\n",
    "        break\n",
    "    \n",
    "    if feedback == \"no\":\n",
    "        feedback = input(\"Is it lower? \")\n",
    "        if feedback == \"no\":\n",
    "            increase()\n",
    "        else:\n",
    "            decrease()\n",
    "    else:\n",
    "        if \"higher\" in feedback or \"too low\" in feedback:\n",
    "            increase()\n",
    "        elif \"lower\" in feedback or \"too high\" in feedback:\n",
    "            decrease()\n",
    "        else:\n",
    "            print(\"Please answer with 'yes', 'no, too low' or 'no, too high'\")"
   ]
  },
  {
   "cell_type": "markdown",
   "metadata": {
    "deletable": true,
    "editable": true
   },
   "source": [
    "<hr style=\"height: 3px; margin: 0\" />    \n",
    "### 2 E"
   ]
  },
  {
   "cell_type": "markdown",
   "metadata": {
    "deletable": true,
    "editable": true
   },
   "source": [
    "### [binary search](https://en.wikipedia.org/wiki/Binary_search_algorithm)\n",
    "Ofcourse this algorithm isn't very efficient.  \n",
    "If the initial guess is way off, it takes a long time to reach the correct number.  \n",
    "With binary search (guessing halfway the range) we finish much quicker."
   ]
  },
  {
   "cell_type": "code",
   "execution_count": null,
   "metadata": {
    "deletable": true,
    "editable": true
   },
   "outputs": [],
   "source": [
    "import random\n",
    "\n",
    "guess = random.randint(0, 100)\n",
    "count = 0\n",
    "minimum = 0\n",
    "maximum = 100\n",
    "running = True\n",
    "\n",
    "\n",
    "def not_fair():\n",
    "    global running, minimum, maximum\n",
    "    running = False\n",
    "    print(\"\\nThat's not fair!\")\n",
    "    print(\"The range is %d - %d\" % (minimum, maximum))\n",
    "    print(\"I don't want to play anymore!\")    \n",
    "    \n",
    "\n",
    "def decrease():\n",
    "    global guess, minimum, maximum\n",
    "    if guess <= minimum:\n",
    "        not_fair()\n",
    "    else:\n",
    "        maximum = min(maximum, guess)\n",
    "        guess = min((maximum + minimum) // 2, guess - 1)\n",
    "    \n",
    "    \n",
    "def increase():\n",
    "    global guess, minimum, maximum\n",
    "    if guess >= maximum:\n",
    "        not_fair()\n",
    "    else:\n",
    "        minimum = max(minimum, guess)\n",
    "        guess = max((maximum + minimum) // 2, guess + 1)\n",
    "    \n",
    "\n",
    "while running:\n",
    "    feedback = input(\"Is it %d? \" % guess).lower()\n",
    "    count += 1\n",
    "    \n",
    "    if feedback == \"yes\":\n",
    "        print(\"\\nYes, in %d guesses!\" % count)\n",
    "        break\n",
    "    \n",
    "    if feedback == \"no\":\n",
    "        feedback = input(\"Is it lower? \")\n",
    "        if feedback == \"no\":\n",
    "            increase()            \n",
    "        else:\n",
    "            decrease()\n",
    "    else:\n",
    "        if \"higher\" in feedback or \"too low\" in feedback:\n",
    "            increase()\n",
    "        elif \"lower\" in feedback or \"too high\" in feedback:\n",
    "            decrease()\n",
    "        else:\n",
    "            print(\"Please answer with 'yes', 'no, too low' or 'no, too high'\")"
   ]
  }
 ],
 "metadata": {
  "kernelspec": {
   "display_name": "Python 3",
   "language": "python",
   "name": "python3"
  },
  "language_info": {
   "codemirror_mode": {
    "name": "ipython",
    "version": 3
   },
   "file_extension": ".py",
   "mimetype": "text/x-python",
   "name": "python",
   "nbconvert_exporter": "python",
   "pygments_lexer": "ipython3",
   "version": "3.5.2"
  }
 },
 "nbformat": 4,
 "nbformat_minor": 2
}
