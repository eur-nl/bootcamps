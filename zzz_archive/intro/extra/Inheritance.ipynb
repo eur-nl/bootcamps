{
 "cells": [
  {
   "cell_type": "markdown",
   "metadata": {
    "deletable": true,
    "editable": true,
    "slideshow": {
     "slide_type": "slide"
    }
   },
   "source": [
    "## Intermezzo: Inheritance"
   ]
  },
  {
   "cell_type": "markdown",
   "metadata": {
    "deletable": true,
    "editable": true,
    "slideshow": {
     "slide_type": "fragment"
    }
   },
   "source": [
    "Sometimes it makes sense to extract similar behavior (methods, variables) from several classes.  \n",
    "If we have a Circle class and a Rectangle class, they both posses the `area` property, and they both might have a color.  \n",
    "The Circle has a radius, while the Rectangle has width and height.  \n",
    "We can group the `color` and `area` properties in the Shape class, but exclude the radius or width/height.  "
   ]
  },
  {
   "cell_type": "markdown",
   "metadata": {
    "deletable": true,
    "editable": true
   },
   "source": [
    "* Inheritance can be defined as the process where one class acquires the properties (methods and variables) of another.  \n",
    "  With the use of inheritance the information is made manageable in a hierarchical order.\n",
    "\n",
    "* The class which inherits the properties of other is known as subclass (derived class, child class).  \n",
    "* The class whose properties are inherited is known as superclass (base class, parent class).\n",
    "\n",
    "* Children can `override` parent properties or methods."
   ]
  },
  {
   "cell_type": "markdown",
   "metadata": {},
   "source": [
    "<hr style=\"height: 3px; margin: 0\" />"
   ]
  },
  {
   "cell_type": "markdown",
   "metadata": {
    "deletable": true,
    "editable": true
   },
   "source": [
    "Let's start with a base class Shape, and add the color attribute.  \n",
    "As we can't calculate the area without more information, raise an Exception.  "
   ]
  },
  {
   "cell_type": "code",
   "execution_count": null,
   "metadata": {
    "deletable": true,
    "editable": true
   },
   "outputs": [],
   "source": [
    "class Shape:\n",
    "    def __init__(self, color):\n",
    "        self.color = color\n",
    "        \n",
    "    def get_area(self):\n",
    "        raise NotImplementedError\n",
    "    \n",
    "    def __repr__(self):\n",
    "        return \"A %s with the color %s\" % (self.__class__.__name__, self.color)\n",
    "\n",
    "shape = Shape(\"blue\")\n",
    "print(shape)\n",
    "\n",
    "try:\n",
    "    shape.get_area()\n",
    "except NotImplementedError as nie:\n",
    "    print(\"This method isn't implemented yet!\")"
   ]
  },
  {
   "cell_type": "markdown",
   "metadata": {
    "deletable": true,
    "editable": true
   },
   "source": [
    "  "
   ]
  },
  {
   "cell_type": "markdown",
   "metadata": {
    "deletable": true,
    "editable": true
   },
   "source": [
    "Let's create Circle based on the Shape class and add the radius.  "
   ]
  },
  {
   "cell_type": "code",
   "execution_count": null,
   "metadata": {
    "deletable": true,
    "editable": true
   },
   "outputs": [],
   "source": [
    "from math import pi\n",
    "\n",
    "class Circle(Shape):\n",
    "    def __init__(self, color, radius):\n",
    "        super().__init__(color)\n",
    "        self.radius = radius\n",
    "        \n",
    "    def get_area(self):\n",
    "        return self.radius ** 2 * pi    \n",
    "    \n",
    "circle = Circle(\"red\", 10)\n",
    "print(circle)\n",
    "print(circle.get_area())"
   ]
  },
  {
   "cell_type": "markdown",
   "metadata": {
    "deletable": true,
    "editable": true
   },
   "source": [
    "A lot is happening in the code above.  \n",
    "```\n",
    "class Circle(Shape):\n",
    "```\n",
    "This is telling the interpreter that we want to inherit the methods and variables from Shape.\n",
    "\n",
    "```\n",
    "super().__init__(color)\n",
    "```\n",
    "This calls the `__init__` method from the base class, in this case it sets the color property.  \n",
    "That's why we see the color when we `print(circle)` that uses the (inherited) `__repr__` method.  \n",
    "\n",
    "```\n",
    "def get_area(self):\n",
    "    return self.radius ** 2 * pi\n",
    "```\n",
    "Here we override (redefine) the `get_area` method.  "
   ]
  },
  {
   "cell_type": "markdown",
   "metadata": {},
   "source": [
    "  "
   ]
  },
  {
   "cell_type": "markdown",
   "metadata": {},
   "source": [
    "Next we create the Rectangle class, with the width and height properties.  "
   ]
  },
  {
   "cell_type": "code",
   "execution_count": null,
   "metadata": {},
   "outputs": [],
   "source": [
    "class Rectangle(Shape):\n",
    "    def __init__(self, color, width, height):\n",
    "        super().__init__(color)\n",
    "        self.width = width\n",
    "        self.height = height\n",
    "        \n",
    "    def get_area(self):\n",
    "        return self.width * self.height\n",
    "    \n",
    "rectangle = Rectangle(\"green\", 10, 20)\n",
    "print(rectangle)\n",
    "print(rectangle.get_area())"
   ]
  },
  {
   "cell_type": "markdown",
   "metadata": {},
   "source": [
    "  "
   ]
  },
  {
   "cell_type": "markdown",
   "metadata": {},
   "source": [
    "Now we are getting somewhere!  \n",
    "A square is a rectangle were the width and height are equal.  "
   ]
  },
  {
   "cell_type": "code",
   "execution_count": null,
   "metadata": {},
   "outputs": [],
   "source": [
    "class Square(Rectangle):\n",
    "    def __init__(self, color, side):\n",
    "        super().__init__(color, side, side)\n",
    "        \n",
    "square = Square(\"yellow\", 5)\n",
    "print(square)\n",
    "print(square.get_area())"
   ]
  },
  {
   "cell_type": "markdown",
   "metadata": {},
   "source": [
    "  "
   ]
  },
  {
   "cell_type": "markdown",
   "metadata": {},
   "source": [
    "## Types and isinstance\n",
    "With `type()` we can get the type of an object.  \n",
    "With `isinstance()` we can check if an object is an instance of a class or it's superclasses.  "
   ]
  },
  {
   "cell_type": "code",
   "execution_count": null,
   "metadata": {},
   "outputs": [],
   "source": [
    "help(isinstance)"
   ]
  },
  {
   "cell_type": "markdown",
   "metadata": {},
   "source": [
    "These shouldn't surprise anyone."
   ]
  },
  {
   "cell_type": "code",
   "execution_count": null,
   "metadata": {},
   "outputs": [],
   "source": [
    "type(square)"
   ]
  },
  {
   "cell_type": "code",
   "execution_count": null,
   "metadata": {},
   "outputs": [],
   "source": [
    "isinstance(square, Square)"
   ]
  },
  {
   "cell_type": "markdown",
   "metadata": {},
   "source": [
    "But an instance of a subclass is and instance of its superclass as well."
   ]
  },
  {
   "cell_type": "code",
   "execution_count": null,
   "metadata": {},
   "outputs": [],
   "source": [
    "isinstance(square, Rectangle)"
   ]
  },
  {
   "cell_type": "markdown",
   "metadata": {},
   "source": [
    "And of course it's also an instance of the superclass of the superclass."
   ]
  },
  {
   "cell_type": "code",
   "execution_count": null,
   "metadata": {},
   "outputs": [],
   "source": [
    "isinstance(square, Shape)"
   ]
  },
  {
   "cell_type": "markdown",
   "metadata": {},
   "source": [
    "The mother of all superclasses is object, so every object is an instance of object.  "
   ]
  },
  {
   "cell_type": "code",
   "execution_count": null,
   "metadata": {},
   "outputs": [],
   "source": [
    "isinstance(square, object)"
   ]
  },
  {
   "cell_type": "code",
   "execution_count": null,
   "metadata": {},
   "outputs": [],
   "source": [
    "isinstance(\"random string\", object)"
   ]
  }
 ],
 "metadata": {
  "kernelspec": {
   "display_name": "Python 3",
   "language": "python",
   "name": "python3"
  },
  "language_info": {
   "codemirror_mode": {
    "name": "ipython",
    "version": 3
   },
   "file_extension": ".py",
   "mimetype": "text/x-python",
   "name": "python",
   "nbconvert_exporter": "python",
   "pygments_lexer": "ipython3",
   "version": "3.5.2"
  }
 },
 "nbformat": 4,
 "nbformat_minor": 0
}
