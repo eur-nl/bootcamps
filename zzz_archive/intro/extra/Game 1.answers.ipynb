{
 "cells": [
  {
   "cell_type": "markdown",
   "metadata": {
    "deletable": true,
    "editable": true
   },
   "source": [
    "## Guessing Game 1"
   ]
  },
  {
   "cell_type": "markdown",
   "metadata": {
    "deletable": true,
    "editable": true
   },
   "source": [
    "A classic beginner programming problem: the guessing game.  \n",
    "The program generates a random integer, which the user needs to guess.  \n",
    "The user will get feedback if the guess is too low or high.  \n",
    "Once the guess is correct, congratulations all around.  \n",
    "\n",
    "Sounds good?\n",
    "\n"
   ]
  },
  {
   "cell_type": "markdown",
   "metadata": {
    "deletable": true,
    "editable": true
   },
   "source": [
    "<hr style=\"height: 3px; margin: 0\" />    \n",
    "### 1 A"
   ]
  },
  {
   "cell_type": "markdown",
   "metadata": {
    "deletable": true,
    "editable": true
   },
   "source": [
    "* Generate a random number between 1 and 9 (including 1 and 9).\n",
    "* Ask the user to guess the number, then tell them whether they guessed too low, too high, or exactly right.\n",
    "* Hint: remember to use the user input lessons from the very first exercise\n",
    "* Hint: write the program in pseudo code first"
   ]
  },
  {
   "cell_type": "markdown",
   "metadata": {
    "deletable": true,
    "editable": true
   },
   "source": [
    "```\n",
    "create the random number\n",
    "\n",
    "repeat until user guessed right\n",
    "    let user guess number\n",
    "    if guess exactly right\n",
    "        print exactly right\n",
    "        stop\n",
    "    else if guess too low\n",
    "        print too low\n",
    "    else\n",
    "        print too high\n",
    "```"
   ]
  },
  {
   "cell_type": "markdown",
   "metadata": {
    "deletable": true,
    "editable": true
   },
   "source": [
    "<hr style=\"height: 3px; margin: 0\" />    \n",
    "### 1 B"
   ]
  },
  {
   "cell_type": "markdown",
   "metadata": {
    "deletable": true,
    "editable": true
   },
   "source": [
    "* Translate pseudo to actual code\n",
    "* Hint: use the pseudo code as comments"
   ]
  },
  {
   "cell_type": "code",
   "execution_count": null,
   "metadata": {
    "deletable": true,
    "editable": true
   },
   "outputs": [],
   "source": [
    "import random\n",
    "\n",
    "# create the random number\n",
    "actual = random.randint(1,9)\n",
    "\n",
    "# repeat until user guessed right\n",
    "while True:\n",
    "    # let user guess number\n",
    "    guess = input(\"What is your Guess? \")\n",
    "    guess = int(guess)\n",
    "    \n",
    "    # guess exactly right\n",
    "    if guess == actual:\n",
    "        # print and stop\n",
    "        print(\"Exactly right!\")\n",
    "        break\n",
    "        \n",
    "    # guess too low\n",
    "    if guess < actual:\n",
    "        print(\"Too low!\")\n",
    "    # guess too high\n",
    "    else:\n",
    "        print(\"Too high!\")"
   ]
  },
  {
   "cell_type": "markdown",
   "metadata": {
    "deletable": true,
    "editable": true
   },
   "source": [
    "<hr style=\"height: 3px; margin: 0\" />    \n",
    "### 1 C"
   ]
  },
  {
   "cell_type": "markdown",
   "metadata": {
    "deletable": true,
    "editable": true
   },
   "source": [
    "Expand the game above with :\n",
    "\n",
    "* Allow the user to enter **exit**, to end the game prematurely\n",
    "* Count the guesses and show this when the game ends"
   ]
  },
  {
   "cell_type": "code",
   "execution_count": null,
   "metadata": {
    "deletable": true,
    "editable": true
   },
   "outputs": [],
   "source": [
    "import random\n",
    "\n",
    "actual = random.randint(1,9)\n",
    "tries = 1\n",
    "    \n",
    "while True:\n",
    "    guess = input(\"What is your Guess? \")\n",
    "    \n",
    "    if guess == 'exit':\n",
    "        print(\"Bye!\")\n",
    "        break\n",
    "        \n",
    "    guess = int(guess)\n",
    "    \n",
    "    if guess == actual:\n",
    "        print(\"You got it in %d tries!\" % tries)\n",
    "        break\n",
    "        \n",
    "    if guess < actual:\n",
    "        print(\"Too low!\")\n",
    "    else:\n",
    "        print(\"Too high!\")\n",
    "    \n",
    "    tries += 1    "
   ]
  },
  {
   "cell_type": "markdown",
   "metadata": {
    "deletable": true,
    "editable": true
   },
   "source": [
    "<hr style=\"height: 3px; margin: 0\" />    \n",
    "### 1 D"
   ]
  },
  {
   "cell_type": "markdown",
   "metadata": {
    "deletable": true,
    "editable": true
   },
   "source": [
    "* Expand the game above by asking the user for more games after a correct guess"
   ]
  },
  {
   "cell_type": "code",
   "execution_count": null,
   "metadata": {
    "deletable": true,
    "editable": true
   },
   "outputs": [],
   "source": [
    "import random\n",
    "\n",
    "def round():\n",
    "    actual = random.randint(1,9)\n",
    "    tries = 1\n",
    "    \n",
    "    while True:\n",
    "        guess = input(\"What is your guess? \")\n",
    "    \n",
    "        if guess == 'exit':\n",
    "            return False\n",
    "        \n",
    "        guess = int(guess)\n",
    "\n",
    "        if guess == actual:\n",
    "            print(\"You got it in %d tries!\" % tries)\n",
    "            return True\n",
    "\n",
    "        if guess < actual:\n",
    "            print(\"Too low!\")\n",
    "        else:\n",
    "            print(\"Too high!\")\n",
    "\n",
    "        tries += 1\n",
    "        \n",
    "def ask_more():\n",
    "    more = input(\"Do you want another round (Y/N)? \")\n",
    "    while True:\n",
    "        if more.lower() in [\"y\", \"yes\"]:\n",
    "            return True\n",
    "        elif more.lower() in [\"n\", \"no\"]:\n",
    "            return False\n",
    "        elif more.lower() == 'exit':\n",
    "            return False\n",
    "        else:\n",
    "            more = input(\"Please type yes or no \")\n",
    "   \n",
    "while True:    \n",
    "    guessed = round()\n",
    "    more = guessed and ask_more()\n",
    "    if not more:\n",
    "        print(\"\\nNo more games for you!\")\n",
    "        break"
   ]
  },
  {
   "cell_type": "markdown",
   "metadata": {
    "deletable": true,
    "editable": true
   },
   "source": [
    "<hr style=\"height: 3px; margin: 0\" />    \n",
    "### 1 E"
   ]
  },
  {
   "cell_type": "markdown",
   "metadata": {
    "deletable": true,
    "editable": true
   },
   "source": [
    "* Expand the game above by handling inputs other than 1-9 and exit"
   ]
  },
  {
   "cell_type": "code",
   "execution_count": null,
   "metadata": {
    "deletable": true,
    "editable": true
   },
   "outputs": [],
   "source": [
    "import random\n",
    "\n",
    "def ask_guess():\n",
    "    while True:\n",
    "        guess = input(\"What is your guess? \")\n",
    "        \n",
    "        # Also catch 'Exit' or 'EXIT' etc.\n",
    "        if guess.lower() == 'exit':\n",
    "            return 'exit'\n",
    "        \n",
    "        try:\n",
    "            guess = int(guess)\n",
    "            if guess in range(1, 10):\n",
    "                return guess\n",
    "            print(\"Only numbers 0 - 9 are allowed!\")\n",
    "        except ValueError as ve:\n",
    "            print(\"Only numbers 0 - 9 and the word 'exit' are allowed!\")\n",
    "    \n",
    "\n",
    "def round():\n",
    "    actual = random.randint(1,9)\n",
    "    tries = 1\n",
    "    \n",
    "    while True:\n",
    "        guess = ask_guess()\n",
    "    \n",
    "        if guess == 'exit':\n",
    "            return False\n",
    "        \n",
    "        if guess == actual:\n",
    "            print(\"You got it in %d tries!\" % tries)\n",
    "            return True\n",
    "\n",
    "        if guess < actual:\n",
    "            print(\"Too low!\")\n",
    "        else:\n",
    "            print(\"Too high!\")\n",
    "\n",
    "        tries += 1\n",
    "        \n",
    "def ask_more():\n",
    "    more = input(\"Do you want another round (Y/N)? \")\n",
    "    while True:\n",
    "        if more.lower() in [\"y\", \"yes\"]:\n",
    "            return True\n",
    "        elif more.lower() in [\"n\", \"no\"]:\n",
    "            return False\n",
    "        elif more.lower() == 'exit':\n",
    "            return False\n",
    "        else:\n",
    "            more = input(\"Please type yes or no \")\n",
    "   \n",
    "while True:    \n",
    "    guessed = round()\n",
    "    more = guessed and ask_more()\n",
    "    if not more:\n",
    "        print(\"\\nNo more games for you!\")\n",
    "        break"
   ]
  }
 ],
 "metadata": {
  "kernelspec": {
   "display_name": "Python 3",
   "language": "python",
   "name": "python3"
  },
  "language_info": {
   "codemirror_mode": {
    "name": "ipython",
    "version": 3
   },
   "file_extension": ".py",
   "mimetype": "text/x-python",
   "name": "python",
   "nbconvert_exporter": "python",
   "pygments_lexer": "ipython3",
   "version": "3.5.2"
  }
 },
 "nbformat": 4,
 "nbformat_minor": 2
}
