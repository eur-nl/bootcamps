{
  "nbformat": 4,
  "nbformat_minor": 0,
  "metadata": {
    "colab": {
      "name": "bibliography.ipynb",
      "version": "0.3.2",
      "provenance": [],
      "collapsed_sections": [],
      "include_colab_link": true
    },
    "kernelspec": {
      "name": "python3",
      "display_name": "Python 3"
    }
  },
  "cells": [
    {
      "cell_type": "markdown",
      "metadata": {
        "id": "view-in-github",
        "colab_type": "text"
      },
      "source": [
        "<a href=\"https://colab.research.google.com/github/eur-nl/bootcamps/blob/master/bibliography.ipynb\" target=\"_parent\"><img src=\"https://colab.research.google.com/assets/colab-badge.svg\" alt=\"Open In Colab\"/></a>"
      ]
    },
    {
      "cell_type": "markdown",
      "metadata": {
        "id": "0RphnW3ScgKF",
        "colab_type": "text"
      },
      "source": [
        "## Python Workshop 15, 16 May 2019\n",
        "\n",
        "### Short bibliography\n",
        "\n",
        "#### Computational Thinking\n",
        "\n",
        "A bit of a new angle on programming. A good introduction is the free Harvard course on edX:\n",
        "\n",
        "https://www.edx.org/course/cs50s-introduction-to-computer-science\n",
        "\n",
        "#### Python basics\n",
        "\n",
        "Lot's of good sources around, we especially like:\n",
        "\n",
        "- Zed Shaw, Learn Python the Hard Way\n",
        "- Al Sweigart, Automate the Boring Stuff with Python (https://automatetheboringstuff.com/)\n",
        "\n",
        "And also the free books by Alan Downey:\n",
        "\n",
        "https://github.com/AllenDowney\n",
        "\n",
        "#### Python for Scientific Computing (Overview)\n",
        "\n",
        "https://scipy-lectures.org/intro/intro.html\n",
        "\n",
        "#### Python and Data Science\n",
        "\n",
        "Many good tutorials around, although often these tutorials seem to stop a certain (similar) point.\n",
        "\n",
        "- Joel Grus, Data Science from Scratch (2nd ed.) (https://www.oreilly.com/library/view/data-science-from/9781492041122/)\n",
        "\n",
        "#### Python and Pandas\n",
        "\n",
        "- Wes McKinney, Python for Data Analysis (2nd ed.) (https://www.oreilly.com/library/view/python-for-data/9781491957653/)\n",
        "\n",
        "#### Python compared to R\n",
        "\n",
        "Always a bit of a difficult thing to compare languages, but the DataCamp analysis seems fair:\n",
        "\n",
        "https://www.datacamp.com/community/tutorials/r-or-python-for-data-analysis\n",
        "\n"
      ]
    }
  ]
}