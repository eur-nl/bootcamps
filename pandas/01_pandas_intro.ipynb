{
 "cells": [
  {
   "cell_type": "markdown",
   "metadata": {
    "colab_type": "text",
    "id": "view-in-github"
   },
   "source": [
    "<a href=\"https://colab.research.google.com/github/eur-nl/bootcamps/blob/master/pandas/01_pandas_intro.ipynb\" target=\"_parent\"><img src=\"https://colab.research.google.com/assets/colab-badge.svg\" alt=\"Open In Colab\"/></a>"
   ]
  },
  {
   "cell_type": "markdown",
   "metadata": {
    "colab_type": "text",
    "id": "zIjuP-Mes2hC"
   },
   "source": [
    "### Pandas: Introduction"
   ]
  },
  {
   "cell_type": "markdown",
   "metadata": {
    "colab_type": "text",
    "id": "IWfUtUIWs2hG"
   },
   "source": [
    "#### Under the hood"
   ]
  },
  {
   "cell_type": "markdown",
   "metadata": {
    "colab_type": "text",
    "id": "rv4Ay2KBs2hI"
   },
   "source": [
    "Suppose we have the following csv file, cash.csv:\n",
    "\n",
    "    date,person,dollars\n",
    "    2000-01-03,Michael,200\n",
    "    2000-01-03,George,500\n",
    "    2000-01-03,Lisa,450\n",
    "    2000-01-04,Michael,180.50\n",
    "    2000-01-04,George,450\n",
    "    2000-01-04,Lisa,448\n",
    "    2000-01-05,Michael,177\n",
    "    2000-01-05,George,420\n",
    "    2000-01-05,Lisa,447\n",
    "    2000-01-06,Michael,150\n",
    "    2000-01-06,George,300\n",
    "    2000-01-06,Lisa,344.60"
   ]
  },
  {
   "cell_type": "markdown",
   "metadata": {
    "colab_type": "text",
    "id": "vG7o-1rts2hJ"
   },
   "source": [
    "Suppose we want to use this file to do some calculations (total_earnings, total_cash_withdrawals, what are we looking at here?). We would have to process the contents of the file.\n",
    "\n",
    "In Python this could look like:\n",
    "\n",
    "    #!/usr/bin/env python\n",
    "    import sys\n",
    "    input_file = sys.argv[1]\n",
    "    # ... more stuff\n",
    "    with open(input_file, 'r', newline='') as filereader:\n",
    "        header = filereader.readline()\n",
    "        header = header.strip()\n",
    "        header_list = header.split(',')\n",
    "        # ... do something useful with the header\n",
    "        for row in filereader:\n",
    "            row = row.strip()\n",
    "            row_list = row.split(',')\n",
    "            # ... do something useful with the contents\n",
    "     # Report about the useful stuff"
   ]
  },
  {
   "cell_type": "code",
   "execution_count": null,
   "metadata": {
    "colab": {},
    "colab_type": "code",
    "collapsed": true,
    "id": "3ZSV8BLps2hL",
    "outputId": "e793bcb1-b4f4-490e-fb67-a8a51df1cc02"
   },
   "outputs": [
    {
     "ename": "FileNotFoundError",
     "evalue": "[Errno 2] No such file or directory: '-f'",
     "output_type": "error",
     "traceback": [
      "\u001b[0;31m---------------------------------------------------------------------------\u001b[0m",
      "\u001b[0;31mFileNotFoundError\u001b[0m                         Traceback (most recent call last)",
      "\u001b[0;32m<ipython-input-1-29e298d254d7>\u001b[0m in \u001b[0;36m<module>\u001b[0;34m()\u001b[0m\n\u001b[1;32m      5\u001b[0m \u001b[0moutput_file\u001b[0m \u001b[0;34m=\u001b[0m \u001b[0msys\u001b[0m\u001b[0;34m.\u001b[0m\u001b[0margv\u001b[0m\u001b[0;34m[\u001b[0m\u001b[0;36m2\u001b[0m\u001b[0;34m]\u001b[0m\u001b[0;34m\u001b[0m\u001b[0m\n\u001b[1;32m      6\u001b[0m \u001b[0;34m\u001b[0m\u001b[0m\n\u001b[0;32m----> 7\u001b[0;31m \u001b[0;32mwith\u001b[0m \u001b[0mopen\u001b[0m\u001b[0;34m(\u001b[0m\u001b[0minput_file\u001b[0m\u001b[0;34m,\u001b[0m \u001b[0;34m'r'\u001b[0m\u001b[0;34m,\u001b[0m \u001b[0mnewline\u001b[0m\u001b[0;34m=\u001b[0m\u001b[0;34m''\u001b[0m\u001b[0;34m)\u001b[0m \u001b[0;32mas\u001b[0m \u001b[0mfilereader\u001b[0m\u001b[0;34m:\u001b[0m\u001b[0;34m\u001b[0m\u001b[0m\n\u001b[0m\u001b[1;32m      8\u001b[0m     \u001b[0;32mwith\u001b[0m \u001b[0mopen\u001b[0m\u001b[0;34m(\u001b[0m\u001b[0moutput_file\u001b[0m\u001b[0;34m,\u001b[0m \u001b[0;34m'w'\u001b[0m\u001b[0;34m,\u001b[0m \u001b[0mnewline\u001b[0m\u001b[0;34m=\u001b[0m\u001b[0;34m''\u001b[0m\u001b[0;34m)\u001b[0m \u001b[0;32mas\u001b[0m \u001b[0mfilewriter\u001b[0m\u001b[0;34m:\u001b[0m\u001b[0;34m\u001b[0m\u001b[0m\n\u001b[1;32m      9\u001b[0m         \u001b[0mheader\u001b[0m \u001b[0;34m=\u001b[0m \u001b[0mfilereader\u001b[0m\u001b[0;34m.\u001b[0m\u001b[0mreadline\u001b[0m\u001b[0;34m(\u001b[0m\u001b[0;34m)\u001b[0m\u001b[0;34m\u001b[0m\u001b[0m\n",
      "\u001b[0;31mFileNotFoundError\u001b[0m: [Errno 2] No such file or directory: '-f'"
     ]
    }
   ],
   "source": [
    "#!/usr/bin/env python\n",
    "import sys\n",
    "\n",
    "input_file = sys.argv[1]\n",
    "output_file = sys.argv[2]\n",
    "\n",
    "with open(input_file, 'r', newline='') as filereader:\n",
    "    with open(output_file, 'w', newline='') as filewriter:\n",
    "        header = filereader.readline()\n",
    "        header = header.strip()\n",
    "        header_list = header.split(',')\n",
    "        print(header_list)\n",
    "        filewriter.write(','.join(map(str,header_list))+'\\n')\n",
    "        for row in filereader:\n",
    "            row = row.strip()\n",
    "            row_list = row.split(',')\n",
    "            print(row_list)\n",
    "            filewriter.write(','.join(map(str,row_list))+'\\n')"
   ]
  },
  {
   "cell_type": "markdown",
   "metadata": {
    "colab_type": "text",
    "id": "cXlzrSJds2hT"
   },
   "source": [
    "So what does the code do?\n",
    "\n",
    "The first line is a comment line that makes the script usuable on various platforms.\n",
    "On the second line we import the sys (short for system) library, so that we in the next two lines can assign the first two arguments after the program name, when we run the file, to the variables \"input_file\" and \"output_file\".\n",
    "\n",
    "Then, with line 7, we open the file for reading ('r') from the commandline referred to by the variable \"input_file\" as a file object referred to as \"filereader\". In the next line we open a file for writing ('w') as a file object filewriter. Remember that list indexing in Python starts with 0. So argv[0] always refers to the script that one runs, argv[1] is the next argument on the commandline (the input_file) and argv[2] refers to the output_file.\n",
    "\n",
    "Line 9 uses the file_object's readline method to read in the first line of the input file as a string and assigns it to a variable named \"header\". So \"header\" now contains the first line of the input file \"food,amount,calories\". With line 10 we strip all whitespace from the string and line 11 splits the content of header on the  \",\" into a list of strings: ['food', 'amount', 'calories'] referred to by the variable \"header_list\".\n",
    "\n",
    "Then we do two things: Line 12 prints the content of \"header_list\" to standard output (the terminal when running the program) and line 13 writes the contents of \"header list\" to the filewriter object but it does the opposite of the split method: first of all it maps the \"str\" function over all elements of the \"header_list\", then it joins these elements with a ',' and adds a newline at the end.\n",
    "\n",
    "So what it does is: ['food', 'amount', 'calories'] => 'food,amount,calories' and hands it over to filewriter. The rest of the input file is going through the same motion, but we use a for loop here to process all remaining lines of the input file.\n",
    "\n",
    "So we did write a little \"roundtripper\" that touched all elements of the csv file (input), writing intermediate results to screen, and writing the end result to file.\n",
    "\n",
    "Now this might seem like a lot of work for doing \"nothing\", but it served a special purpose here: Showing how to process a csv file *not* using any libraries. But what is more, we could have done all sorts of useful stuff before writing the contents of the input file back to the output file."
   ]
  },
  {
   "cell_type": "markdown",
   "metadata": {
    "colab_type": "text",
    "id": "YGeUqMGls2hU"
   },
   "source": [
    "In the following snippet, csv_02.py, we use the Python library \"csv\" to do most of the work for us. We use the reader method of the library to read the contents of the csv file into a reader object.\n",
    "\n",
    "If we use the file csv_02.py to print the contents of the file \"calories.csv\" to screen, we see that the library did the same as our reader function in csv_01.py: splitting the items of a line into a list of strings."
   ]
  },
  {
   "cell_type": "code",
   "execution_count": null,
   "metadata": {
    "colab": {},
    "colab_type": "code",
    "id": "_-1KVJwDs2hX"
   },
   "outputs": [],
   "source": [
    "#!/usr/bin/env python\n",
    "import csv\n",
    "\n",
    "def dataset(path):\n",
    "    with open(path, 'rU') as data:\n",
    "        reader = csv.reader(data)\n",
    "        for row in reader:\n",
    "            row[2] = int(row[2])\n",
    "            yield row"
   ]
  },
  {
   "cell_type": "markdown",
   "metadata": {
    "colab_type": "text",
    "id": "5WLGevt2s2hb"
   },
   "source": [
    "Suppose we did make a directory (\"~/Projects/myproject\") and stored the files we mentioned there, then we just could have opened up a Python REPL with the command: python or ipython"
   ]
  },
  {
   "cell_type": "code",
   "execution_count": null,
   "metadata": {
    "colab": {},
    "colab_type": "code",
    "id": "G-ONIKFks2hc"
   },
   "outputs": [],
   "source": [
    "# After the prompt (\">>>\") enter the following line:\n",
    "from foo import dataset # and hit [return]\n",
    "# And then the following two lines\n",
    "for row in dataset(\"calories.csv\"):\n",
    "    print(row)"
   ]
  },
  {
   "cell_type": "markdown",
   "metadata": {
    "colab_type": "text",
    "id": "Cpdp--qos2hh"
   },
   "source": [
    "![Python REPL commands](https://github.com/eur-nl/bootcamps/blob/master/pandas/graphics/pandas_intro_01.png?raw=1)"
   ]
  },
  {
   "cell_type": "markdown",
   "metadata": {
    "colab_type": "text",
    "id": "KQBflsI6s2hi"
   },
   "source": [
    "We can add the command we just entered, and which you can see in the image above, to the file foo.py"
   ]
  },
  {
   "cell_type": "code",
   "execution_count": null,
   "metadata": {
    "colab": {},
    "colab_type": "code",
    "id": "Q4aUcotIs2hj"
   },
   "outputs": [],
   "source": [
    "#!/usr/bin/env python\n",
    "import csv\n",
    "\n",
    "def dataset(path):\n",
    "    with open(path, 'rU') as data:\n",
    "        reader = csv.reader(data)\n",
    "        for row in reader:\n",
    "            row[2] = int(row[2])\n",
    "            yield row\n",
    "            \n",
    "if __name__ == '__main__':\n",
    "    for row in dataset(\"calories.csv\"):\n",
    "        print(row[0])"
   ]
  },
  {
   "cell_type": "markdown",
   "metadata": {
    "colab_type": "text",
    "id": "Jl4MOPass2hp"
   },
   "source": [
    "The trick here is the line beginning with \"if __name__ ==\" which makes that we can run the file as input to Python, from the commandline."
   ]
  },
  {
   "cell_type": "markdown",
   "metadata": {
    "colab_type": "text",
    "id": "VuvT2zQOs2hr"
   },
   "source": [
    "![Run foo.py from the CLI](https://github.com/eur-nl/bootcamps/blob/master/pandas/graphics/pandas_intro_02.png?raw=1)"
   ]
  },
  {
   "cell_type": "markdown",
   "metadata": {
    "colab_type": "text",
    "id": "v2QCvnOys2hs"
   },
   "source": [
    "So, now we have a project directory with a data file and a small program. There exist some guidelines how to properly structure a larger Python project.\n",
    "\n",
    "You will find more information on the website of Zed Shaw [Learn Python the hard way](https://learnpythonthehardway.org/book/ex46.html)\n",
    "\n",
    "One uses a standard directory structure, together with virtual environments and everything under version control."
   ]
  },
  {
   "cell_type": "markdown",
   "metadata": {
    "colab_type": "text",
    "id": "e7NG-kXXs2ht"
   },
   "source": [
    "We have seen how libraries can simplify your work by shielding you off a lot low-level details. On the other hand, when things go wrong, and things will go wrong:-), you are looking at a black box, unless you understand what a library provide under the hood. That is why it always is a good idea to study the documentation and examples a library provides carefully. Start testing the problems you want to solve right away, plug them in, instead of just following the tutorial."
   ]
  },
  {
   "cell_type": "markdown",
   "metadata": {
    "colab_type": "text",
    "id": "imMOPsghs2hv"
   },
   "source": [
    "In the first example we read in a csv file line by line and in our second try we saw that using the csv library, we could use its reader method to return an iterator over all rows of the csv file.\n",
    "\n",
    "The Pandas library reads in a csv file and returns a dataframe."
   ]
  },
  {
   "cell_type": "code",
   "execution_count": 2,
   "metadata": {
    "colab": {
     "base_uri": "https://localhost:8080/",
     "height": 168
    },
    "colab_type": "code",
    "id": "9WbeZfQ-s2hw",
    "outputId": "68d958be-ca2e-45c8-b715-967a77073568"
   },
   "outputs": [
    {
     "data": {
      "text/html": [
       "<div>\n",
       "<style scoped>\n",
       "    .dataframe tbody tr th:only-of-type {\n",
       "        vertical-align: middle;\n",
       "    }\n",
       "\n",
       "    .dataframe tbody tr th {\n",
       "        vertical-align: top;\n",
       "    }\n",
       "\n",
       "    .dataframe thead th {\n",
       "        text-align: right;\n",
       "    }\n",
       "</style>\n",
       "<table border=\"1\" class=\"dataframe\">\n",
       "  <thead>\n",
       "    <tr style=\"text-align: right;\">\n",
       "      <th></th>\n",
       "      <th>food</th>\n",
       "      <th>amount</th>\n",
       "      <th>0</th>\n",
       "    </tr>\n",
       "  </thead>\n",
       "  <tbody>\n",
       "    <tr>\n",
       "      <th>0</th>\n",
       "      <td>butter</td>\n",
       "      <td>tbsp</td>\n",
       "      <td>102</td>\n",
       "    </tr>\n",
       "    <tr>\n",
       "      <th>1</th>\n",
       "      <td>cheddar cheese</td>\n",
       "      <td>slice</td>\n",
       "      <td>113</td>\n",
       "    </tr>\n",
       "    <tr>\n",
       "      <th>2</th>\n",
       "      <td>whole milk</td>\n",
       "      <td>cup</td>\n",
       "      <td>148</td>\n",
       "    </tr>\n",
       "    <tr>\n",
       "      <th>3</th>\n",
       "      <td>hamburger</td>\n",
       "      <td>item</td>\n",
       "      <td>254</td>\n",
       "    </tr>\n",
       "  </tbody>\n",
       "</table>\n",
       "</div>"
      ],
      "text/plain": [
       "             food amount    0\n",
       "0          butter   tbsp  102\n",
       "1  cheddar cheese  slice  113\n",
       "2      whole milk    cup  148\n",
       "3       hamburger   item  254"
      ]
     },
     "execution_count": 2,
     "metadata": {
      "tags": []
     },
     "output_type": "execute_result"
    }
   ],
   "source": [
    "import pandas as pd\n",
    "url = \"https://raw.githubusercontent.com/eur-nl/bootcamps/master/pandas/data/calories.csv\"\n",
    "df = pd.read_csv(url)\n",
    "df.head()"
   ]
  },
  {
   "cell_type": "markdown",
   "metadata": {
    "colab_type": "text",
    "id": "s2GIaze5s2h0"
   },
   "source": [
    "Before we dive deeper into Pandas, we present the code for our \"roundtrip\" example."
   ]
  },
  {
   "cell_type": "code",
   "execution_count": null,
   "metadata": {
    "colab": {},
    "colab_type": "code",
    "id": "znBTswkSs2h1"
   },
   "outputs": [],
   "source": [
    "#!/usr/bin/env python\n",
    "import sys\n",
    "import pandas as pd\n",
    "input_file = sys.argv[1]\n",
    "output_file = sys.argv[2]\n",
    "data_frame = pd.read_csv(input_file) print(data_frame) data_frame.to_csv(output_file, index=False)"
   ]
  },
  {
   "cell_type": "markdown",
   "metadata": {
    "colab_type": "text",
    "id": "rpV1hKn_s2h4"
   },
   "source": [
    "We can run this file in the project directory as:\n",
    "\n",
    "  python csv_03.py calories.csv out3.csv"
   ]
  },
  {
   "cell_type": "markdown",
   "metadata": {
    "colab_type": "text",
    "id": "QEC5Wrw6s2h5"
   },
   "source": [
    "### Pandas intro"
   ]
  },
  {
   "cell_type": "markdown",
   "metadata": {
    "colab_type": "text",
    "id": "l4nCjviks2h6"
   },
   "source": [
    "Pandas uses two data structures: series and dataframes."
   ]
  },
  {
   "cell_type": "markdown",
   "metadata": {
    "colab_type": "text",
    "id": "NlOSA6cOs2h7"
   },
   "source": [
    "A series is a one-dimensional array-like object containg a sequence of values and an associated array of data labels, called its *index*."
   ]
  },
  {
   "cell_type": "code",
   "execution_count": null,
   "metadata": {
    "colab": {},
    "colab_type": "code",
    "id": "6urM19Las2h8",
    "outputId": "a5d452f6-c143-428c-86d4-c3b2333095a6"
   },
   "outputs": [
    {
     "data": {
      "text/plain": [
       "0    4\n",
       "1    7\n",
       "2   -5\n",
       "3    3\n",
       "dtype: int64"
      ]
     },
     "execution_count": 4,
     "metadata": {
      "tags": []
     },
     "output_type": "execute_result"
    }
   ],
   "source": [
    "import pandas as pd\n",
    "obj = pd.Series([4, 7, -5, 3])\n",
    "obj"
   ]
  },
  {
   "cell_type": "markdown",
   "metadata": {
    "colab_type": "text",
    "id": "64gK9YP5s2iB"
   },
   "source": [
    "Pandas generated the index for us, sequentially numbering the elements of the list we defined as our series. Both parts of the Series, the index and the array, are available"
   ]
  },
  {
   "cell_type": "code",
   "execution_count": null,
   "metadata": {
    "colab": {},
    "colab_type": "code",
    "id": "Ddt8oZfFs2iC"
   },
   "outputs": [],
   "source": [
    "obj.values"
   ]
  },
  {
   "cell_type": "code",
   "execution_count": null,
   "metadata": {
    "colab": {},
    "colab_type": "code",
    "id": "Cp2szn_Es2iE"
   },
   "outputs": [],
   "source": [
    "obj.index"
   ]
  },
  {
   "cell_type": "markdown",
   "metadata": {
    "colab_type": "text",
    "id": "gRdcZNzIs2iH"
   },
   "source": [
    "It is also possible to label the data points while constructing the series:"
   ]
  },
  {
   "cell_type": "code",
   "execution_count": null,
   "metadata": {
    "colab": {},
    "colab_type": "code",
    "id": "17IGCTn1s2iI"
   },
   "outputs": [],
   "source": [
    "obj2 = pd.Series([4, 7, -5, 3], index = ['a', 'b', 'c', 'd'])\n",
    "obj2"
   ]
  },
  {
   "cell_type": "code",
   "execution_count": null,
   "metadata": {
    "colab": {},
    "colab_type": "code",
    "id": "7SWH-I_ws2iL"
   },
   "outputs": [],
   "source": [
    "obj2['a']"
   ]
  },
  {
   "cell_type": "markdown",
   "metadata": {
    "colab_type": "text",
    "id": "aZW0f12Ws2iO"
   },
   "source": [
    "Because under the hood the Pandas series is a Numpy vector, we can do all sorts of Numpy-like operations on it."
   ]
  },
  {
   "cell_type": "code",
   "execution_count": null,
   "metadata": {
    "colab": {},
    "colab_type": "code",
    "id": "ACk3NJf5s2iS"
   },
   "outputs": [],
   "source": [
    "# Boolean filtering\n",
    "obj2[obj2 > 0]"
   ]
  },
  {
   "cell_type": "code",
   "execution_count": null,
   "metadata": {
    "colab": {},
    "colab_type": "code",
    "id": "vGcKAjB9s2iY"
   },
   "outputs": [],
   "source": [
    "# scalar multiplication\n",
    "obj2 * 2"
   ]
  },
  {
   "cell_type": "code",
   "execution_count": null,
   "metadata": {
    "colab": {},
    "colab_type": "code",
    "id": "8AVGTHhfs2ie"
   },
   "outputs": [],
   "source": [
    "# applying math functions\n",
    "import numpy as np\n",
    "np.exp2(obj2) # calculate 2**x for all elements of the array"
   ]
  },
  {
   "cell_type": "markdown",
   "metadata": {
    "colab_type": "text",
    "id": "KoayN0QMs2ii"
   },
   "source": [
    "This looks a lot like a Python dictionary or dict: A fixed-length, ordered dict that maps index values to data values. In fact when we have a Python dict we can just create a Series from it."
   ]
  },
  {
   "cell_type": "code",
   "execution_count": null,
   "metadata": {
    "colab": {},
    "colab_type": "code",
    "id": "OdHMLtVAs2ij"
   },
   "outputs": [],
   "source": [
    "sdata = {'Ohio': 35000, 'Texas': 71000, 'Oregon': 16000, 'Utah': 5000}"
   ]
  },
  {
   "cell_type": "code",
   "execution_count": null,
   "metadata": {
    "colab": {},
    "colab_type": "code",
    "id": "uGiKMUoXs2in",
    "outputId": "a56c52c6-0103-4bbf-9f2c-ba32f4aaa2d0"
   },
   "outputs": [
    {
     "data": {
      "text/plain": [
       "Ohio      35000\n",
       "Oregon    16000\n",
       "Texas     71000\n",
       "Utah       5000\n",
       "dtype: int64"
      ]
     },
     "execution_count": 5,
     "metadata": {
      "tags": []
     },
     "output_type": "execute_result"
    }
   ],
   "source": [
    "obj3 = pd.Series(sdata)\n",
    "obj3"
   ]
  },
  {
   "cell_type": "markdown",
   "metadata": {
    "colab_type": "text",
    "id": "WOaraYMss2ir"
   },
   "source": [
    "Then there is the Pandas workhorse: The dataframe.\n",
    "\n",
    "A dataframe represents a rectangular table of data and contains an ordered collection of columns, each of  these columns can be of a different value type.\n",
    "\n",
    "Think of it as a dict of series that all share the same index."
   ]
  },
  {
   "cell_type": "code",
   "execution_count": null,
   "metadata": {
    "colab": {},
    "colab_type": "code",
    "id": "Tl5hwXuQs2ir",
    "outputId": "d5ddaacd-6050-4dff-c616-e72a3e47a2e0"
   },
   "outputs": [
    {
     "data": {
      "text/html": [
       "<div>\n",
       "<table border=\"1\" class=\"dataframe\">\n",
       "  <thead>\n",
       "    <tr style=\"text-align: right;\">\n",
       "      <th></th>\n",
       "      <th>pop</th>\n",
       "      <th>state</th>\n",
       "      <th>year</th>\n",
       "    </tr>\n",
       "  </thead>\n",
       "  <tbody>\n",
       "    <tr>\n",
       "      <th>0</th>\n",
       "      <td>1.5</td>\n",
       "      <td>Ohio</td>\n",
       "      <td>2000</td>\n",
       "    </tr>\n",
       "    <tr>\n",
       "      <th>1</th>\n",
       "      <td>1.7</td>\n",
       "      <td>Ohio</td>\n",
       "      <td>2001</td>\n",
       "    </tr>\n",
       "    <tr>\n",
       "      <th>2</th>\n",
       "      <td>3.6</td>\n",
       "      <td>Ohio</td>\n",
       "      <td>2002</td>\n",
       "    </tr>\n",
       "    <tr>\n",
       "      <th>3</th>\n",
       "      <td>2.4</td>\n",
       "      <td>Nevada</td>\n",
       "      <td>2001</td>\n",
       "    </tr>\n",
       "    <tr>\n",
       "      <th>4</th>\n",
       "      <td>2.9</td>\n",
       "      <td>Nevada</td>\n",
       "      <td>2002</td>\n",
       "    </tr>\n",
       "  </tbody>\n",
       "</table>\n",
       "</div>"
      ],
      "text/plain": [
       "   pop   state  year\n",
       "0  1.5    Ohio  2000\n",
       "1  1.7    Ohio  2001\n",
       "2  3.6    Ohio  2002\n",
       "3  2.4  Nevada  2001\n",
       "4  2.9  Nevada  2002"
      ]
     },
     "execution_count": 7,
     "metadata": {
      "tags": []
     },
     "output_type": "execute_result"
    }
   ],
   "source": [
    "data = {'state': ['Ohio', 'Ohio', 'Ohio', 'Nevada', 'Nevada'],\n",
    "        'year': [2000, 2001, 2002, 2001, 2002],\n",
    "        'pop': [1.5, 1.7, 3.6, 2.4, 2.9]\n",
    "       }\n",
    "\n",
    "frame = pd.DataFrame(data)\n",
    "frame"
   ]
  },
  {
   "cell_type": "markdown",
   "metadata": {
    "colab_type": "text",
    "id": "cprd5II9s2iu"
   },
   "source": [
    "There is a lot to say about the internal representation of dataframes in Pandas. If you are going to use the Pandas library for your work, be sure to read chapter 5 of Wes Mckinney's book (Python for Data Analysis 2E) carefully, because it discusses the ways indices work in detail.\n",
    "\n",
    "We are going to look at Pandas in the context of creating \"Tidy Data\"."
   ]
  }
 ],
 "metadata": {
  "colab": {
   "include_colab_link": true,
   "name": "01_pandas_intro.ipynb",
   "provenance": [],
   "version": "0.3.2"
  },
  "kernelspec": {
   "display_name": "Python 3",
   "language": "python",
   "name": "python3"
  },
  "language_info": {
   "codemirror_mode": {
    "name": "ipython",
    "version": 3
   },
   "file_extension": ".py",
   "mimetype": "text/x-python",
   "name": "python",
   "nbconvert_exporter": "python",
   "pygments_lexer": "ipython3",
   "version": "3.7.1"
  }
 },
 "nbformat": 4,
 "nbformat_minor": 2
}
