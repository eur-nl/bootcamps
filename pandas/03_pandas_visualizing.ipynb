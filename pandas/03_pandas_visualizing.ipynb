{
 "cells": [
  {
   "cell_type": "markdown",
   "metadata": {},
   "source": [
    "### Pandas: visualizing with Seaborn"
   ]
  },
  {
   "cell_type": "markdown",
   "metadata": {},
   "source": [
    "We need some data. For this we use a well-known R dataset: Diamonds. We'll grab the dataset from Github."
   ]
  },
  {
   "cell_type": "code",
   "execution_count": null,
   "metadata": {},
   "outputs": [],
   "source": [
    "import pandas as pd\n",
    "\n",
    "df = pd.read_csv('http://vincentarelbundock.github.io/Rdatasets/csv/ggplot2/diamonds.csv')\n",
    "df.head()"
   ]
  },
  {
   "cell_type": "markdown",
   "metadata": {},
   "source": [
    "We do not need the former index column 'Unnamed: 0'"
   ]
  },
  {
   "cell_type": "code",
   "execution_count": null,
   "metadata": {},
   "outputs": [],
   "source": [
    "df = df.drop(['Unnamed: 0'], axis = 1)"
   ]
  },
  {
   "cell_type": "markdown",
   "metadata": {},
   "source": [
    "Another way of getting a grip on the dataframe one is working with is to use the info() method."
   ]
  },
  {
   "cell_type": "code",
   "execution_count": null,
   "metadata": {},
   "outputs": [],
   "source": [
    "df.info()"
   ]
  },
  {
   "cell_type": "markdown",
   "metadata": {},
   "source": [
    "Visualizing or plotting is a field of its own. Basically one uses visualizing either to get a firmer grip on the data one is working with, or, once you did that, to get an argument across.\n",
    "\n",
    "What library one uses to visualize stuff depends on your choice what is the best tool to get the job done.\n",
    "\n",
    "Often matplotlib or the Pandas built-in plotting are used in the exploratory phases. For top knotch visual presentations one can use one of several libraries: Bokeh, Seaborn, etc."
   ]
  },
  {
   "cell_type": "code",
   "execution_count": null,
   "metadata": {},
   "outputs": [],
   "source": [
    "%matplotlib inline\n",
    "import matplotlib.pyplot as plt\n",
    "\n",
    "fig, ax = plt.subplots()\n",
    "ax.scatter(x='carat', y='depth', data=df, c='b', alpha=.10)"
   ]
  },
  {
   "cell_type": "markdown",
   "metadata": {},
   "source": [
    "Built in plotting in Pandas, for series and dataframes, is a simple wrapper around plt.plot().\n",
    "\n",
    "Which means we can also write:"
   ]
  },
  {
   "cell_type": "code",
   "execution_count": null,
   "metadata": {},
   "outputs": [],
   "source": [
    "df.plot.scatter(x='carat', y='price')"
   ]
  },
  {
   "cell_type": "markdown",
   "metadata": {},
   "source": [
    "What else can you do with the plot() method?\n",
    "\n",
    "  - plot.area\n",
    "  - plot.bar\n",
    "  - plot.barh\n",
    "  - ...\n",
    "  - plot.pie\n",
    "\n",
    "And there are more plotting functions in pandas.tools.plotting:\n",
    "\n",
    "  - Scatter matrix\n",
    "  - Andrews curves\n",
    "  - Parallel coordinates\n",
    "  - Lag plot\n",
    "  - Autocorre;ation plot\n",
    "  - Bootstrap plot\n",
    "  - RadViz"
   ]
  },
  {
   "cell_type": "markdown",
   "metadata": {},
   "source": [
    "Seaborn is a visualization library that allows for easy exploration of data contained in series or dataframes. Just as with Matplotlib, on which Seaplot is built, you define the data that you want to use on x and y axes."
   ]
  },
  {
   "cell_type": "code",
   "execution_count": null,
   "metadata": {},
   "outputs": [],
   "source": [
    "import seaborn as sns\n",
    "\n",
    "sns.countplot(x='cut', data=df)\n",
    "sns.despine()"
   ]
  },
  {
   "cell_type": "code",
   "execution_count": null,
   "metadata": {},
   "outputs": [],
   "source": [
    "sns.barplot(x='cut', y='price', data=df)"
   ]
  },
  {
   "cell_type": "markdown",
   "metadata": {},
   "source": [
    "One can do pretty amazing visualizations with Seaborn (but I am not an expert). The documentation is thorough, so you will probably find your way around."
   ]
  },
  {
   "cell_type": "markdown",
   "metadata": {},
   "source": [
    "One last example. We will plot carat, price, and color to investigate whether there are \"expensive\" colors."
   ]
  },
  {
   "cell_type": "code",
   "execution_count": null,
   "metadata": {},
   "outputs": [],
   "source": [
    "g = sns.FacetGrid(df, col='color', hue='color', col_wrap=4)\n",
    "g.map(sns.regplot, 'carat', 'price')"
   ]
  },
  {
   "cell_type": "markdown",
   "metadata": {},
   "source": [
    "Further reading:\n",
    "\n",
    "  - [Matplotlib](http://matplotlib.org/api/)\n",
    "  - [Pandas plotting](http://pandas.pydata.org/pandas-docs/stable/visualization.html)\n",
    "  - [Seaborn](http://seaborn.pydata.org/)"
   ]
  }
 ],
 "metadata": {
  "kernelspec": {
   "display_name": "Python 3",
   "language": "python",
   "name": "python3"
  },
  "language_info": {
   "codemirror_mode": {
    "name": "ipython",
    "version": 3
   },
   "file_extension": ".py",
   "mimetype": "text/x-python",
   "name": "python",
   "nbconvert_exporter": "python",
   "pygments_lexer": "ipython3",
   "version": "3.7.1"
  }
 },
 "nbformat": 4,
 "nbformat_minor": 2
}
