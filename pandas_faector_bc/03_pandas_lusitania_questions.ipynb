{
 "cells": [
  {
   "cell_type": "markdown",
   "metadata": {},
   "source": [
    "### The Lusitania\n",
    "\n",
    "The RMS Lusitania was a British ocean liner that was topedoed near the Irish coast on the afternoon of May 7th 1915 by a German U-boat. The ship sank in 18 minutes and 1198 passengers and crew died in the disaster."
   ]
  },
  {
   "cell_type": "markdown",
   "metadata": {},
   "source": [
    "![The Lusitania](lusitania.jpeg)"
   ]
  },
  {
   "cell_type": "markdown",
   "metadata": {},
   "source": [
    "Q: Open up the raw csv file (\"lusitania.csv\") in your editor of choice. Have a look at the data."
   ]
  },
  {
   "cell_type": "markdown",
   "metadata": {},
   "source": [
    "Q: Try to load the csv file \"lusitania.csv\" that is in the data directory in a Pandas dataframe. Do not forget to load the libraries you need."
   ]
  },
  {
   "cell_type": "markdown",
   "metadata": {},
   "source": [
    "Q: Use the head() method to have a look at the first entries and make some notes about the data."
   ]
  },
  {
   "cell_type": "markdown",
   "metadata": {},
   "source": [
    "Q: Using some of the built-in Pandas methods get to know the data in the Lusitania file. Compared to what we found out about the Titanic, do you see differences? What is the status of the data? Is it tidy? Are there many missing values? Use the Titanic Notebook as a guide (02_pandas_titanic.ipynb)."
   ]
  },
  {
   "cell_type": "markdown",
   "metadata": {},
   "source": [
    "Q: If you used the describe() method, explain the result [just one column]. What is the dataframe method that you find most useful to get a grip on the data contained in the Lusitania csv file. Use the method below and explain your answer in a separate cell."
   ]
  },
  {
   "cell_type": "markdown",
   "metadata": {},
   "source": [
    "Q: Based on your insights sofar, after exploring the data, first describe in some cells below what you need to do in order to get some insights in the survival rate of the passengers."
   ]
  },
  {
   "cell_type": "markdown",
   "metadata": {},
   "source": [
    "Cleaning:\n",
    "\n",
    "- There are a lot of columns that are of no use due to lack of data that can be discarded: Position, County, Lifeboat, Rescue Vessel, Body No., Ticket No., Cabin No.;\n",
    "- There are some columns that are incomplete, but perhaps useful (we must take a closer look): Status, Travelling companions;\n",
    "- There is a column that is complete, but has puzzling values: Value;\n",
    "- And there is the Age column, that is important, but incomplete and not in numerical format."
   ]
  },
  {
   "cell_type": "markdown",
   "metadata": {},
   "source": [
    "Q: Try to implement (parts of) your plan in the cells below."
   ]
  },
  {
   "cell_type": "markdown",
   "metadata": {},
   "source": [
    "Travelling companions is an interesting column, because the column header is \"Traveling Companions and other notes\", which is a big *nono* because it makes some basic useful commands useless:"
   ]
  },
  {
   "cell_type": "code",
   "execution_count": 11,
   "metadata": {},
   "outputs": [
    {
     "ename": "SyntaxError",
     "evalue": "invalid syntax (<ipython-input-11-781e21be4162>, line 1)",
     "output_type": "error",
     "traceback": [
      "\u001b[0;36m  File \u001b[0;32m\"<ipython-input-11-781e21be4162>\"\u001b[0;36m, line \u001b[0;32m1\u001b[0m\n\u001b[0;31m    df_lusitania.Traveling Companions and other notes.unique()\u001b[0m\n\u001b[0m                                    ^\u001b[0m\n\u001b[0;31mSyntaxError\u001b[0m\u001b[0;31m:\u001b[0m invalid syntax\n"
     ]
    }
   ],
   "source": [
    "df_lusitania.Traveling Companions and other notes.unique()"
   ]
  },
  {
   "cell_type": "markdown",
   "metadata": {},
   "source": [
    "Q: Try to find a way to change the name of the column"
   ]
  },
  {
   "cell_type": "markdown",
   "metadata": {},
   "source": [
    "Q: What command should we run next?"
   ]
  },
  {
   "cell_type": "markdown",
   "metadata": {},
   "source": [
    "A lot of information here. If we were to prepare some extra columns for this dataset (like the ones that we found in the Titanic dataset: sibsp and parch) we could use this information. For now, we will leave them in."
   ]
  },
  {
   "cell_type": "markdown",
   "metadata": {},
   "source": [
    "Q: That leaves us with the Age column. We have to resolve similar problems as with the Age column of the Titanic dataset: We have strings instead of numbers and we have missing values.\n",
    "\n",
    "Re-use the code from the Titanic dataset to clean the Lusitania Age column."
   ]
  },
  {
   "cell_type": "markdown",
   "metadata": {},
   "source": [
    "Q: In case that code throws an error, try to formulate a way to get out of the mess. Or, if you are in a hurry, read in the cleaned datafile: lusitania_02.csv"
   ]
  },
  {
   "cell_type": "markdown",
   "metadata": {},
   "source": [
    "I opened up my editor of choice (Emacs) and ran:\n",
    "M-x occur[RET]\n",
    "[0-9]\\ \\?;[RET]\n",
    "\n",
    "This gave me a  list of 10 matches that I repaired by hand. The result is a new version of the csv file: lusitania_02.csv. Running the command above again, gave me another error. Some rows (c. 35) of the Age column contain values like: '14-months' or '03-months', '3-6-months ?'. I have changed these entries into '2', '1', and '1'. Then there were entries like: 22?, 22 or 34?, Infant, etc."
   ]
  },
  {
   "cell_type": "markdown",
   "metadata": {},
   "source": [
    "Q: After some cleaning, we are now ready to fill in the missing data:"
   ]
  },
  {
   "cell_type": "markdown",
   "metadata": {},
   "source": [
    "Q: Run a quick ckeck if all 'Age' slots are filled:"
   ]
  },
  {
   "cell_type": "markdown",
   "metadata": {},
   "source": [
    "Q: Use the crosstab() method on the dataframe to compare the 'Age' column with the 'Fate' column:"
   ]
  },
  {
   "cell_type": "markdown",
   "metadata": {},
   "source": [
    "Q: Similar problem as with the Titanic dataset, use a similar solution, the visualization?:"
   ]
  },
  {
   "cell_type": "markdown",
   "metadata": {},
   "source": [
    "Q: Compare your visualization with the one we got from the Titanic data. Can you formulate any hypotheses as to why they differ, if they differ in certain areas?"
   ]
  },
  {
   "cell_type": "markdown",
   "metadata": {},
   "source": [
    "Q: If you followed the Titanic examples and dropped the 'Age' variables in bins, then take some time to think about other solutions. Can you describe one?"
   ]
  },
  {
   "cell_type": "markdown",
   "metadata": {},
   "source": [
    "Q: What would your next action be? (Code is perfect, but text is also ok:-)"
   ]
  }
 ],
 "metadata": {
  "kernelspec": {
   "display_name": "Python 3",
   "language": "python",
   "name": "python3"
  },
  "language_info": {
   "codemirror_mode": {
    "name": "ipython",
    "version": 3
   },
   "file_extension": ".py",
   "mimetype": "text/x-python",
   "name": "python",
   "nbconvert_exporter": "python",
   "pygments_lexer": "ipython3",
   "version": "3.6.3"
  }
 },
 "nbformat": 4,
 "nbformat_minor": 2
}
