{
 "cells": [
  {
   "cell_type": "markdown",
   "metadata": {
    "slideshow": {
     "slide_type": "slide"
    }
   },
   "source": [
    "# Faector Workshop\n",
    "\n",
    "## Data analysis with Python Week 2\n",
    "\n",
    "\n",
    "*jasper.opdecoul@eur.nl / peter.vanhuisstede@eur.nl*<br/> \n",
    "*buijs@rsm.nl / kemperman@rsm.nl*\n",
    "\n",
    "\n",
    "\n"
   ]
  },
  {
   "cell_type": "markdown",
   "metadata": {
    "slideshow": {
     "slide_type": "slide"
    }
   },
   "source": [
    "# Agenda\n",
    "\n",
    "- 9:30 - 10:00 Homework Review\n",
    "- 10:00 - 11:00 SQL Databases\n",
    "- 11:00 - 11:15 Pauze\n",
    "- 11:15 - 12:15 Peer Programming: Web scraping\n",
    "- 12:15 - 12:30 Wrap up\n"
   ]
  },
  {
   "cell_type": "markdown",
   "metadata": {
    "slideshow": {
     "slide_type": "slide"
    }
   },
   "source": [
    "# Database Basics\n",
    "\n",
    "Relational databases store tabular data in **tables**. Tables contain **rows** and **columns**, similar to a spreadsheet.\n",
    "\n",
    "<img src=\"img/sql_students.png\">"
   ]
  },
  {
   "cell_type": "markdown",
   "metadata": {
    "slideshow": {
     "slide_type": "slide"
    }
   },
   "source": [
    "Databases typically store many tables\n",
    "<img src=\"img/sql_clubs.png\">"
   ]
  },
  {
   "cell_type": "markdown",
   "metadata": {
    "slideshow": {
     "slide_type": "slide"
    }
   },
   "source": [
    "Instead of storing the club information in the students table, an extra tabel can be used to store student membership of a club. This is a form of **database normalization**. \n",
    "<img src=\"img/sql_memberships.png\">\n",
    "### Advantages:\n",
    "\n",
    "* Students can have multiple club memberships\n",
    "* If the name, description or president of a club changes, we only have to edit in one place\n",
    "* If the name or email of a student changes, we only have to edit on one place"
   ]
  },
  {
   "cell_type": "markdown",
   "metadata": {
    "slideshow": {
     "slide_type": "slide"
    }
   },
   "source": [
    "# Types of Databases\n",
    "\n",
    "\n",
    "| File Based |\n",
    "|------------|\n",
    "| MS Access  | \n",
    "| SQLite     | "
   ]
  },
  {
   "cell_type": "code",
   "execution_count": 2,
   "metadata": {
    "collapsed": false,
    "slideshow": {
     "slide_type": "subslide"
    }
   },
   "outputs": [
    {
     "ename": "KeyError",
     "evalue": "'Fate'",
     "output_type": "error",
     "traceback": [
      "\u001b[1;31m---------------------------------------------------------------------------\u001b[0m",
      "\u001b[1;31mKeyError\u001b[0m                                  Traceback (most recent call last)",
      "\u001b[1;32m<ipython-input-2-2955bc439e53>\u001b[0m in \u001b[0;36m<module>\u001b[1;34m()\u001b[0m\n\u001b[0;32m     10\u001b[0m               \u001b[0mrow\u001b[0m\u001b[1;33m[\u001b[0m\u001b[1;34m'Age'\u001b[0m\u001b[1;33m]\u001b[0m\u001b[1;33m,\u001b[0m\u001b[1;33m\u001b[0m\u001b[0m\n\u001b[0;32m     11\u001b[0m               \u001b[0mrow\u001b[0m\u001b[1;33m[\u001b[0m\u001b[1;34m'Sex'\u001b[0m\u001b[1;33m]\u001b[0m\u001b[1;33m,\u001b[0m\u001b[1;33m\u001b[0m\u001b[0m\n\u001b[1;32m---> 12\u001b[1;33m               row['Department/Class']) for row in rows]\n\u001b[0m\u001b[0;32m     13\u001b[0m \u001b[1;33m\u001b[0m\u001b[0m\n\u001b[0;32m     14\u001b[0m cur.executemany(\"\"\"\n",
      "\u001b[1;32m<ipython-input-2-2955bc439e53>\u001b[0m in \u001b[0;36m<listcomp>\u001b[1;34m(.0)\u001b[0m\n\u001b[0;32m     10\u001b[0m               \u001b[0mrow\u001b[0m\u001b[1;33m[\u001b[0m\u001b[1;34m'Age'\u001b[0m\u001b[1;33m]\u001b[0m\u001b[1;33m,\u001b[0m\u001b[1;33m\u001b[0m\u001b[0m\n\u001b[0;32m     11\u001b[0m               \u001b[0mrow\u001b[0m\u001b[1;33m[\u001b[0m\u001b[1;34m'Sex'\u001b[0m\u001b[1;33m]\u001b[0m\u001b[1;33m,\u001b[0m\u001b[1;33m\u001b[0m\u001b[0m\n\u001b[1;32m---> 12\u001b[1;33m               row['Department/Class']) for row in rows]\n\u001b[0m\u001b[0;32m     13\u001b[0m \u001b[1;33m\u001b[0m\u001b[0m\n\u001b[0;32m     14\u001b[0m cur.executemany(\"\"\"\n",
      "\u001b[1;31mKeyError\u001b[0m: 'Fate'"
     ]
    }
   ],
   "source": [
    "import csv, sqlite3\n",
    "\n",
    "con = sqlite3.connect(':memory:')\n",
    "cur = con.cursor()\n",
    "cur.execute(\"CREATE TABLE lusitania(survived, age, sex, pclass);\")\n",
    "\n",
    "with open('data/lusitania.csv') as fp:\n",
    "    rows = csv.DictReader(fp) # comma is default delimiter\n",
    "    to_db = [(row['Fate'], \n",
    "              row['Age'], \n",
    "              row['Sex'],\n",
    "              row['Department/Class']) for row in rows]\n",
    "\n",
    "cur.executemany(\"\"\"\n",
    "   INSERT INTO lusitania(survived, age, sex, pclass) \n",
    "   VALUES (?, ?, ?, ?);\"\"\", to_db)\n",
    "con.commit()\n",
    "\n",
    "\n",
    "for row in cur.execute(\"SELECT * FROM lusitania LIMIT 10\"):\n",
    "    print(row)\n",
    "    \n",
    "conn.close()"
   ]
  },
  {
   "cell_type": "markdown",
   "metadata": {
    "slideshow": {
     "slide_type": "slide"
    }
   },
   "source": [
    "# Types of Databases\n",
    "\n",
    "\n",
    "| File Based | Server Based    |\n",
    "|------------|-----------------|\n",
    "| MS Access  | MySQL / MariaDB |\n",
    "| SQLite     | PostgreSQL      |\n",
    "|            | MS SQLServer    |\n",
    "|            | Oracle          |"
   ]
  },
  {
   "cell_type": "markdown",
   "metadata": {
    "slideshow": {
     "slide_type": "slide"
    }
   },
   "source": [
    "# Types of Databases\n",
    "\n",
    "\n",
    "| File Based | Server Based    | Big Data        |\n",
    "|------------|-----------------|-----------------|\n",
    "| MS Access  | MySQL / MariaDB | Amazon Redshift |\n",
    "| SQLite     | PostgreSQL      | Google Spanner  |\n",
    "|            | MS SQLServer    | Google BigQuery |\n",
    "|            | Oracle          |                 |"
   ]
  },
  {
   "cell_type": "markdown",
   "metadata": {
    "slideshow": {
     "slide_type": "slide"
    }
   },
   "source": [
    "# Types of Databases\n",
    "\n",
    "\n",
    "| File Based | Server Based    | Big Data        | No SQL         |\n",
    "|------------|-----------------|-----------------|----------------|\n",
    "| MS Access  | MySQL / MariaDB | Amazon Redshift | Mongo DB       |\n",
    "| SQLite     | PostgreSQL      | Google Spanner  | Hadoop / Spark |\n",
    "|            | MS SQLServer    | Google BigQuery | Cassandra      |\n",
    "|            | Oracle          |                 | Neo4J          |"
   ]
  },
  {
   "cell_type": "markdown",
   "metadata": {
    "slideshow": {
     "slide_type": "slide"
    }
   },
   "source": [
    "# Structured Query Language\n",
    "## A query can contain the following clauses:\n",
    "\n",
    "<img style=\"float: right;width:200px\"  src=\"img/SELECT-all-FROM-users-WHERE-clue-greater-than-0-Gray-NEW-500x500.jpg\">\n",
    "*Clauses **must** be written in the following order:*\n",
    "\n",
    "* SELECT\n",
    "  *&lt;which columns to return&gt;*\n",
    "* FROM\n",
    "  *&lt;which table&gt;*\n",
    "* WHERE\n",
    "  *&lt;filtered columns&gt;*\n",
    "* GROUP BY\n",
    "  *&lt;aggregated columns&gt;*\n",
    "* HAVING\n",
    "  *&lt;filtered columns after aggregation&gt;*\n",
    "* ORDER BY\n",
    "  *&lt;sort columns&gt;*\n",
    "* LIMIT\n",
    "  *&lt;number of rows to return&gt;*\n"
   ]
  }
 ],
 "metadata": {
  "anaconda-cloud": {},
  "celltoolbar": "Slideshow",
  "kernelspec": {
   "display_name": "Python [Root]",
   "language": "python",
   "name": "Python [Root]"
  }
 },
 "nbformat": 4,
 "nbformat_minor": 0
}
