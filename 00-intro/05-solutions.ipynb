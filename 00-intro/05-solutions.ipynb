{
 "cells": [
  {
   "cell_type": "code",
   "execution_count": 1,
   "metadata": {},
   "outputs": [],
   "source": [
    "def let2int(char):\n",
    "    return ord(char) - ord('a')"
   ]
  },
  {
   "cell_type": "code",
   "execution_count": 2,
   "metadata": {},
   "outputs": [],
   "source": [
    "def int2let(n):\n",
    "    return chr(ord('a') + n)"
   ]
  },
  {
   "cell_type": "code",
   "execution_count": 3,
   "metadata": {},
   "outputs": [],
   "source": [
    "def shift(n, char):\n",
    "    if 0 <= let2int(char.lower()) <= 25: # Feature or bug if we do not convert to lowercase?\n",
    "        return int2let((let2int(char.lower()) + n) % 26)\n",
    "    else:\n",
    "        return char"
   ]
  },
  {
   "cell_type": "code",
   "execution_count": 4,
   "metadata": {},
   "outputs": [],
   "source": [
    "def encode(n, xs):\n",
    "    return [shift(n, x) for x in xs]"
   ]
  },
  {
   "cell_type": "code",
   "execution_count": 5,
   "metadata": {},
   "outputs": [
    {
     "data": {
      "text/plain": [
       "'ahrpun bw hu lujvkpun aoha zovbsk il ahrlu bw if vul vm aol jhukpkhalz'"
      ]
     },
     "execution_count": 5,
     "metadata": {},
     "output_type": "execute_result"
    }
   ],
   "source": [
    "\"\".join(encode(7, \"taking up an encoding that should be taken up by one of the candidates\"))"
   ]
  },
  {
   "cell_type": "markdown",
   "metadata": {},
   "source": [
    "### Using brute force"
   ]
  },
  {
   "cell_type": "code",
   "execution_count": 7,
   "metadata": {},
   "outputs": [
    {
     "name": "stdout",
     "output_type": "stream",
     "text": [
      "['1: bisqvo cx iv mvkwlqvo bpib apwctl jm bismv cx jg wvm wn bpm kivlqlibma', '2: cjtrwp dy jw nwlxmrwp cqjc bqxdum kn cjtnw dy kh xwn xo cqn ljwmrmjcnb', '3: dkusxq ez kx oxmynsxq drkd cryevn lo dkuox ez li yxo yp dro mkxnsnkdoc', '4: elvtyr fa ly pynzotyr esle dszfwo mp elvpy fa mj zyp zq esp nlyotolepd', '5: fmwuzs gb mz qzoapuzs ftmf etagxp nq fmwqz gb nk azq ar ftq omzpupmfqe', '6: gnxvat hc na rapbqvat gung fubhyq or gnxra hc ol bar bs gur pnaqvqngrf', '7: hoywbu id ob sbqcrwbu hvoh gvcizr ps hoysb id pm cbs ct hvs qobrwrohsg', '8: ipzxcv je pc tcrdsxcv iwpi hwdjas qt ipztc je qn dct du iwt rpcsxspith', '9: jqaydw kf qd udsetydw jxqj ixekbt ru jqaud kf ro edu ev jxu sqdtytqjui', '10: krbzex lg re vetfuzex kyrk jyflcu sv krbve lg sp fev fw kyv treuzurkvj', '11: lscafy mh sf wfugvafy lzsl kzgmdv tw lscwf mh tq gfw gx lzw usfvavslwk', '12: mtdbgz ni tg xgvhwbgz matm lahnew ux mtdxg ni ur hgx hy max vtgwbwtmxl', '13: nuecha oj uh yhwixcha nbun mbiofx vy nueyh oj vs ihy iz nby wuhxcxunym', '14: ovfdib pk vi zixjydib ocvo ncjpgy wz ovfzi pk wt jiz ja ocz xviydyvozn', '15: pwgejc ql wj ajykzejc pdwp odkqhz xa pwgaj ql xu kja kb pda ywjzezwpao', '16: qxhfkd rm xk bkzlafkd qexq pelria yb qxhbk rm yv lkb lc qeb zxkafaxqbp', '17: ryigle sn yl clambgle rfyr qfmsjb zc ryicl sn zw mlc md rfc aylbgbyrcq', '18: szjhmf to zm dmbnchmf sgzs rgntkc ad szjdm to ax nmd ne sgd bzmchczsdr', '19: taking up an encoding that should be taken up by one of the candidates', '20: ubljoh vq bo fodpejoh uibu tipvme cf ublfo vq cz pof pg uif dboejebuft', '21: vcmkpi wr cp gpeqfkpi vjcv ujqwnf dg vcmgp wr da qpg qh vjg ecpfkfcvgu', '22: wdnlqj xs dq hqfrglqj wkdw vkrxog eh wdnhq xs eb rqh ri wkh fdqglgdwhv', '23: xeomrk yt er irgshmrk xlex wlsyph fi xeoir yt fc sri sj xli gerhmhexiw', '24: yfpnsl zu fs jshtinsl ymfy xmtzqi gj yfpjs zu gd tsj tk ymj hfsinifyjx', '25: zgqotm av gt ktiujotm zngz ynuarj hk zgqkt av he utk ul znk igtjojgzky']\n"
     ]
    }
   ],
   "source": [
    "std = 'ahrpun bw hu lujvkpun aoha zovbsk il ahrlu bw if vul vm aol jhukpkhalz'\n",
    "\n",
    "def crack(decode):\n",
    "    result = []\n",
    "    i = 1\n",
    "    while (i < 26):\n",
    "        result.append(str(i) + \": \" + \"\".join(encode(i, decode)))\n",
    "        i = i + 1\n",
    "    print(result)\n",
    "    \n",
    "crack(std)"
   ]
  },
  {
   "cell_type": "markdown",
   "metadata": {},
   "source": [
    "### Using our brain"
   ]
  },
  {
   "cell_type": "code",
   "execution_count": 9,
   "metadata": {},
   "outputs": [
    {
     "data": {
      "text/plain": [
       "26"
      ]
     },
     "execution_count": 9,
     "metadata": {},
     "output_type": "execute_result"
    }
   ],
   "source": [
    "table = [\n",
    "    8.1, 1.5, 2.8, 4.2, 12.7, 2.2, 2.0, 6.1, 7.0, 0.2,\n",
    "    0.8, 4.0, 2.4, 6.7, 7.5, 1.9, 0.1, 6.0, 6.3, 9.0,\n",
    "    2.8, 1.0, 2.4, 0.2, 2.0, 0.1\n",
    "]\n",
    "len(table)"
   ]
  },
  {
   "cell_type": "markdown",
   "metadata": {},
   "source": [
    "The table above is the frequency table for letters in the English language. The letter 'e' appears the most, 12.7% frequency; 'z' and 'q' occur least often, both with a frequency of 0.1%.\n",
    "\n",
    "We can also produce a frequency table of letters in an individual string. In order to do this we need some helper functions:\n",
    "\n",
    "- count (counts the occurences of a letter in a string)\n",
    "\n",
    "to define a function freqs() that returns the frequency table for any given string."
   ]
  },
  {
   "cell_type": "code",
   "execution_count": 14,
   "metadata": {},
   "outputs": [
    {
     "data": {
      "text/plain": [
       "3"
      ]
     },
     "execution_count": 14,
     "metadata": {},
     "output_type": "execute_result"
    }
   ],
   "source": [
    "# count() given input letter return the frequency of that letter in the given string\n",
    "str1 = 'aaaabbbbbbccccccccddd'\n",
    "def count(letter, input):\n",
    "    return len([x for x in input if x == letter])\n",
    "count('d', str1)"
   ]
  },
  {
   "cell_type": "code",
   "execution_count": 16,
   "metadata": {},
   "outputs": [
    {
     "data": {
      "text/plain": [
       "33.33333333333333"
      ]
     },
     "execution_count": 16,
     "metadata": {},
     "output_type": "execute_result"
    }
   ],
   "source": [
    "# percent() given the input of two integers it calculates the percentage of one integer\n",
    "# with respect to the other\n",
    "# percent(5, 15) should return 33.333\n",
    "def percent(n,m):\n",
    "    return n / m * 100\n",
    "percent(5, 15)"
   ]
  },
  {
   "cell_type": "code",
   "execution_count": 37,
   "metadata": {},
   "outputs": [],
   "source": [
    "length = len(str1)"
   ]
  },
  {
   "cell_type": "code",
   "execution_count": 32,
   "metadata": {},
   "outputs": [
    {
     "name": "stdout",
     "output_type": "stream",
     "text": [
      "[4, 6, 8, 3, 0, 0, 0, 0, 0, 0, 0, 0, 0, 0, 0, 0, 0, 0, 0, 0, 0, 0, 0, 0, 0, 0]\n"
     ]
    }
   ],
   "source": [
    "freq_count = [count(x, str1) for x in string.ascii_lowercase]\n",
    "print(freq_count)"
   ]
  },
  {
   "cell_type": "code",
   "execution_count": 39,
   "metadata": {},
   "outputs": [
    {
     "name": "stdout",
     "output_type": "stream",
     "text": [
      "[19.047619047619047, 28.57142857142857, 38.095238095238095, 14.285714285714285, 0.0, 0.0, 0.0, 0.0, 0.0, 0.0, 0.0, 0.0, 0.0, 0.0, 0.0, 0.0, 0.0, 0.0, 0.0, 0.0, 0.0, 0.0, 0.0, 0.0, 0.0, 0.0]\n"
     ]
    }
   ],
   "source": [
    "freqs = [percent(x, length) for x in freq_count]\n",
    "print(freqs)"
   ]
  },
  {
   "cell_type": "markdown",
   "metadata": {},
   "source": [
    "We now have two tables:\n",
    "\n",
    "- table which gives us the expected frequency of letters (in English);\n",
    "- freqs that gives the actual frequency of letters used in the sentence we want to decode (not having access to the shift that was used to encode the letters.\n",
    "\n",
    "We can use the *chi-square statistic* to calculate the smallest values for to given lists."
   ]
  },
  {
   "cell_type": "code",
   "execution_count": 40,
   "metadata": {},
   "outputs": [],
   "source": [
    "def chisqr(os, es):\n",
    "    sum([((o - e)**2) / e for (o,e) in zip(os, es)])"
   ]
  },
  {
   "cell_type": "markdown",
   "metadata": {},
   "source": [
    "The next step we need is to cycle through the possible shifts in order to calculate the *chi-square* score for each possible shift (0-25). Basically the same idea we used in our brute force attack!\n",
    "\n",
    "For that we need a function rotate."
   ]
  },
  {
   "cell_type": "code",
   "execution_count": 47,
   "metadata": {},
   "outputs": [
    {
     "data": {
      "text/plain": [
       "[4, 5, 1, 2, 3]"
      ]
     },
     "execution_count": 47,
     "metadata": {},
     "output_type": "execute_result"
    }
   ],
   "source": [
    "test_list = [1,2,3,4,5]\n",
    "\n",
    "def rotate(n, lst):\n",
    "    ind = n - 1\n",
    "    return (lst[-ind:] + lst[:-ind])\n",
    "\n",
    "rotate(3, test_list)"
   ]
  },
  {
   "cell_type": "code",
   "execution_count": 48,
   "metadata": {},
   "outputs": [],
   "source": [
    "std = 'ahrpun bw hu lujvkpun aoha zovbsk il ahrlu bw if vul vm aol jhukpkhalz' # original input"
   ]
  },
  {
   "cell_type": "code",
   "execution_count": 61,
   "metadata": {},
   "outputs": [
    {
     "ename": "SyntaxError",
     "evalue": "invalid syntax (<ipython-input-61-64ab1267d3ad>, line 3)",
     "output_type": "error",
     "traceback": [
      "\u001b[0;36m  File \u001b[0;32m\"<ipython-input-61-64ab1267d3ad>\"\u001b[0;36m, line \u001b[0;32m3\u001b[0m\n\u001b[0;31m    chisqr_results = [chisqr( (rotate(n, table0) for n in range(0,25)) table)]\u001b[0m\n\u001b[0m                                                                           ^\u001b[0m\n\u001b[0;31mSyntaxError\u001b[0m\u001b[0;31m:\u001b[0m invalid syntax\n"
     ]
    }
   ],
   "source": [
    "freq_count = [count(x, std) for x in string.ascii_lowercase]\n",
    "table0 = [percent(x, length) for x in freq_count]\n",
    "chisqr_results = [chisqr( (rotate(n, table0) for n in range(0,25)) table)]"
   ]
  }
 ],
 "metadata": {
  "kernelspec": {
   "display_name": "Python 3",
   "language": "python",
   "name": "python3"
  },
  "language_info": {
   "codemirror_mode": {
    "name": "ipython",
    "version": 3
   },
   "file_extension": ".py",
   "mimetype": "text/x-python",
   "name": "python",
   "nbconvert_exporter": "python",
   "pygments_lexer": "ipython3",
   "version": "3.7.4"
  }
 },
 "nbformat": 4,
 "nbformat_minor": 2
}
