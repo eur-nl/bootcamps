{
  "nbformat": 4,
  "nbformat_minor": 0,
  "metadata": {
    "colab": {
      "name": "00_colab_welcome.ipynb",
      "version": "0.3.2",
      "provenance": [],
      "include_colab_link": true
    },
    "language_info": {
      "codemirror_mode": {
        "name": "ipython",
        "version": 3
      },
      "file_extension": ".py",
      "mimetype": "text/x-python",
      "name": "python",
      "nbconvert_exporter": "python",
      "pygments_lexer": "ipython3",
      "version": "3.7.1"
    },
    "kernelspec": {
      "display_name": "Python 3",
      "language": "python",
      "name": "python3"
    }
  },
  "cells": [
    {
      "cell_type": "markdown",
      "metadata": {
        "id": "view-in-github",
        "colab_type": "text"
      },
      "source": [
        "<a href=\"https://colab.research.google.com/github/eur-nl/bootcamps/blob/master/00-intro/00_welcome.ipynb\" target=\"_parent\"><img src=\"https://colab.research.google.com/assets/colab-badge.svg\" alt=\"Open In Colab\"/></a>"
      ]
    },
    {
      "cell_type": "markdown",
      "metadata": {
        "id": "cY5CYAyN_RqT",
        "colab_type": "text"
      },
      "source": [
        "**bold text**![Practice](https://github.com/eur-nl/bootcamps/blob/master/00-intro/graphics/practice.jpg?raw=1)"
      ]
    },
    {
      "cell_type": "markdown",
      "metadata": {
        "id": "XHV9uSa4_RqW",
        "colab_type": "text"
      },
      "source": [
        "### Goals of the workshop\n",
        "\n",
        "#### Introduction to Python\n",
        "\n",
        "We can not teach you programming in two or three days. But we can help you to get started and, once you have started, we can help you when you are stuck.\n",
        "\n",
        "In fact we believe that the getting started part is the most difficult part of programming. You will hit brick walls, but you should learn that this obstacle can be removed brick by brick, although on the other end of the wall you will probably not find Nirwana, but most likely another wall.\n",
        "\n",
        "It takes a special attitude to get on with programming. Sometimes this attitude is referred to as \"incremental learning\", you get better as you move on, but you must be prepared to put in some hard work. Solve problems, again and again. Learn to formulate the problems you want to solve, learn to take the problem apart into smaller problems and start working on one of these first. Learn to use stuff others made. Learn to fruitfully work with other programmers. In short: Engage in **computational thinking**.\n",
        "\n",
        "We choose Python because we know it well. It is a clean, readable language with a REPL that is great for working incrementally on programming tasks. Python runs on all major platforms and it has some great libraries, especially for scientific computing. It can be used to work on web applications, system applications and data applications. Python is interpreted and is well suited for object oriented programming. We think Python is relatively easy to learn. It has an elegant syntax and just a few keywords.\n",
        "\n",
        "You will find most Python programmers, or Pythonistas, friendly and helpful.\n",
        "\n",
        "#### Jupyter notebooks\n",
        "\n",
        "And Python has this fabulous thing you are looking at: The Jupyter Notebook, which we will use throughout the workshop. It is great for presentations, for study purposes, for investigating problems and it makes for a tremendous electronic lab-journal that you can share with others: **reproducible research**.\n",
        "\n",
        "And through these Jupyter Notebooks you get to know:\n",
        "\n",
        "- Google's Colab (Platform to run Jupyter Notebooks)\n",
        "- Github repositories (Version control your data)\n",
        "\n",
        "#### Future scientific research\n",
        "\n",
        "Will become more and more **team work**."
      ]
    },
    {
      "cell_type": "markdown",
      "metadata": {
        "id": "7eT7trFI_RqZ",
        "colab_type": "text"
      },
      "source": [
        "So, even if you decide after these three day that this programming thing certainly is not for you, you will know of it's existence. And you might have picked up some ideas about problem solving along the way, using pseudocode, or simply using the PPS (pencil and paper strategy)."
      ]
    },
    {
      "cell_type": "markdown",
      "metadata": {
        "id": "tL5BF38W_Rqa",
        "colab_type": "text"
      },
      "source": [
        "![Starting at the wrong end](https://github.com/eur-nl/bootcamps/blob/master/00-intro/graphics/do_drugs.jpg?raw=1)"
      ]
    }
  ]
}