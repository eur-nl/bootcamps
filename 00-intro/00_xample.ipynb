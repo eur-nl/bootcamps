{
  "nbformat": 4,
  "nbformat_minor": 0,
  "metadata": {
    "colab": {
      "name": "sqrt2_colab.ipynb",
      "version": "0.3.2",
      "provenance": [],
      "include_colab_link": true
    },
    "language_info": {
      "codemirror_mode": {
        "name": "ipython",
        "version": 3
      },
      "file_extension": ".py",
      "mimetype": "text/x-python",
      "name": "python",
      "nbconvert_exporter": "python",
      "pygments_lexer": "ipython3",
      "version": "3.7.1"
    },
    "kernelspec": {
      "display_name": "Python 3",
      "language": "python",
      "name": "python3"
    }
  },
  "cells": [
    {
      "cell_type": "markdown",
      "metadata": {
        "id": "view-in-github",
        "colab_type": "text"
      },
      "source": [
        "<a href=\"https://colab.research.google.com/github/eur-nl/bootcamps/blob/master/intro/whirlwind/00_xample.ipynb\" target=\"_parent\"><img src=\"https://colab.research.google.com/assets/colab-badge.svg\" alt=\"Open In Colab\"/></a>"
      ]
    },
    {
      "cell_type": "markdown",
      "metadata": {
        "id": "1yO2dwRG_y7u",
        "colab_type": "text"
      },
      "source": [
        "## Computing square roots\n",
        "\n",
        "The idea is to compute an approximation of sqrt(2). In other words we try to find a [rational ](https://en.wikipedia.org/wiki/Rational_number) that, multiplied by itself, comes close (close: yet to be defined) to 2.\n",
        "\n",
        "### PPS\n",
        "\n",
        "As always we use our beloved pencil and paper strategy to get some grip on the problem and to develop a first idea how to tackle the problem, what ingredients to use, and what values we can use for a test.\n",
        "\n",
        "*  sqrt(1) = 1\n",
        "*  sqrt(4) = 2 (because 2 * 2 = 4)\n",
        "*  sqrt(9) = 3\n",
        "\n",
        "So we are looking for a number (called a rational because it is expressed as a ratio of two numbers) between 1 and 2 that multiplied by itself comes as close to 2 as we want it to come.\n",
        "\n",
        "Let's give it a try:\n",
        "\n",
        "1.5 * 1.5 = 2.25 (too high)\n",
        "1.2 * 1.2 = 1.44 (too low)\n",
        "\n",
        "Looks like we need a repetitive calculation, perfectly suited for a computer. So let's give it a try.\n",
        "\n",
        "We start with 2 and suppose we divide 2 by x in order to get y: 2/x = y. If x is smaller than our sqrt(2) than y will be larger. Check: 2 / 1.2 = 1.6666. If x is larger than our sqrt(2) than y will be smaller than the number we are looking for (our sqrt(2)): 2 / 1.5 = 1.3333.\n",
        "\n",
        "So, let's keep it simple we start with x = 1.\n",
        "\n",
        "2 / 1 = 2 and 2 * 2 is 4 => too high. Much to high, our educated guess was better. We are clearly in need of an idea. If our x is too low and hence our y too high, we can take, for the next try the mean of both: (1 + 2) / 2 = 3/2 (Here is our rational).\n",
        "\n",
        "Our next try then is: 2 / (3/2) = 4/3,\n",
        "So our next try will use (4/3 + 3/2) / 2 as x\n",
        "\n",
        "#### We have developed an algorithm\n",
        "\n",
        "```\n",
        "1: X <- 1\n",
        "2: Y <- 2 / X\n",
        "3: Z <- (X + Y) / 2\n",
        "4: X <- Z\n",
        "5: if | X - Y | < e, goto line 2\n",
        "6: STOP\n",
        "```\n",
        "\n",
        "#### Let's make an execution trace of our algorithm\n",
        "\n",
        "Line | X | Y | Z | Algorithm | Comment\n",
        "-----|---|----|----|-----|------\n",
        "1 | 1 | - | - | X <- 1 | Just our start (educated guess)\n",
        "2 | 1 | 2 | - | Y <- 2 / X | We are looking for the sqrt of 2\n",
        "3 | 1 | 2 |  3/2 | Z <- (X + Y) / 2 | Our basic algorithm\n",
        "4 | 3/2 | 2 |  3/2 | X <- Z | We got our new X\n",
        "5 | 3/2 | 2 | 3/2 | Goto 2 | Decision based on the precision constant\n",
        "2 | 3/2 | 4/3 | 3/2 | Y <- 2 / X | 2 / (3/2) == 2 * (2/3) = 4/3\n",
        "3 | 3/2 | 4/3 | 17/12 | New Z <- (X + Y) / 2 |  (3/2 + 4/3) / 2 == 17/12\n",
        "4 | 17/12 | 4/3 | 17/12 | X <- Z | Again, our new X\n",
        "5 | 17/12 | 4/3 | 17/12 | Goto 2 | Precision check\n",
        "2 | 17/12 | 24/17 | 17/12 | Y <- 2/X | Another loop\n",
        "\n",
        "\n",
        "\n",
        "\n"
      ]
    },
    {
      "cell_type": "code",
      "metadata": {
        "id": "6cGrv03w_JvT",
        "colab_type": "code",
        "outputId": "22738571-aacc-4724-a1af-77ce1eb19c22",
        "colab": {
          "base_uri": "https://localhost:8080/",
          "height": 54
        }
      },
      "source": [
        "# Let's check our intermediate result\n",
        "result = 17 / 12.0\n",
        "print(result)\n",
        "print(result * result)"
      ],
      "execution_count": 0,
      "outputs": [
        {
          "output_type": "stream",
          "text": [
            "1.4166666666666667\n",
            "2.0069444444444446\n"
          ],
          "name": "stdout"
        }
      ]
    },
    {
      "cell_type": "markdown",
      "metadata": {
        "id": "FQ3YxB_l_Zx8",
        "colab_type": "text"
      },
      "source": [
        "Right, we are getting somewhere. Let's have a close look at the pattern of our execution trace:\n",
        "\n",
        "- steps 2-5 clearly hint at a thing that is a loop;\n",
        "- if we have a loop, we need a STOP and a TEST to check our loop\n",
        "- we can simplify our loop."
      ]
    },
    {
      "cell_type": "code",
      "metadata": {
        "id": "AltG0bCQVgzf",
        "colab_type": "code",
        "outputId": "65d4d452-cc11-4cf0-e959-383172e00858",
        "colab": {
          "base_uri": "https://localhost:8080/",
          "height": 54
        }
      },
      "source": [
        "# Let's try to use these insights to code up a small piece of Python code\n",
        "EPSILON = 0.003 # Our precision, can be used as a STOP\n",
        "X = 1.0\n",
        "Y = 1.0\n",
        "while (X - Y) < EPSILON:\n",
        "  Y = 2.0 / X\n",
        "  X = (X + Y) / 2.0 # Our basic algorithm, skipping the X <- Z step\n",
        "print(X)\n",
        "print(X * X)\n",
        "\n"
      ],
      "execution_count": 0,
      "outputs": [
        {
          "output_type": "stream",
          "text": [
            "1.4166666666666665\n",
            "2.006944444444444\n"
          ],
          "name": "stdout"
        }
      ]
    },
    {
      "cell_type": "code",
      "metadata": {
        "id": "8eCbWMP7WsFG",
        "colab_type": "code",
        "outputId": "e926c75d-a6df-4b37-a1d1-1bb00348d84c",
        "colab": {
          "base_uri": "https://localhost:8080/",
          "height": 54
        }
      },
      "source": [
        "import math\n",
        "result = (math.sqrt(2))\n",
        "print(result)\n",
        "print(result * result)"
      ],
      "execution_count": 0,
      "outputs": [
        {
          "output_type": "stream",
          "text": [
            "1.4142135623730951\n",
            "2.0000000000000004\n"
          ],
          "name": "stdout"
        }
      ]
    },
    {
      "cell_type": "markdown",
      "metadata": {
        "id": "ogG5522gXS1b",
        "colab_type": "text"
      },
      "source": [
        "Being able to express a solution of a problem in a number of steps can be referred to as **computational thinking**. The same goes for dividing a hairy problem into a number of simpler sub-problems.\n",
        "\n",
        "Computational thinking is important for a number of reasons:\n",
        "\n",
        "- even if you do not acquire enough **computer literacy** to solve a problem yourself, you will be perfectly able to communicate a possible solution to someone who is;\n",
        "- your problem skills wil become better and better with each set of problems you solve;\n",
        "- there are a number of benefits to be gained from the PPS method:\n",
        "  - you get a feel for the parts of a problem (floats or fractions, loops needed, STOP, precision)\n",
        "  - you need to take decisions: Is an approximation ok? Not if you launch a rocket:-)\n",
        "  - often your PPS contains tests that can be used to check your code;\n",
        "  - we started with an idea. Are there any other similar ideas floating around?\n",
        "  "
      ]
    },
    {
      "cell_type": "markdown",
      "metadata": {
        "id": "QamReXC8Z_uD",
        "colab_type": "text"
      },
      "source": [
        "### The Babylonian method\n",
        "\n",
        "Remember that step 3 in our loop was the core algorithm, based on the idea that if we were homing in on a more and more precise X, we need to take the mean of X and Y for our new X, or: X <- (X + Y) / 2.\n",
        "\n",
        "The core of the idea of the Babylonian method is to compute the square root of 2 as the limit of the sequence ($b_n$)$n \\epsilon \\mathbb{N}$ where the numbers $b_n$ are defined by the induction on n as follows:\n",
        "\n",
        "$$b_1 := 2\\   \\textrm{and}\\   b_n + 1 := 1/2 * (b_n + 2/b_n)$$\n",
        "\n",
        "Let's put this into some Python"
      ]
    },
    {
      "cell_type": "code",
      "metadata": {
        "id": "VHdUDhd3O7OB",
        "colab_type": "code",
        "colab": {
          "base_uri": "https://localhost:8080/",
          "height": 181
        },
        "outputId": "7b1f6416-6773-4c8f-eff3-1beaf1365338"
      },
      "source": [
        "b = 2\n",
        "for n in range(1, 10):\n",
        "  b = 1/2 * (b + 2.0/b)\n",
        "  print(\"%.50f\" % b)"
      ],
      "execution_count": 1,
      "outputs": [
        {
          "output_type": "stream",
          "text": [
            "1.50000000000000000000000000000000000000000000000000\n",
            "1.41666666666666651863693004997912794351577758789062\n",
            "1.41421568627450966459946357645094394683837890625000\n",
            "1.41421356237468986982719343359349295496940612792969\n",
            "1.41421356237309492343001693370752036571502685546875\n",
            "1.41421356237309492343001693370752036571502685546875\n",
            "1.41421356237309492343001693370752036571502685546875\n",
            "1.41421356237309492343001693370752036571502685546875\n",
            "1.41421356237309492343001693370752036571502685546875\n"
          ],
          "name": "stdout"
        }
      ]
    }
  ]
}