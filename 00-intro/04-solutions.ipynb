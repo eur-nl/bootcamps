{
 "cells": [
  {
   "cell_type": "markdown",
   "metadata": {},
   "source": [
    "__Q-"
   ]
  },
  {
   "cell_type": "code",
   "execution_count": null,
   "metadata": {},
   "outputs": [],
   "source": [
    "# this one uses a for loop\n",
    "def dedupe_v1(x):\n",
    "  y = []\n",
    "  for i in x:\n",
    "    if i not in y:\n",
    "      y.append(i)\n",
    "  return y\n",
    "\n",
    "#this one uses sets\n",
    "def dedupe_v2(x):\n",
    "    return list(set(x))\n",
    "\n",
    "a = [1,2,3,4,3,2,1]\n",
    "print(a)\n",
    "print(dedupe_v1(a))\n",
    "print(dedupe_v2(a))"
   ]
  }
 ],
 "metadata": {
  "kernelspec": {
   "display_name": "Python 3",
   "language": "python",
   "name": "python3"
  },
  "language_info": {
   "codemirror_mode": {
    "name": "ipython",
    "version": 3
   },
   "file_extension": ".py",
   "mimetype": "text/x-python",
   "name": "python",
   "nbconvert_exporter": "python",
   "pygments_lexer": "ipython3",
   "version": "3.7.1"
  }
 },
 "nbformat": 4,
 "nbformat_minor": 2
}
