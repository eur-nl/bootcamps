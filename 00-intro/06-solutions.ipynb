{
 "cells": [
  {
   "cell_type": "code",
   "execution_count": 1,
   "metadata": {},
   "outputs": [],
   "source": [
    "# let2int(): maps lower-case letters to corresponding integer number\n",
    "def let2int(char):\n",
    "    return ord(char) - ord('a')"
   ]
  },
  {
   "cell_type": "code",
   "execution_count": 2,
   "metadata": {},
   "outputs": [],
   "source": [
    "# int2let(): maps intergers between 0...25 to 'a'...'z'\n",
    "def int2let(n):\n",
    "    return chr(ord('a') + n)"
   ]
  },
  {
   "cell_type": "code",
   "execution_count": 3,
   "metadata": {},
   "outputs": [],
   "source": [
    "# isLower(): Determineswhether a letter is lower-case\n",
    "def isLower(char):\n",
    "    return ord(char) >= 97 and ord(char) <= 122"
   ]
  },
  {
   "cell_type": "code",
   "execution_count": 4,
   "metadata": {},
   "outputs": [],
   "source": [
    "# shift(): shift a char over n positions\n",
    "def shift(n, char):\n",
    "    if isLower(char):\n",
    "        return int2let((let2int(char) + n) % 26)\n",
    "    else:\n",
    "        return char"
   ]
  },
  {
   "cell_type": "code",
   "execution_count": 5,
   "metadata": {},
   "outputs": [],
   "source": [
    "# encode(): encode xs shifting each letter n positions\n",
    "def encode(n, xs):\n",
    "    return [shift(n, x) for x in xs]"
   ]
  },
  {
   "cell_type": "code",
   "execution_count": 6,
   "metadata": {},
   "outputs": [
    {
     "data": {
      "text/plain": [
       "'ahrpun bw hu lujvkpun aoha zovbsk il ahrlu bw if vul vm aol jhukpkhalz'"
      ]
     },
     "execution_count": 6,
     "metadata": {},
     "output_type": "execute_result"
    }
   ],
   "source": [
    "\"\".join(encode(7, \"taking up an encoding that should be taken up by one of the candidates\"))"
   ]
  },
  {
   "cell_type": "markdown",
   "metadata": {},
   "source": [
    "### Using brute force"
   ]
  },
  {
   "cell_type": "code",
   "execution_count": 7,
   "metadata": {},
   "outputs": [
    {
     "name": "stdout",
     "output_type": "stream",
     "text": [
      "['1: bisqvo cx iv mvkwlqvo bpib apwctl jm bismv cx jg wvm wn bpm kivlqlibma', '2: cjtrwp dy jw nwlxmrwp cqjc bqxdum kn cjtnw dy kh xwn xo cqn ljwmrmjcnb', '3: dkusxq ez kx oxmynsxq drkd cryevn lo dkuox ez li yxo yp dro mkxnsnkdoc', '4: elvtyr fa ly pynzotyr esle dszfwo mp elvpy fa mj zyp zq esp nlyotolepd', '5: fmwuzs gb mz qzoapuzs ftmf etagxp nq fmwqz gb nk azq ar ftq omzpupmfqe', '6: gnxvat hc na rapbqvat gung fubhyq or gnxra hc ol bar bs gur pnaqvqngrf', '7: hoywbu id ob sbqcrwbu hvoh gvcizr ps hoysb id pm cbs ct hvs qobrwrohsg', '8: ipzxcv je pc tcrdsxcv iwpi hwdjas qt ipztc je qn dct du iwt rpcsxspith', '9: jqaydw kf qd udsetydw jxqj ixekbt ru jqaud kf ro edu ev jxu sqdtytqjui', '10: krbzex lg re vetfuzex kyrk jyflcu sv krbve lg sp fev fw kyv treuzurkvj', '11: lscafy mh sf wfugvafy lzsl kzgmdv tw lscwf mh tq gfw gx lzw usfvavslwk', '12: mtdbgz ni tg xgvhwbgz matm lahnew ux mtdxg ni ur hgx hy max vtgwbwtmxl', '13: nuecha oj uh yhwixcha nbun mbiofx vy nueyh oj vs ihy iz nby wuhxcxunym', '14: ovfdib pk vi zixjydib ocvo ncjpgy wz ovfzi pk wt jiz ja ocz xviydyvozn', '15: pwgejc ql wj ajykzejc pdwp odkqhz xa pwgaj ql xu kja kb pda ywjzezwpao', '16: qxhfkd rm xk bkzlafkd qexq pelria yb qxhbk rm yv lkb lc qeb zxkafaxqbp', '17: ryigle sn yl clambgle rfyr qfmsjb zc ryicl sn zw mlc md rfc aylbgbyrcq', '18: szjhmf to zm dmbnchmf sgzs rgntkc ad szjdm to ax nmd ne sgd bzmchczsdr', '19: taking up an encoding that should be taken up by one of the candidates', '20: ubljoh vq bo fodpejoh uibu tipvme cf ublfo vq cz pof pg uif dboejebuft', '21: vcmkpi wr cp gpeqfkpi vjcv ujqwnf dg vcmgp wr da qpg qh vjg ecpfkfcvgu', '22: wdnlqj xs dq hqfrglqj wkdw vkrxog eh wdnhq xs eb rqh ri wkh fdqglgdwhv', '23: xeomrk yt er irgshmrk xlex wlsyph fi xeoir yt fc sri sj xli gerhmhexiw', '24: yfpnsl zu fs jshtinsl ymfy xmtzqi gj yfpjs zu gd tsj tk ymj hfsinifyjx', '25: zgqotm av gt ktiujotm zngz ynuarj hk zgqkt av he utk ul znk igtjojgzky']\n"
     ]
    }
   ],
   "source": [
    "std = 'ahrpun bw hu lujvkpun aoha zovbsk il ahrlu bw if vul vm aol jhukpkhalz'\n",
    "\n",
    "def crack(decode):\n",
    "    result = []\n",
    "    i = 1\n",
    "    while (i < 26):\n",
    "        result.append(str(i) + \": \" + \"\".join(encode(i, decode)))\n",
    "        i = i + 1\n",
    "    print(result)\n",
    "    \n",
    "crack(std)"
   ]
  },
  {
   "cell_type": "markdown",
   "metadata": {},
   "source": [
    "Because new items are appended to the front of a list in Python, we have to read the list backwards from the end. We find our decoded sentence at number 19: 26 - 19 = 7, so 7 was the shift that was used to encode the string."
   ]
  },
  {
   "cell_type": "markdown",
   "metadata": {},
   "source": [
    "### Using our brain\n",
    "\n",
    "We could leave it at this, because, as we will see, even if we will use our brain and try to come up with a clever solution, we will have to use a similar 'cycling' routine.\n",
    "\n",
    "On the other hand, we might learmn something taking the clever route.\n",
    "\n",
    "#### Letter frequency\n",
    "\n",
    "Our clever approach is built on the observation that not all letters are used in the same frequency in a language. Using an observed frequency distribution of letters making up words in sentences (in a particular language), we can derive a table like the one below."
   ]
  },
  {
   "cell_type": "code",
   "execution_count": 8,
   "metadata": {},
   "outputs": [
    {
     "data": {
      "text/plain": [
       "26"
      ]
     },
     "execution_count": 8,
     "metadata": {},
     "output_type": "execute_result"
    }
   ],
   "source": [
    "table = [\n",
    "    8.1, 1.5, 2.8, 4.2, 12.7, 2.2, 2.0, 6.1, 7.0, 0.2,\n",
    "    0.8, 4.0, 2.4, 6.7, 7.5, 1.9, 0.1, 6.0, 6.3, 9.0,\n",
    "    2.8, 1.0, 2.4, 0.2, 2.0, 0.1\n",
    "]\n",
    "len(table)"
   ]
  },
  {
   "cell_type": "markdown",
   "metadata": {},
   "source": [
    "The table above is the frequency table for letters in the English language. The letter 'e' appears the most, 12.7% frequency; 'z' and 'q' occur least often, both with a frequency of 0.1%.\n",
    "\n",
    "We need some of the helper functions we defined above, when attacking the cipher \"brute force\":\n",
    "\n",
    "- let2int()\n",
    "- int2let()\n",
    "- isLower()\n",
    "- shift()\n",
    "- encode()\n",
    "\n",
    "We can also produce a frequency table of letters in an individual string. In order to do this we need some helper functions:\n",
    "\n",
    "- count (counts the occurences of a letter in a string)\n",
    "\n",
    "to define a function freqs() that returns the frequency table for any given string."
   ]
  },
  {
   "cell_type": "markdown",
   "metadata": {},
   "source": [
    "Given the above frequency table, we can also count the freq of of letters in an individual string. In order to do this we need some helper functions:\n",
    "\n",
    "- percent()\n",
    "- lowers()\n",
    "- count(): counts the occurences of a letter in a string\n",
    "- freqs"
   ]
  },
  {
   "cell_type": "code",
   "execution_count": 9,
   "metadata": {},
   "outputs": [
    {
     "data": {
      "text/plain": [
       "33.33333333333333"
      ]
     },
     "execution_count": 9,
     "metadata": {},
     "output_type": "execute_result"
    }
   ],
   "source": [
    "# percent() given the input of two integers it calculates the percentage of one integer\n",
    "# with respect to the other\n",
    "# percent(5, 15) should return 33.333\n",
    "def percent(n,m):\n",
    "    return float(n) / float(m) * 100\n",
    "percent(5, 15)"
   ]
  },
  {
   "cell_type": "code",
   "execution_count": 10,
   "metadata": {},
   "outputs": [
    {
     "data": {
      "text/plain": [
       "21"
      ]
     },
     "execution_count": 10,
     "metadata": {},
     "output_type": "execute_result"
    }
   ],
   "source": [
    "str1 = 'aaaabbbbbbccccccccddd'\n",
    "def lowers(xs):\n",
    "    return len([x for x in xs if isLower(x)])\n",
    "lowers(str1)"
   ]
  },
  {
   "cell_type": "code",
   "execution_count": 11,
   "metadata": {},
   "outputs": [
    {
     "data": {
      "text/plain": [
       "8"
      ]
     },
     "execution_count": 11,
     "metadata": {},
     "output_type": "execute_result"
    }
   ],
   "source": [
    "# count() given input letter return the frequency of that letter in the given string\n",
    "def count(x, xs):\n",
    "    return len([x_ for x_ in xs if x_ == x]) # Neat little trick\n",
    "count('c', str1)"
   ]
  },
  {
   "cell_type": "code",
   "execution_count": 35,
   "metadata": {},
   "outputs": [],
   "source": [
    "def freqs(xs):\n",
    "    alphabet = [chr(o) for o in range(97, 123)]\n",
    "    n = lowers(xs)\n",
    "    return [percent(count(x, xs), n) for x in alphabet]"
   ]
  },
  {
   "cell_type": "markdown",
   "metadata": {},
   "source": [
    "We now can use the two tables:\n",
    "\n",
    "- table which gives us the expected frequency of letters (in English);\n",
    "- freqs that gives the actual frequency of letters used in the sentence we want to decode (not having access to the shift that was used to encode the letters).\n",
    "\n",
    "There are several ways to relate both tables with frequencies. Here we can use the *chi-square statistic* to calculate the smallest values for to given lists. But first two helpers:\n",
    "\n",
    "- positions()\n",
    "- rotate()"
   ]
  },
  {
   "cell_type": "code",
   "execution_count": 36,
   "metadata": {},
   "outputs": [
    {
     "data": {
      "text/plain": [
       "[0, 1, 2, 3]"
      ]
     },
     "execution_count": 36,
     "metadata": {},
     "output_type": "execute_result"
    }
   ],
   "source": [
    "def positions(x, xs):\n",
    "    return [i for x_, i in zip(xs, range(0, len(xs))) if x_ == x]\n",
    "positions('a', str1)"
   ]
  },
  {
   "cell_type": "markdown",
   "metadata": {},
   "source": [
    "The next step we need is to cycle through the possible shifts in order to calculate the *chi-square* score for each possible shift (0-25). Basically the same idea we used in our brute force attack!\n",
    "\n",
    "For that we need a function rotate."
   ]
  },
  {
   "cell_type": "code",
   "execution_count": 14,
   "metadata": {},
   "outputs": [
    {
     "data": {
      "text/plain": [
       "'bbbbbbccccccccdddaaaa'"
      ]
     },
     "execution_count": 14,
     "metadata": {},
     "output_type": "execute_result"
    }
   ],
   "source": [
    "# rotate(): rotates a list anti-clockwise\n",
    "def rotate(n, xs):\n",
    "    return xs[n:] + xs[:n]\n",
    "rotate(4, str1)"
   ]
  },
  {
   "cell_type": "code",
   "execution_count": 37,
   "metadata": {},
   "outputs": [],
   "source": [
    "# chi square statistic http://en.wikipedia.org/wiki/Chi-squared_statisti\n",
    "def chisqr(os, es):\n",
    "    return sum([((o-e)*(o-e)) / e for o, e in zip(os, es)])"
   ]
  },
  {
   "cell_type": "code",
   "execution_count": 21,
   "metadata": {},
   "outputs": [],
   "source": [
    "# main function to crack the encoded message\n",
    "def crack(xs):\n",
    "    distrib = freqs(xs)\n",
    "    chitab = [chisqr(rotate(n, distrib), table) for n in range(0, 26)]\n",
    "    factor = positions(min(chitab), chitab)[0]\n",
    "    return encode(-factor, xs)"
   ]
  },
  {
   "cell_type": "code",
   "execution_count": 38,
   "metadata": {},
   "outputs": [
    {
     "name": "stdout",
     "output_type": "stream",
     "text": [
      "Encoded: ahrpun bw hu lujvkpun aoha zovbsk il ahrlu bw if vul vm aol jhukpkhalz\n",
      "Decoded: taking up an encoding that should be taken up by one of the candidates\n"
     ]
    }
   ],
   "source": [
    "# Run the thing:\n",
    "plaintext = \"taking up an encoding that should be taken up by one of the candidates\"\n",
    "key = 7\n",
    "ciphertext = encode(key, plaintext)\n",
    "print(\"Encoded: %s\" % \"\".join(ciphertext))\n",
    "print(\"Decoded: %s\" % \"\".join(crack(ciphertext)))"
   ]
  }
 ],
 "metadata": {
  "kernelspec": {
   "display_name": "Python 3",
   "language": "python",
   "name": "python3"
  },
  "language_info": {
   "codemirror_mode": {
    "name": "ipython",
    "version": 3
   },
   "file_extension": ".py",
   "mimetype": "text/x-python",
   "name": "python",
   "nbconvert_exporter": "python",
   "pygments_lexer": "ipython3",
   "version": "3.7.3"
  }
 },
 "nbformat": 4,
 "nbformat_minor": 4
}
