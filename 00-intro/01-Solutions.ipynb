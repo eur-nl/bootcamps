{
 "cells": [
  {
   "cell_type": "markdown",
   "metadata": {},
   "source": [
    "__QC-1.1__"
   ]
  },
  {
   "cell_type": "code",
   "execution_count": null,
   "metadata": {},
   "outputs": [],
   "source": [
    "2 * 3 + 18 / 3 = 12<br />\n",
    "2 * (3 + 18 / 3) = 18<br />\n",
    "2 * (3 + 18) / 3 = 14\n",
    "\n",
    "So, the usual mathematical evaluation conventions apply:\n",
    "    \n",
    "    - * and / over + and -\n",
    "    - left to right with equal signs\n",
    "    - parentheses to change the order of evaluation or to make the meaning of the expression explicit."
   ]
  },
  {
   "cell_type": "markdown",
   "metadata": {},
   "source": [
    "__QC-1.2__"
   ]
  },
  {
   "cell_type": "code",
   "execution_count": null,
   "metadata": {},
   "outputs": [],
   "source": [
    "# One way of doing it is simply using brute force and evaluate:\n",
    "\n",
    "9 * 9 * 9 * 9 * 9 * 9 * 9 * 9 * 9\n",
    "\n",
    "# Another way would be to use the assigned operator for this function in Python:\n",
    "\n",
    "9 ** 9\n",
    "\n",
    "# There is a third way, of course, write your own exponentiation function. How would you go about it?"
   ]
  },
  {
   "cell_type": "markdown",
   "metadata": {},
   "source": [
    "__Q-1__"
   ]
  },
  {
   "cell_type": "code",
   "execution_count": 8,
   "metadata": {},
   "outputs": [
    {
     "data": {
      "text/plain": [
       "387420489"
      ]
     },
     "execution_count": 8,
     "metadata": {},
     "output_type": "execute_result"
    }
   ],
   "source": [
    "# Possible solution using a for loop on the range of exp given\n",
    "\n",
    "def exp(base, exp):\n",
    "    results = 1\n",
    "    for n in range(exp):\n",
    "        results *= base\n",
    "    return results\n",
    "\n",
    "# Another solution using recursion on the exp given\n",
    "\n",
    "def powerof(base,exp):\n",
    "    if exp == 0:\n",
    "        return 1\n",
    "    if exp == 1:\n",
    "        return base\n",
    "    return base * powerof(base, exp-1)\n",
    "\n",
    "powerof(9,9)"
   ]
  },
  {
   "cell_type": "markdown",
   "metadata": {},
   "source": [
    "__QC-1.3__"
   ]
  },
  {
   "cell_type": "code",
   "execution_count": 9,
   "metadata": {},
   "outputs": [
    {
     "data": {
      "text/plain": [
       "55"
      ]
     },
     "execution_count": 9,
     "metadata": {},
     "output_type": "execute_result"
    }
   ],
   "source": [
    "# Quickest way is to use the build-in Python sum() function\n",
    "a = [1,2,3,4,5,6,7,8,9,10]\n",
    "sum(a)"
   ]
  },
  {
   "cell_type": "code",
   "execution_count": 11,
   "metadata": {},
   "outputs": [
    {
     "data": {
      "text/plain": [
       "55"
      ]
     },
     "execution_count": 11,
     "metadata": {},
     "output_type": "execute_result"
    }
   ],
   "source": [
    "# But, as always, you can roll your own (and learn something)\n",
    "def my_sum(lst):\n",
    "    results = 0\n",
    "    for i in range(len(lst)):\n",
    "        results = results + lst[i]\n",
    "    return results\n",
    "\n",
    "my_sum([1,2,3,4,5,6,7,8,9,10])"
   ]
  },
  {
   "cell_type": "markdown",
   "metadata": {},
   "source": [
    "__QC-1.4__"
   ]
  },
  {
   "cell_type": "code",
   "execution_count": 19,
   "metadata": {},
   "outputs": [
    {
     "name": "stdout",
     "output_type": "stream",
     "text": [
      "2562\n",
      "6.211180124223602\n",
      "(6.08695652173913, 5.217391304347814)\n"
     ]
    },
    {
     "data": {
      "text/plain": [
       "9.857142857142858"
      ]
     },
     "execution_count": 19,
     "metadata": {},
     "output_type": "execute_result"
    }
   ],
   "source": [
    "# 1 How many seconds in 42 minutes 42 seconds?\n",
    "print((42 * 60) + 42)\n",
    "# 2 How many miles in 10 km?\n",
    "print(10 / 1.61)\n",
    "# 3a Time per mile in minutes and seconds\n",
    "time_in_seconds = 37 * 60 + 48\n",
    "seconds_per_mile = time_in_seconds / 6.21\n",
    "time_per_mile = (seconds_per_mile / 60, seconds_per_mile % 60)\n",
    "print(time_per_mile)\n",
    "# 3b Average speed in miles per hour?\n",
    "6.21 / (37 * 60 + 48) * 3600"
   ]
  },
  {
   "cell_type": "markdown",
   "metadata": {},
   "source": [
    "__Q-2__"
   ]
  },
  {
   "cell_type": "code",
   "execution_count": 19,
   "metadata": {},
   "outputs": [
    {
     "name": "stdout",
     "output_type": "stream",
     "text": [
      "194.87171000000015\n"
     ]
    }
   ],
   "source": [
    "amount = 100\n",
    "perca = 0.10\n",
    "percb = 1.10\n",
    "\n",
    "for i in range(7):\n",
    "    # amount = amount + perc * amount\n",
    "    amount = amount * percb\n",
    "print(amount)\n"
   ]
  }
 ],
 "metadata": {
  "kernelspec": {
   "display_name": "Python 3",
   "language": "python",
   "name": "python3"
  },
  "language_info": {
   "codemirror_mode": {
    "name": "ipython",
    "version": 3
   },
   "file_extension": ".py",
   "mimetype": "text/x-python",
   "name": "python",
   "nbconvert_exporter": "python",
   "pygments_lexer": "ipython3",
   "version": "3.7.1"
  }
 },
 "nbformat": 4,
 "nbformat_minor": 2
}
