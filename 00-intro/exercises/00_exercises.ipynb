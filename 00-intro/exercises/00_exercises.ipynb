{
 "cells": [
  {
   "cell_type": "code",
   "execution_count": null,
   "metadata": {
    "colab": {},
    "colab_type": "code",
    "id": "QjkkPkT3wEbz"
   },
   "outputs": [],
   "source": []
  },
  {
   "cell_type": "markdown",
   "metadata": {
    "colab_type": "text",
    "id": "3Y_wLAGSwGCZ"
   },
   "source": [
    "# Exercise 1"
   ]
  },
  {
   "cell_type": "markdown",
   "metadata": {
    "colab_type": "text",
    "id": "qDzPQmWcwSSM"
   },
   "source": [
    "Create a program that asks the user to enter their name and their age. \n",
    "Print out a message addressed to them that tells them the year that they will turn 100 years old.\n",
    "\n",
    "Extras:\n",
    "\n",
    "1.    Add on to the previous program by asking the user for another number and printing out that many copies of the previous message. (Hint: order of operations exists in Python)\n",
    "\n",
    "2.    Print out that many copies of the previous message on separate lines. (Hint: the string \"\\n is the same as pressing the ENTER button)\n"
   ]
  },
  {
   "cell_type": "code",
   "execution_count": null,
   "metadata": {
    "colab": {},
    "colab_type": "code",
    "id": "kjACPxYlwoWq"
   },
   "outputs": [],
   "source": [
    "#write your code here\n"
   ]
  },
  {
   "cell_type": "code",
   "execution_count": null,
   "metadata": {
    "colab": {},
    "colab_type": "code",
    "id": "koIhMT8ywhY5"
   },
   "outputs": [],
   "source": [
    "#@title Solution {display-mode: \"form\"}\n",
    "\n",
    "name = input(\"What is your name: \")\n",
    "age = int(input(\"How old are you: \"))\n",
    "year = str((2014 - age)+100)\n",
    "print(name + \" will be 100 years old in the year \" + year)\n"
   ]
  },
  {
   "cell_type": "markdown",
   "metadata": {
    "colab_type": "text",
    "id": "hmMBYY6VwNYm"
   },
   "source": [
    "# Exercise 2"
   ]
  },
  {
   "cell_type": "markdown",
   "metadata": {
    "colab_type": "text",
    "id": "cQZtK8kExaGp"
   },
   "source": [
    "Ask the user for a number. Depending on whether the number is even or odd, print out an appropriate message to the user. Hint: how does an even / odd number react differently when divided by 2?\n",
    "\n",
    "Extras:\n",
    "\n",
    "1.    If the number is a multiple of 4, print out a different message.\n",
    "2.   Ask the user for two numbers: one number to check (call it num) and one number to divide by (check). If check divides evenly into num, tell that to the user. If not, print a different appropriate message.\n"
   ]
  },
  {
   "cell_type": "code",
   "execution_count": null,
   "metadata": {
    "colab": {},
    "colab_type": "code",
    "id": "tOxVB-NdxrWx"
   },
   "outputs": [],
   "source": [
    "#your code here"
   ]
  },
  {
   "cell_type": "code",
   "execution_count": null,
   "metadata": {
    "colab": {},
    "colab_type": "code",
    "id": "7O4NejOpxtby"
   },
   "outputs": [],
   "source": [
    "#@title Solution {display-mode: \"form\"}\n",
    "\n",
    "num = int(input(\"Enter a number: \"))\n",
    "mod = num % 2\n",
    "if mod > 0:\n",
    "    print(\"You picked an odd number.\")\n",
    "else:\n",
    "    print(\"You picked an even number.\")"
   ]
  },
  {
   "cell_type": "markdown",
   "metadata": {
    "colab_type": "text",
    "id": "nT406Ntvx6D9"
   },
   "source": [
    "# Exercise 3"
   ]
  },
  {
   "cell_type": "markdown",
   "metadata": {
    "colab_type": "text",
    "id": "4ZQtm6Ekx-UJ"
   },
   "source": [
    "Take a list, say for example this one:\n",
    "\n",
    "  a = [1, 1, 2, 3, 5, 8, 13, 21, 34, 55, 89]\n",
    "\n",
    "and write a program that prints out all the elements of the list that are less than 5.\n",
    "\n",
    "Extras:\n",
    "\n",
    "1.    Instead of printing the elements one by one, make a new list that has all the elements less than 5 from this list in it and print out this new list.\n",
    "2.    Write this in one line of Python.\n",
    "3.    Ask the user for a number and return a list that contains only elements from the original list a that are smaller than that number given by the user.\n"
   ]
  },
  {
   "cell_type": "code",
   "execution_count": null,
   "metadata": {
    "colab": {},
    "colab_type": "code",
    "id": "SrJfLYinyN31"
   },
   "outputs": [],
   "source": [
    "# your code here\n"
   ]
  },
  {
   "cell_type": "code",
   "execution_count": null,
   "metadata": {
    "colab": {},
    "colab_type": "code",
    "id": "hlwVKgmLyS4T"
   },
   "outputs": [],
   "source": [
    "#@title Solution {display-mode: \"form\"}\n",
    "\n",
    "a = [1, 1, 2, 3, 5, 8, 13, 21, 34, 55, 89]\n",
    "\n",
    "for x in a:\n",
    "    if x <= 5:\n",
    "        print(f'{x} is less than 5')"
   ]
  },
  {
   "cell_type": "markdown",
   "metadata": {
    "colab_type": "text",
    "id": "F0HkYIXazAlu"
   },
   "source": [
    "# Exercise 4"
   ]
  },
  {
   "cell_type": "markdown",
   "metadata": {
    "colab_type": "text",
    "id": "BfbjnZ2wzDlD"
   },
   "source": [
    "Make a two-player Rock-Paper-Scissors game. (Hint: Ask for player plays (using input), compare them, print out a message of congratulations to the winner, and ask if the players want to start a new game)\n",
    "\n",
    "Remember the rules:\n",
    "\n",
    " *   Rock beats scissors\n",
    " *   Scissors beats paper\n",
    " *   Paper beats rock\n"
   ]
  },
  {
   "cell_type": "code",
   "execution_count": null,
   "metadata": {
    "colab": {},
    "colab_type": "code",
    "id": "J7sNWrwTzwHz"
   },
   "outputs": [],
   "source": [
    "# your code here"
   ]
  },
  {
   "cell_type": "code",
   "execution_count": null,
   "metadata": {
    "colab": {},
    "colab_type": "code",
    "id": "D72uBYdHz19I"
   },
   "outputs": [],
   "source": [
    "#@title Solution {display-mode: \"form\"}\n",
    "\n",
    "user1 = input(\"What's your name?\")\n",
    "user2 = input(\"And your name?\")\n",
    "user1_answer = input(\"%s, do yo want to choose rock, paper or scissors?\" % user1)\n",
    "user2_answer = input(\"%s, do you want to choose rock, paper or scissors?\" % user2)\n",
    "\n",
    "def compare(u1, u2):\n",
    "    if u1 == u2:\n",
    "        return(\"It's a tie!\")\n",
    "    elif u1 == 'rock':\n",
    "        if u2 == 'scissors':\n",
    "            return(\"Rock wins!\")\n",
    "        else:\n",
    "            return(\"Paper wins!\")\n",
    "    elif u1 == 'scissors':\n",
    "        if u2 == 'paper':\n",
    "            return(\"Scissors win!\")\n",
    "        else:\n",
    "            return(\"Rock wins!\")\n",
    "    elif u1 == 'paper':\n",
    "        if u2 == 'rock':\n",
    "            return(\"Paper wins!\")\n",
    "        else:\n",
    "            return(\"Scissors win!\")\n",
    "    else:\n",
    "        return(\"Invalid input! You have not entered rock, paper or scissors, try again.\")\n",
    "\n",
    "print(compare(user1_answer, user2_answer))\n",
    "\n"
   ]
  },
  {
   "cell_type": "markdown",
   "metadata": {
    "colab_type": "text",
    "id": "3QAwokzg0wTO"
   },
   "source": [
    "# Exercise 5"
   ]
  },
  {
   "cell_type": "markdown",
   "metadata": {
    "colab_type": "text",
    "id": "117BULje02R3"
   },
   "source": [
    "Write a program (function!) that takes a list and returns a new list that contains all the elements of the first list minus all the duplicates.\n",
    "\n",
    "Extras:\n",
    "\n",
    "1.    Write two different functions to do this - one using a loop and constructing a list, and another using sets.\n",
    " "
   ]
  },
  {
   "cell_type": "code",
   "execution_count": null,
   "metadata": {
    "colab": {},
    "colab_type": "code",
    "id": "ixAYpEEE08-W"
   },
   "outputs": [],
   "source": [
    "# your code here"
   ]
  },
  {
   "cell_type": "code",
   "execution_count": null,
   "metadata": {
    "colab": {},
    "colab_type": "code",
    "id": "ralGx15D0_VP"
   },
   "outputs": [],
   "source": [
    "#@title Solution {display-mode: \"form\"}\n",
    "\n",
    "# this one uses a for loop\n",
    "def dedupe_v1(x):\n",
    "  y = []\n",
    "  for i in x:\n",
    "    if i not in y:\n",
    "      y.append(i)\n",
    "  return y\n",
    "\n",
    "#this one uses sets\n",
    "def dedupe_v2(x):\n",
    "    return list(set(x))\n",
    "\n",
    "a = [1,2,3,4,3,2,1]\n",
    "print(a)\n",
    "print(dedupe_v1(a))\n",
    "print(dedupe_v2(a))"
   ]
  },
  {
   "cell_type": "markdown",
   "metadata": {
    "colab_type": "text",
    "id": "pAYTetbC2QOw"
   },
   "source": [
    "# Exercise 6"
   ]
  },
  {
   "cell_type": "markdown",
   "metadata": {
    "colab_type": "text",
    "id": "9JoTx4342Sk_"
   },
   "source": [
    "In this exercise, the task is to write a function that picks a random word from a list of words from the [SOWPODS dictionary](http://norvig.com/ngrams/sowpods.txt). Download this file and save it in the same directory as your Python code. This file is [Peter Norvig](https://en.wikipedia.org/wiki/Peter_Norvig)’s compilation of the dictionary of words used in professional Scrabble tournaments. Each line in the file contains a single word.\n",
    "\n",
    "Hint: use the Python random library for picking a random word."
   ]
  },
  {
   "cell_type": "code",
   "execution_count": null,
   "metadata": {
    "colab": {},
    "colab_type": "code",
    "id": "JQFaoCrB2y4P"
   },
   "outputs": [],
   "source": [
    "# your code goed here"
   ]
  },
  {
   "cell_type": "code",
   "execution_count": null,
   "metadata": {
    "colab": {},
    "colab_type": "code",
    "id": "yCblWZLb21dA"
   },
   "outputs": [],
   "source": [
    "#@title Solution {display-mode: \"form\"}\n",
    "\n",
    "import random\n",
    "with open('sowpods.txt') as f:\n",
    "\twords = list(f)\n",
    "print(random.choice(words).strip())"
   ]
  },
  {
   "cell_type": "markdown",
   "metadata": {
    "colab_type": "text",
    "id": "PIDxs3D-5vbb"
   },
   "source": [
    "# Exercise 7"
   ]
  },
  {
   "cell_type": "markdown",
   "metadata": {
    "colab_type": "text",
    "id": "NXubdFZI5x3-"
   },
   "source": [
    "For this exercise, we will keep track of when our friend’s birthdays are, and be able to find that information based on their name. Create a dictionary (in your file) of names and birthdays. When you run your program it should ask the user to enter a name, and return the birthday of that person back to them. The interaction should look something like this:\n",
    "\n",
    "\\>>> Welcome to the birthday dictionary. We know the birthdays of:\\\n",
    "Albert Einstein\\\n",
    "Benjamin Franklin\\\n",
    "Ada Lovelace\\\n",
    "\\>>> Who's birthday do you want to look up?\\\n",
    "Benjamin Franklin\\\n",
    "\\>>> Benjamin Franklin's birthday is 01/17/1706."
   ]
  },
  {
   "cell_type": "code",
   "execution_count": null,
   "metadata": {
    "colab": {},
    "colab_type": "code",
    "id": "HGkhHgX55zmF"
   },
   "outputs": [],
   "source": [
    "# your code here"
   ]
  },
  {
   "cell_type": "code",
   "execution_count": null,
   "metadata": {
    "colab": {},
    "colab_type": "code",
    "id": "g3n9CoyP5z-e"
   },
   "outputs": [],
   "source": [
    "#@title Solution {display-mode: \"form\"}\n",
    "\n",
    "if __name__ == '__main__':\n",
    "\n",
    "    birthdays = {\n",
    "        'Albert Einstein': '03/14/1879',\n",
    "        'Benjamin Franklin': '01/17/1706',\n",
    "        'Ada Lovelace': '12/10/1815',\n",
    "        'Rowan Atkinson': '01/6/1955'}\n",
    "\n",
    "    print('Welcome to the birthday dictionary. We know the birthdays of:')\n",
    "    for name in birthdays:\n",
    "        print(name)\n",
    "\n",
    "    print('Who\\'s birthday do you want to look up?')\n",
    "    name = input()\n",
    "    if name in birthdays:\n",
    "        print('{}\\'s birthday is {}.'.format(name, birthdays[name]))\n",
    "    else:\n",
    "        print('Sadly, we don\\'t have {}\\'s birthday.'.format(name))"
   ]
  },
  {
   "cell_type": "markdown",
   "metadata": {
    "colab_type": "text",
    "id": "-_BZxXfc4SgI"
   },
   "source": [
    "# Exercise 8"
   ]
  },
  {
   "cell_type": "markdown",
   "metadata": {
    "colab_type": "text",
    "id": "bGA8-wPN4VKd"
   },
   "source": [
    "Given a .txt file that has a list of a bunch of names, count how many of each name there are in the file, and print out the results to the screen. I have a .txt file for you, if you want to [use it](http://www.practicepython.org/assets/nameslist.txt)!\n",
    "\n",
    "Extra:\n",
    "\n",
    "   Instead of using the .txt file from above (or instead of, if you want the challenge), take [this .txt file](http://www.practicepython.org/assets/Training_01.txt), and count how many of each “category” of each image there are. This text file is actually a list of files corresponding to the SUN database scene recognition database, and lists the file directory hierarchy for the images. Once you take a look at the first line or two of the file, it will be clear which part represents the scene category.\n"
   ]
  },
  {
   "cell_type": "code",
   "execution_count": null,
   "metadata": {
    "colab": {},
    "colab_type": "code",
    "id": "I2WSiZT244OR"
   },
   "outputs": [],
   "source": [
    "# your code goed here"
   ]
  },
  {
   "cell_type": "code",
   "execution_count": null,
   "metadata": {
    "colab": {},
    "colab_type": "code",
    "id": "RfoIYF7N46lG"
   },
   "outputs": [],
   "source": [
    "#@title Solution {display-mode: \"form\"}\n",
    "\n",
    "counter_dict = {}\n",
    "with open('nameslist.txt') as f:\n",
    "\tline = f.readline()\n",
    "\twhile line:\n",
    "\t\tline = line.strip()\n",
    "\t\tif line in counter_dict:\n",
    "\t\t\tcounter_dict[line] += 1\n",
    "\t\telse:\n",
    "\t\t\tcounter_dict[line] = 1\n",
    "\t\tline = f.readline()\n",
    "\n",
    "print(counter_dict)"
   ]
  },
  {
   "cell_type": "markdown",
   "metadata": {
    "colab_type": "text",
    "id": "eqZ_i-C_60E7"
   },
   "source": [
    "# Exercise 9"
   ]
  },
  {
   "cell_type": "markdown",
   "metadata": {
    "colab_type": "text",
    "id": "2oc9m_hY62VN"
   },
   "source": [
    "Time for some fake graphics! Let’s say we want to draw game boards that look like this:\n",
    "\n",
    "     --- --- --- \n",
    "    |   |   |   | \n",
    "     --- --- ---  \n",
    "    |   |   |   | \n",
    "     --- --- ---  \n",
    "    |   |   |   | \n",
    "     --- --- --- \n",
    "\n",
    "This one is 3x3 (like in tic tac toe). Obviously, they come in many other sizes (8x8 for chess, 19x19 for Go, and many more).\n",
    "\n",
    "Ask the user what size game board they want to draw, and draw it for them to the screen using Python’s print statement.\n",
    "\n",
    "\n",
    "Hint: this requires some use of functions"
   ]
  },
  {
   "cell_type": "code",
   "execution_count": null,
   "metadata": {
    "colab": {},
    "colab_type": "code",
    "id": "RU4xD0yC7QUY"
   },
   "outputs": [],
   "source": [
    "# your code here"
   ]
  },
  {
   "cell_type": "code",
   "execution_count": null,
   "metadata": {
    "colab": {},
    "colab_type": "code",
    "id": "6PK_WeSL7SI8"
   },
   "outputs": [],
   "source": [
    "#@title Solution {display-mode: \"form\"}\n",
    "\n",
    "def print_horiz_line():\n",
    "  print(\" --- \" * board_size)\n",
    "  \n",
    "def print_vert_line():\n",
    "  print(\"|   \" * (board_size + 1))\n",
    "  \n",
    "if __name__ == \"__main__\":\n",
    "  board_size = int(input(\"What size of game board? \"))\n",
    "\n",
    "  for index in range(board_size):\n",
    "    print_horiz_line()\n",
    "    print_vert_line()\n",
    "  print_horiz_line()"
   ]
  },
  {
   "cell_type": "markdown",
   "metadata": {
    "colab_type": "text",
    "id": "fzYu0S508Ye0"
   },
   "source": [
    "# Exercise 10"
   ]
  },
  {
   "cell_type": "markdown",
   "metadata": {
    "colab_type": "text",
    "id": "TznZYw0D8bLc"
   },
   "source": [
    "In the previous exercise we created a dictionary of famous scientists’ birthdays. In this exercise, modify your program from Part 1 to load the birthday dictionary from a JSON file on disk, rather than having the dictionary defined in the program.\n",
    "\n",
    "**Bonus**: Ask the user for another scientist’s name and birthday to add to the dictionary, and update the JSON file you have on disk with the scientist’s name. If you run the program multiple times and keep adding new names, your JSON file should keep getting bigger and bigger.\n"
   ]
  },
  {
   "cell_type": "code",
   "execution_count": null,
   "metadata": {
    "colab": {},
    "colab_type": "code",
    "id": "EhEljlwP8bhr"
   },
   "outputs": [],
   "source": [
    "# your solution here"
   ]
  },
  {
   "cell_type": "code",
   "execution_count": 32,
   "metadata": {
    "colab": {
     "base_uri": "https://localhost:8080/",
     "height": 104
    },
    "colab_type": "code",
    "executionInfo": {
     "elapsed": 11851,
     "status": "ok",
     "timestamp": 1557847668924,
     "user": {
      "displayName": "Jasper Op de Coul",
      "photoUrl": "",
      "userId": "07143274552495422761"
     },
     "user_tz": -120
    },
    "id": "yQnRTgJW8b0d",
    "outputId": "1b01d0f8-5c33-4917-b385-fa368218d1e4"
   },
   "outputs": [
    {
     "name": "stdout",
     "output_type": "stream",
     "text": [
      "What do you want to do next? you can: Add, Find, List, Quit\n",
      "quir\n",
      "What do you want to do next? you can: Add, Find, List, Quit\n",
      "quit\n",
      "Good Bye\n"
     ]
    }
   ],
   "source": [
    "#@title Solution {display-mode: \"form\"}\n",
    "\n",
    "import os\n",
    "import json\n",
    "\n",
    "birthday = {}\n",
    "if os.path.isfile('birthdays.json'):\n",
    "    with open('birthdays.json', 'r') as f:\n",
    "        birthday = json.load(f)\n",
    "  \n",
    "def add_entry():\n",
    "    name = input('Who do you want to add to the Birthday Dictionnary?\\n').title()\n",
    "    date = input('When is {} born?\\n'.format(name))\n",
    "    birthday[name] = date\n",
    "    with open('birthdays.json', 'w') as f:\n",
    "        json.dump(birthday, f)\n",
    "    print('{} was added to my birthday list\\n'.format(name))\n",
    "\n",
    "def find_date():\n",
    "    name = input(\"who's birthday do you want to know?\\n\").title()\n",
    "    try :\n",
    "        if birthday[name]:\n",
    "            print('{} is born on {}\\n'.format(name, birthday[name]))\n",
    "    except KeyError:\n",
    "        print('{} is not in the list\\n'.format(name))\n",
    "\n",
    "def list_entries():\n",
    "    print('The current entries in my birthday list are:\\n============================================')\n",
    "    for key in birthday:\n",
    "        print(key.ljust(31), ':', birthday[key])\n",
    "    print()\n",
    "\n",
    "while True:\n",
    "    what_next = input('What do you want to do next? you can: Add, Find, List, Quit\\n').capitalize()\n",
    "    if what_next == 'Quit':\n",
    "        print('Good Bye')\n",
    "        break\n",
    "    elif what_next == 'Add':\n",
    "        add_entry()\n",
    "    elif what_next == 'Find':\n",
    "        find_date()\n",
    "    elif what_next == 'List':\n",
    "        list_entries()"
   ]
  }
 ],
 "metadata": {
  "colab": {
   "collapsed_sections": [],
   "name": "Exercises.ipynb",
   "provenance": [],
   "toc_visible": true,
   "version": "0.3.2"
  },
  "kernelspec": {
   "display_name": "Python 3",
   "language": "python",
   "name": "python3"
  },
  "language_info": {
   "codemirror_mode": {
    "name": "ipython",
    "version": 3
   },
   "file_extension": ".py",
   "mimetype": "text/x-python",
   "name": "python",
   "nbconvert_exporter": "python",
   "pygments_lexer": "ipython3",
   "version": "3.7.1"
  }
 },
 "nbformat": 4,
 "nbformat_minor": 2
}
