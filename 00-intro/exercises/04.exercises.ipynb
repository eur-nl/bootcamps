{
 "cells": [
  {
   "cell_type": "markdown",
   "metadata": {
    "deletable": true,
    "editable": true
   },
   "source": [
    "<hr style=\"height: 3px; margin: 0\" />   \n",
    "### 4 A"
   ]
  },
  {
   "cell_type": "markdown",
   "metadata": {
    "deletable": true,
    "editable": true
   },
   "source": [
    "Translate grade percentages to letters.  \n",
    "```\n",
    "A : 90 - 100  \n",
    "B : 80 - 89  \n",
    "C : 70 - 79  \n",
    "D : 60 - 69  \n",
    "F : 0 - 59\n",
    "```"
   ]
  },
  {
   "cell_type": "code",
   "execution_count": null,
   "metadata": {
    "deletable": true,
    "editable": true
   },
   "outputs": [],
   "source": [
    "score = 91\n",
    "\n",
    "# Your code here\n",
    "\n",
    "print(letter)"
   ]
  },
  {
   "cell_type": "markdown",
   "metadata": {
    "deletable": true,
    "editable": true
   },
   "source": [
    "<hr style=\"height: 3px; margin: 0\" />\n",
    "### 4 B"
   ]
  },
  {
   "cell_type": "markdown",
   "metadata": {
    "deletable": true,
    "editable": true
   },
   "source": [
    "Calculate the pay of an employee, based on overtime and hourly rate.  \n",
    "- The first 40 hours are rewarded with 10.  \n",
    "- The next 5 hours are rewarded with 15.  \n",
    "- Every hour after that is rewarded with 20."
   ]
  },
  {
   "cell_type": "code",
   "execution_count": null,
   "metadata": {
    "deletable": true,
    "editable": true
   },
   "outputs": [],
   "source": [
    "hours = 48\n",
    "rate = 10\n",
    "\n",
    "total = 0\n",
    "# Your code here\n",
    "\n",
    "print(total)  "
   ]
  },
  {
   "cell_type": "markdown",
   "metadata": {
    "deletable": true,
    "editable": true
   },
   "source": [
    "<hr style=\"height: 3px; margin: 0\" />\n",
    "### 4 C"
   ]
  },
  {
   "cell_type": "markdown",
   "metadata": {
    "deletable": true,
    "editable": true
   },
   "source": [
    "Print the largest of a list of three (positive) numbers.  \n",
    "Normally you would do this with the `max()` function.  \n",
    "But how else can you do it?\n",
    "\n",
    "```python\n",
    ">>> max(1, 2)\n",
    "2\n",
    ">>> max([1, 2])\n",
    "2\n",
    "```"
   ]
  },
  {
   "cell_type": "code",
   "execution_count": null,
   "metadata": {
    "deletable": true,
    "editable": true
   },
   "outputs": [],
   "source": [
    "numbers = [1, 2, 5]\n",
    "\n",
    "# Your code here"
   ]
  },
  {
   "cell_type": "markdown",
   "metadata": {
    "deletable": true,
    "editable": true
   },
   "source": [
    "<hr style=\"height: 3px; margin: 0\" />\n",
    "### 4 D"
   ]
  },
  {
   "cell_type": "markdown",
   "metadata": {
    "deletable": true,
    "editable": true
   },
   "source": [
    "In Python (and many other languages) boolean calculation is done with [short-circuit evaluation](https://en.wikipedia.org/wiki/Short-circuit_evaluation).  \n",
    "An argument is only evaluated if the previous arguments aren't sufficient to determine the value."
   ]
  },
  {
   "cell_type": "markdown",
   "metadata": {
    "deletable": true,
    "editable": true
   },
   "source": [
    "The code below works of we set x = 4 and y = 1.  \n",
    "But if we set y = 0 we'll get a ZeroDivisionError.  \n",
    "\n",
    "Correct the code below to accomodate y = 0"
   ]
  },
  {
   "cell_type": "code",
   "execution_count": null,
   "metadata": {
    "deletable": true,
    "editable": true
   },
   "outputs": [],
   "source": [
    "x = 4\n",
    "y = 1\n",
    "\n",
    "# Make this work for y = 0\n",
    "if x > 3 and x/y > 2:\n",
    "    print(\"x > 3 and x/y > 1\")\n",
    "else:\n",
    "    print(\"Nope, they're not\")"
   ]
  },
  {
   "cell_type": "markdown",
   "metadata": {
    "deletable": true,
    "editable": true
   },
   "source": [
    "<hr style=\"height: 3px; margin: 0\" />\n",
    "### 4 E"
   ]
  },
  {
   "cell_type": "markdown",
   "metadata": {
    "deletable": true,
    "editable": true
   },
   "source": [
    "Write a Python program which iterates the integers from 1 to 30.  \n",
    "Print each number to a new line, but:\n",
    "* For multiples of three add \"Fizz\"\n",
    "* For multiples of five add \"Buzz\"\n",
    "* For multiples of both three and five add \"FizzBuzz\"\n",
    "\n",
    "```\n",
    "25 Buzz\n",
    "26 \n",
    "27 Fizz\n",
    "28 \n",
    "29 \n",
    "30 FizzBuzz\n",
    "```"
   ]
  },
  {
   "cell_type": "code",
   "execution_count": null,
   "metadata": {
    "deletable": true,
    "editable": true
   },
   "outputs": [],
   "source": [
    "for i in range(1, 31):\n",
    "    # Your code here\n",
    "    pass"
   ]
  }
 ],
 "metadata": {
  "kernelspec": {
   "display_name": "Python 3",
   "language": "python",
   "name": "python3"
  },
  "language_info": {
   "codemirror_mode": {
    "name": "ipython",
    "version": 3
   },
   "file_extension": ".py",
   "mimetype": "text/x-python",
   "name": "python",
   "nbconvert_exporter": "python",
   "pygments_lexer": "ipython3",
   "version": "3.7.1"
  }
 },
 "nbformat": 4,
 "nbformat_minor": 2
}
