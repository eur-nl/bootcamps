{
 "cells": [
  {
   "cell_type": "markdown",
   "metadata": {
    "colab_type": "text",
    "id": "view-in-github"
   },
   "source": [
    "<a href=\"https://colab.research.google.com/github/eur-nl/bootcamps/blob/master/00-intro/00_welcome.ipynb\" target=\"_parent\"><img src=\"https://colab.research.google.com/assets/colab-badge.svg\" alt=\"Open In Colab\"/></a>"
   ]
  },
  {
   "cell_type": "markdown",
   "metadata": {},
   "source": [
    "*This notebook is based on notebooks from the [Whirlwind Tour of Python](http://www.oreilly.com/programming/free/a-whirlwind-tour-of-python.csp) by Jake VanderPlas; the content is available [on GitHub](https://github.com/eur-nl/bootcamps) and on the second edition of [Think Python](https://greenteapress.com/wp/think-python-2e/) by Allen Downey.*"
   ]
  },
  {
   "cell_type": "markdown",
   "metadata": {},
   "source": [
    "<!--NAVIGATION-->\n",
    "< [1. Introduction](00-welcome.ipynb) | [Contents](Index.ipynb) | [Python Basic Syntax](02-Basic-Python-Syntax.ipynb) >\n",
    "<!-- Solution for this notebook -->\n",
    "< [Solutions to exercises](01-Solutions.ipynb) >"
   ]
  },
  {
   "cell_type": "markdown",
   "metadata": {
    "colab_type": "text",
    "id": "cY5CYAyN_RqT"
   },
   "source": [
    "![Practice](https://github.com/eur-nl/bootcamps/blob/master/00-intro/graphics/practice.jpg?raw=1)"
   ]
  },
  {
   "cell_type": "markdown",
   "metadata": {
    "colab_type": "text",
    "id": "XHV9uSa4_RqW"
   },
   "source": [
    "### Goals of the workshop\n",
    "\n",
    "#### The way of the program\n",
    "\n",
    "Programming is based on a certain kind of thinking, often referred to as \"**computational thinking**\". This computational thinking is not unlike \"scientific thinking\": observing complex systems, formulating hypotheses or possible solutions, and testing predictions and implementations.\n",
    "\n",
    "Then there is an engineering context: Designing things, assembling parts into larger parts, evaluating trade-offs between alternatives.\n",
    "\n",
    "And there is this formal language, the computer language, with which one expresses computations (ideas, proposed solutions).\n",
    "\n",
    "To master programming, one skill stands out: **Problem solving**. Formulate problems, use your creativity to think about solutions, express these solutions in the programming language of your choice.\n",
    "\n",
    "We can not teach you programming in two or three days. But we can help you to get started and, once you have started, we can help you when you are stuck.\n",
    "\n",
    "We choose Python because we know it well. It is a clean, readable language with a REPL that is great for working incrementally on programming tasks. Python runs on all major platforms and it has some great libraries, especially for scientific computing. It can be used to work on web applications, system applications and data applications. Python is interpreted and is well suited for object oriented programming. We think Python is relatively easy to learn. It has an elegant syntax and just a few keywords. On top of that it comes with quite a lot of useful libraries.\n",
    "\n",
    "You will find most Python programmers, or Pythonistas, friendly and helpful.\n",
    "\n",
    "#### Jupyter notebooks\n",
    "\n",
    "And Python has this fabulous thing you are looking at: The Jupyter Notebook, which we will use throughout the workshop. It is great for presentations, for study purposes, for investigating problems and it makes for a tremendous electronic lab-journal that you can share with others: **reproducible research**.\n",
    "\n",
    "And through these Jupyter Notebooks you get to know:\n",
    "\n",
    "- Google's Colab (Platform to run Jupyter Notebooks)\n",
    "- Github repositories (Version control your data)"
   ]
  },
  {
   "cell_type": "markdown",
   "metadata": {
    "colab_type": "text",
    "id": "7eT7trFI_RqZ"
   },
   "source": [
    "#### Future scientific research\n",
    "\n",
    "Will become more and more **team work**. Given the parallels between science and programming mentioned above, there seems to be a natural match. With the engineering and programming skills of the computer scientist and the scientific attitude and domain knowledge of the researcher.\n",
    "\n",
    "So, even if you decide after these three day that this programming thing certainly is not for you, you will know of it's existence. And you might have picked up some ideas about problem solving and engineering along the way, using pseudocode, or simply using the PPS (pencil and paper strategy), that will enable you to fruitfully work together with programmers."
   ]
  },
  {
   "cell_type": "markdown",
   "metadata": {},
   "source": [
    "### What is a program?\n",
    "\n",
    "To use Allen Downey's definition: A program is a sequence of instructions that specifies how to perform a computation (math, text, graphics, etc.).\n",
    "\n",
    "Basic components of any computer program:\n",
    "\n",
    "- input (keyboard, file, network, etc.)\n",
    "- output (screen, file, network)\n",
    "- math\n",
    "- conditional execution\n",
    "- repetition\n",
    "\n",
    "Even huge programs are build out of these simple building blocks. But because you are almost always confronted with the end result, a large and complicated program, what you see is a large and complex thing, and almost never the intermediate stages. Getting accustomed to breaking up tasks into smaller subtasks and solving these one by one is an important exra goal of this workshop."
   ]
  },
  {
   "cell_type": "markdown",
   "metadata": {},
   "source": [
    "### How to run Python code\n",
    "\n",
    "Python is a flexible language, and there are several ways to use it depending on your particular task.\n",
    "One thing that distinguishes Python from other programming languages is that it is *interpreted* rather than *compiled*.\n",
    "This means that it is executed line by line, which allows programming to be interactive in a way that is not directly possible with compiled languages like Fortran, C, or Java. This section will describe four primary ways you can run Python code: the *Python interpreter*, the *IPython interpreter*, via *Self-contained Scripts*, or in the *Jupyter notebook* (which is the thing that you are looking at now!)."
   ]
  },
  {
   "cell_type": "markdown",
   "metadata": {},
   "source": [
    "#### The Python Interpreter\n",
    "\n",
    "The most basic way to execute Python code is line by line within the *Python interpreter*.\n",
    "The Python interpreter can be started by installing the Python language (often Python is readily available on your computer. However, installing Python together with a host of libraries can be very useful, for example the Anaconda disribution by Continuum Analytics) and typing ``python`` at the command prompt (look for the Terminal on Mac OS X and Unix/Linux systems, or the Command Prompt application in Windows):\n",
    "```\n",
    "$ python\n",
    "Python 3.5.1 |Continuum Analytics, Inc.| (default, Dec  7 2015, 11:24:55)\n",
    "Type \"help\", \"copyright\", \"credits\" or \"license\" for more information.\n",
    ">>>\n",
    "```\n",
    "With the interpreter running, you can begin to type and execute code snippets.\n",
    "Here we'll use the interpreter as a simple calculator, performing calculations and assigning values to variables:\n",
    "``` python\n",
    ">>> 1 + 1\n",
    "2\n",
    ">>> x = 5\n",
    ">>> x * 3\n",
    "15\n",
    "```\n",
    "\n",
    "The interpreter makes it very convenient to try out small snippets of Python code and to experiment with short sequences of operations."
   ]
  },
  {
   "cell_type": "markdown",
   "metadata": {},
   "source": [
    "QC-1.1\n",
    "\n",
    "Open up a terminal (using the command appropriate for your OS) and calculate the values for the following snippets:\n",
    "\n",
    "- 2 * 3 + 18 / 3\n",
    "- 2 * (3 + 18 / 3)\n",
    "- 2 * (3 + 18) / 3"
   ]
  },
  {
   "cell_type": "code",
   "execution_count": null,
   "metadata": {},
   "outputs": [],
   "source": [
    "# QC-1.1 Your answers here:"
   ]
  },
  {
   "cell_type": "markdown",
   "metadata": {},
   "source": [
    "__QC-1.2__\n",
    "\n",
    "In the terminal: Calculate 9 to the power 9 (hint: check exponentiation)"
   ]
  },
  {
   "cell_type": "markdown",
   "metadata": {},
   "source": [
    "__Q-1__\n",
    "\n",
    "In the solutions to QC-1.2 the question following question is posed: Write your own exponentiation function. Write and test your function in the cell below."
   ]
  },
  {
   "cell_type": "code",
   "execution_count": null,
   "metadata": {},
   "outputs": [],
   "source": [
    "# Q-1 Your answer here:"
   ]
  },
  {
   "cell_type": "markdown",
   "metadata": {},
   "source": [
    "__QC-1.3__\n",
    "\n",
    "In the terminal: If __a__ is a list with the elements: 1, 2, 3, 4, 5, 6, 7, 8, 9, 10. Calculate the sum of the elements. Hint: Lists are defined with square brackets in Python."
   ]
  },
  {
   "cell_type": "code",
   "execution_count": null,
   "metadata": {},
   "outputs": [],
   "source": [
    "# QC-1.3 Your answer here:"
   ]
  },
  {
   "cell_type": "markdown",
   "metadata": {},
   "source": [
    "__QC-1.4__\n",
    "Take a list, say for example this one:\n",
    "\n",
    "  a = [1, 1, 2, 3, 5, 8, 13, 21, 34, 55, 89]\n",
    "\n",
    "and write a program that prints out all the elements of the list that are less than 5.\n",
    "\n",
    "Extras:\n",
    "\n",
    "1.    Instead of printing the elements one by one, make a new list that has all the elements less than 5 from this list in it and print out this new list.\n",
    "2.    Write this in one line of Python."
   ]
  },
  {
   "cell_type": "code",
   "execution_count": null,
   "metadata": {},
   "outputs": [],
   "source": [
    "#### The IPython interpreter\n",
    "\n",
    "If you spend much time with the basic Python interpreter, you'll find that it lacks many of the features of a full-fledged interactive development environment.\n",
    "An alternative interpreter called *IPython* (for Interactive Python) is bundled with the Anaconda distribution, and includes a host of convenient enhancements to the basic Python interpreter.\n",
    "It can be started by typing ``ipython`` at the command prompt:\n",
    "```\n",
    "$ ipython\n",
    "Python 3.5.1 |Continuum Analytics, Inc.| (default, Dec  7 2015, 11:24:55) \n",
    "Type \"copyright\", \"credits\" or \"license\" for more information.\n",
    "\n",
    "IPython 4.0.0 -- An enhanced Interactive Python.\n",
    "?         -> Introduction and overview of IPython's features.\n",
    "%quickref -> Quick reference.\n",
    "help      -> Python's own help system.\n",
    "object?   -> Details about 'object', use 'object??' for extra details.\n",
    "\n",
    "In [1]: \n",
    "```\n",
    "The main aesthetic difference between the Python interpreter and the enhanced IPython interpreter lies in the command prompt: Python uses ``>>>`` by default, while IPython uses numbered commands (e.g. ``In [1]:``).\n",
    "Regardless, we can execute code line by line just as we did before:\n",
    "``` ipython\n",
    "In [1]: 1 + 1\n",
    "Out[1]: 2\n",
    "\n",
    "In [2]: x = 5\n",
    "\n",
    "In [3]: x * 3\n",
    "Out[3]: 15\n",
    "```\n",
    "Note that just as the input is numbered, the output of each command is numbered as well.\n",
    "IPython makes available a wide array of useful features; for some suggestions on where to read more, see [Resources for Further Learning](16-Further-Resources.ipynb)."
   ]
  },
  {
   "cell_type": "markdown",
   "metadata": {},
   "source": [
    "__QC-1.5__\n",
    "\n",
    "Using the Python REPL as a calculator:\n",
    "\n",
    "1. How many seconds are there in 42 minutes 42 seconds?\n",
    "2. How many miles in 10 kilometers? (A mile is 1.61 kilometers)\n",
    "3. Suppose you run a 10-kilometer race in 37 minutes 48 seconds, what is your average pace (time per mile in minutes and seconds)? And what is your average speed in miles per hour?"
   ]
  },
  {
   "cell_type": "code",
   "execution_count": null,
   "metadata": {},
   "outputs": [],
   "source": [
    "# QC-1.5 Your code here:"
   ]
  },
  {
   "cell_type": "markdown",
   "metadata": {},
   "source": [
    "#### Self-contained Python scripts\n",
    "\n",
    "Running Python snippets line by line is useful in some cases, but for more complicated programs it is more convenient to save code to file, and execute it all at once.\n",
    "By convention, Python scripts are saved in files with a *.py* extension.\n",
    "For example, let's create a script called *test.py* which contains the following:\n",
    "``` python\n",
    "# file: test.py\n",
    "print(\"Running test.py\")\n",
    "x = 5\n",
    "print(\"Result is\", 3 * x)\n",
    "```\n",
    "To run this file, we make sure it is in the current directory and type ``python`` *``filename``* at the command prompt:\n",
    "```\n",
    "$ python test.py\n",
    "Running test.py\n",
    "Result is 15\n",
    "```\n",
    "For more complicated programs, creating self-contained scripts like this one is a must."
   ]
  },
  {
   "cell_type": "markdown",
   "metadata": {},
   "source": [
    "#### The Jupyter notebook\n",
    "\n",
    "A useful hybrid of the interactive terminal and the self-contained script is the *Jupyter notebook*, a document format that allows executable code, formatted text, graphics, and even interactive features to be combined into a single document.\n",
    "Though the notebook began as a Python-only format, it has since been made compatible with a large number of programming languages, and is now an essential part of the [*Jupyter Project*](https://jupyter.org/).\n",
    "The notebook is useful both as a development environment, and as a means of sharing work via rich computational and data-driven narratives that mix together code, figures, data, and text."
   ]
  },
  {
   "cell_type": "markdown",
   "metadata": {},
   "source": [
    "__Q-2__\n",
    "Create a program that asks the user to enter their name and their age. \n",
    "Print out a message addressed to them that tells them the year that they will turn 100 years old. Hint: Open up the Python REPL and run help(input).\n",
    "\n",
    "Extras:\n",
    "\n",
    "1.    Add on to the previous program by asking the user for another number and printing out that many copies of the previous message. (Hint: order of operations exists in Python)\n",
    "\n",
    "2.    Print out that many copies of the previous message on separate lines. (Hint: the string \"\\n is the same as pressing the ENTER button)"
   ]
  },
  {
   "cell_type": "code",
   "execution_count": null,
   "metadata": {},
   "outputs": [],
   "source": [
    "# Q-2: Your code here"
   ]
  },
  {
   "cell_type": "markdown",
   "metadata": {},
   "source": [
    "__Q-3__\n",
    "Ask the user for a number. Depending on whether the number is even or odd, print out an appropriate message to the user. Hint: how does an even / odd number react differently when divided by 2?\n",
    "\n",
    "Extras:\n",
    "\n",
    "1.    If the number is a multiple of 4, print out a different message.\n",
    "2.   Ask the user for two numbers: one number to check (call it num) and one number to divide by (check). If check divides evenly into num, tell that to the user. If not, print a different appropriate message."
   ]
  },
  {
   "cell_type": "code",
   "execution_count": null,
   "metadata": {},
   "outputs": [],
   "source": [
    "# Q-3 Your code here:"
   ]
  },
  {
   "cell_type": "markdown",
   "metadata": {},
   "source": [
    "__Q-4__\n",
    "\n",
    "Suppose you have eur. 100, which you can invest with a 10 percent return each year. After one year, it's 100×1.1=110 euros, and after two years it's 100×1.1×1.1=121. Write code to calculate how much money you end up with after 7 years."
   ]
  },
  {
   "cell_type": "code",
   "execution_count": null,
   "metadata": {},
   "outputs": [],
   "source": [
    "# Q-4 Your code here:"
   ]
  },
  {
   "cell_type": "markdown",
   "metadata": {},
   "source": [
    "__Q-5__\n",
    "\n",
    "In order to make the code above more general, the program could be changed in order to receive three values of the user: the amount of the investment, the interest, and the number of years of the investment.\n",
    "\n",
    "In order to deal with input of the user, consider your answer of Q-2\n",
    "\n",
    "What is a possible weak spot of asking the user of your program for input? Could you think of a way to change the program in order to be more robust?"
   ]
  },
  {
   "cell_type": "code",
   "execution_count": null,
   "metadata": {},
   "outputs": [],
   "source": [
    "# Q-5 Your code here"
   ]
  }
 ],
 "metadata": {
  "colab": {
   "include_colab_link": true,
   "name": "00_colab_welcome.ipynb",
   "provenance": [],
   "version": "0.3.2"
  },
  "kernelspec": {
   "display_name": "Python 3",
   "language": "python",
   "name": "python3"
  },
  "language_info": {
   "codemirror_mode": {
    "name": "ipython",
    "version": 3
   },
   "file_extension": ".py",
   "mimetype": "text/x-python",
   "name": "python",
   "nbconvert_exporter": "python",
   "pygments_lexer": "ipython3",
   "version": "3.7.1"
  }
 },
 "nbformat": 4,
 "nbformat_minor": 2
}
