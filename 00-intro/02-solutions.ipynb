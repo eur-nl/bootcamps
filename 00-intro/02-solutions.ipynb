{
 "cells": [
  {
   "cell_type": "markdown",
   "metadata": {},
   "source": [
    "__QC-2.1__"
   ]
  },
  {
   "cell_type": "code",
   "execution_count": null,
   "metadata": {},
   "outputs": [],
   "source": [
    "v = 5 # Velocity in km per hour"
   ]
  },
  {
   "cell_type": "markdown",
   "metadata": {},
   "source": [
    "__Q-2.1__"
   ]
  },
  {
   "cell_type": "code",
   "execution_count": 2,
   "metadata": {},
   "outputs": [
    {
     "name": "stdout",
     "output_type": "stream",
     "text": [
      "\t C \t F\n",
      "\t---\t---\n",
      "\t-20\t-4.0\n",
      "\t-15\t5.0\n",
      "\t-10\t14.0\n",
      "\t-5\t23.0\n",
      "\t0\t32.0\n",
      "\t5\t41.0\n",
      "\t10\t50.0\n",
      "\t15\t59.0\n",
      "\t20\t68.0\n",
      "\t25\t77.0\n",
      "\t30\t86.0\n",
      "\t35\t95.0\n",
      "\t40\t104.0\n"
     ]
    }
   ],
   "source": [
    "\"\"\"\n",
    "The program uses a list of temperatures in degrees Celsius\n",
    "Sets a variable, index, to be zero\n",
    "Prints a header for a table\n",
    "In the while loop which runs until the list of degrees celsius is empty\n",
    "each of the item in the list:\n",
    "- are assigned to C in turn\n",
    "- C is put into the formula to calculate F\n",
    "- the results are printed\n",
    "- the index is augemented with 1\n",
    "\"\"\"\n",
    "\n",
    "Cdegrees = [-20, -15, -10, -5, 0, 5, 10, 15, 20, 25, 30, 35, 40]\n",
    "index = 0\n",
    "print(\"\\t C \\t F\")\n",
    "print(\"\\t---\\t---\")\n",
    "while index < len(Cdegrees):\n",
    "    C = Cdegrees[index]\n",
    "    F = (9.0 / 5.0) * C + 32\n",
    "    print(\"\\t{}\\t{}\".format(C, F))\n",
    "    index = index + 1"
   ]
  },
  {
   "cell_type": "markdown",
   "metadata": {},
   "source": [
    "__Q-2.2__"
   ]
  },
  {
   "cell_type": "code",
   "execution_count": null,
   "metadata": {},
   "outputs": [],
   "source": [
    "user1 = input(\"What's your name?\")\n",
    "user2 = input(\"And your name?\")\n",
    "user1_answer = input(\"%s, do yo want to choose rock, paper or scissors?\" % user1)\n",
    "user2_answer = input(\"%s, do you want to choose rock, paper or scissors?\" % user2)\n",
    "\n",
    "def compare(u1, u2):\n",
    "    if u1 == u2:\n",
    "        return(\"It's a tie!\")\n",
    "    elif u1 == 'rock':\n",
    "        if u2 == 'scissors':\n",
    "            return(\"Rock wins!\")\n",
    "        else:\n",
    "            return(\"Paper wins!\")\n",
    "    elif u1 == 'scissors':\n",
    "        if u2 == 'paper':\n",
    "            return(\"Scissors win!\")\n",
    "        else:\n",
    "            return(\"Rock wins!\")\n",
    "    elif u1 == 'paper':\n",
    "        if u2 == 'rock':\n",
    "            return(\"Paper wins!\")\n",
    "        else:\n",
    "            return(\"Scissors win!\")\n",
    "    else:\n",
    "        return(\"Invalid input! You have not entered rock, paper or scissors, try again.\")\n",
    "\n",
    "print(compare(user1_answer, user2_answer))"
   ]
  }
 ],
 "metadata": {
  "kernelspec": {
   "display_name": "Python 3",
   "language": "python",
   "name": "python3"
  },
  "language_info": {
   "codemirror_mode": {
    "name": "ipython",
    "version": 3
   },
   "file_extension": ".py",
   "mimetype": "text/x-python",
   "name": "python",
   "nbconvert_exporter": "python",
   "pygments_lexer": "ipython3",
   "version": "3.7.1"
  }
 },
 "nbformat": 4,
 "nbformat_minor": 2
}
