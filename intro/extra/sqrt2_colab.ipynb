{
  "nbformat": 4,
  "nbformat_minor": 0,
  "metadata": {
    "colab": {
      "name": "sqrt2_colab.ipynb",
      "version": "0.3.2",
      "provenance": []
    },
    "language_info": {
      "codemirror_mode": {
        "name": "ipython",
        "version": 3
      },
      "file_extension": ".py",
      "mimetype": "text/x-python",
      "name": "python",
      "nbconvert_exporter": "python",
      "pygments_lexer": "ipython3",
      "version": "3.7.1"
    },
    "kernelspec": {
      "display_name": "Python 3",
      "language": "python",
      "name": "python3"
    }
  },
  "cells": [
    {
      "cell_type": "code",
      "metadata": {
        "id": "6cGrv03w_JvT",
        "colab_type": "code",
        "colab": {}
      },
      "source": [
        ""
      ],
      "execution_count": 0,
      "outputs": []
    },
    {
      "cell_type": "markdown",
      "metadata": {
        "id": "1yO2dwRG_y7u",
        "colab_type": "text"
      },
      "source": [
        "## Computing square roots\n",
        "\n",
        "The idea is to compute an approximation of sqrt(2). In other words we try to find a [rational ](https://en.wikipedia.org/wiki/Rational_number) that, multiplied by itself, comes close (close: yet to be defined) to 2.\n",
        "\n",
        "### PPS\n",
        "\n",
        "As always we use our beloved pencil and paper strategy to get some grip on the problem and to develop a first idea how to tackle the problem, what ingredients to use, and what values we can use for a test.\n",
        "\n",
        "*  sqrt(1) = 1\n",
        "*  sqrt(4) = 2 (because 2 * 2 = 4)\n",
        "*  sqrt(9) = 3\n",
        "\n",
        "So we are looking for a number (called a rational because it is expressed as a ratio of two numbers) between 1 and 2 that multiplied by itself comes as close to 2 as we want it to come.\n",
        "\n",
        "Let's give it a try:\n",
        "\n",
        "1.5 * 1.5 = 2.25 (too high)\n",
        "1.2 * 1.2 = 1.44 (too low)\n",
        "\n",
        "Looks like we need a repetitive calculation, perfectly suited for a computer. So let's give it a try.\n",
        "\n",
        "We start with 2 and suppose we divide 2 by x in order to get y: 2/x = y. If x is smaller than our sqrt(2) than y will be larger. Check: 2 / 1.2 = 1.6666. If x is larger than our sqrt(2) than y will be smaller than the number we are looking for (our sqrt(2)): 2 / 1.5 = 1.3333.\n",
        "\n",
        "So, let's keep it simple we start with x = 1.\n",
        "\n",
        "2 / 1 = 2 and 2 * 2 is 4 => too high. Much to high, our educated guess was better. We are clearly in need of an idea. If our x is too low and hence our y too high, we can take, for the next try the mean of both: (1 + 2) / 2 = 3/2 (Here is our rational).\n",
        "\n",
        "Our next try then is: 2 / (3/2) = 4/3,\n",
        "So our next try will use (4/3 + 3/2) / 2 as x\n",
        "\n",
        "#### We have developed an algorithm\n",
        "\n",
        "```\n",
        "1: X <- 1\n",
        "2: Y <- 2 / X\n",
        "3: Z <- (X + Y) / 2\n",
        "4: X <- Z\n",
        "5: if | X - Y | < e, goto line 2\n",
        "6: STOP\n",
        "```\n",
        "\n",
        "#### Counting with rationals sucks\n",
        "\n",
        "\n"
      ]
    },
    {
      "cell_type": "markdown",
      "metadata": {
        "id": "FQ3YxB_l_Zx8",
        "colab_type": "text"
      },
      "source": [
        ""
      ]
    }
  ]
}