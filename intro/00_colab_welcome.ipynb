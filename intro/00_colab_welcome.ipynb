{
 "cells": [
  {
   "cell_type": "markdown",
   "metadata": {},
   "source": [
    "![Practice](./graphics/practice.jpg)"
   ]
  },
  {
   "cell_type": "markdown",
   "metadata": {},
   "source": [
    "We can not teach you programming in two or three days. But we can help you to get started and, once you have started, we can help you when you are stuck.\n",
    "\n",
    "In fact we believe that the getting started part is the most difficult part of programming. You will hit brick walls, but you should learn that this obstacle can be removed brick by brick, although on the other end of the wall you will probably not find Nirwana, but most likely another wall.\n",
    "\n",
    "It takes a special attitude to get on with programming. Sometimes this attitude is referred to as \"incremental learning\", you get better as you move on, but you must be prepared to put in some hard work. Solve problems, again and again. Learn to formulate the problems you want to solve, learn to take the problem apart into smaller problems and start working on one of these first. Learn to use stuff others made. Learn to fruitfully work with other programmers.\n",
    "\n",
    "The good news is that you are probably not on your own solving certain problems. One of the (sub)goals of workshops like these is to establish a community of people on campus programming in Python. If you you hit a particularly hard wall, you can turn to others and ask for advice.\n",
    "\n",
    "We choose Python because we know it well. It is a clean, readable language with a REPL that is great for working incrementally on programming tasks. Python runs on all major platforms and it has some great libraries, especially for scientific computing. It can be used to work on web applications, system applications and data applications. Python is interpreted and is well suited for object oriented programming. We think Python is relatively easy to learn. It has an elegant syntax and just a few keywords.\n",
    "\n",
    "You will find most Python programmers, or Pythonistas, friendly and helpful.\n",
    "\n",
    "And Python has this fabulous thing you are looking at: The Jupyter Notebook, which we will use throughout the workshop. It is great for presentations, for study purposes, for investigating problems and it makes for a tremendous electronic lab-journal that you can share with others.\n",
    "\n",
    "And if you really start programming you will probably use, apart from the Jupyter notebook, the REPL and an editor."
   ]
  },
  {
   "cell_type": "markdown",
   "metadata": {},
   "source": [
    "![Tools of the trade](./graphics/tools.png)"
   ]
  },
  {
   "cell_type": "markdown",
   "metadata": {},
   "source": [
    "So, even if you decide after these three day that this programming thing certainly is not for you, you will know of it's existence. And you might have picked up some ideas about problem solving along the way, using pseudocode, or simply using the PPS (pencil and paper strategy)."
   ]
  },
  {
   "cell_type": "markdown",
   "metadata": {},
   "source": [
    "![Starting at the wrong end](./graphics/do_drugs.jpg)"
   ]
  }
 ],
 "metadata": {
  "kernelspec": {
   "display_name": "Python 3",
   "language": "python",
   "name": "python3"
  },
  "language_info": {
   "codemirror_mode": {
    "name": "ipython",
    "version": 3
   },
   "file_extension": ".py",
   "mimetype": "text/x-python",
   "name": "python",
   "nbconvert_exporter": "python",
   "pygments_lexer": "ipython3",
   "version": "3.7.1"
  }
 },
 "nbformat": 4,
 "nbformat_minor": 2
}
