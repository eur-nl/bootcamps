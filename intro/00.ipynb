{
 "cells": [
  {
   "cell_type": "markdown",
   "metadata": {
    "deletable": true,
    "editable": true,
    "slideshow": {
     "slide_type": "slide"
    }
   },
   "source": [
    "<center>\n",
    "<h1>Introduction to Python</h1>\n",
    "<h2>Peter van Huisstede, Jasper Op de Coul, UBIB</h2>\n",
    "<h2>Erik Kemperman, Govert Buijs, RSM IMC</h2>\n",
    "</center>"
   ]
  },
  {
   "cell_type": "markdown",
   "metadata": {
    "deletable": true,
    "editable": true,
    "slideshow": {
     "slide_type": "slide"
    }
   },
   "source": [
    "## Why Jupyter notebooks"
   ]
  },
  {
   "cell_type": "markdown",
   "metadata": {
    "deletable": true,
    "editable": true,
    "slideshow": {
     "slide_type": "fragment"
    }
   },
   "source": [
    "* What?\n",
    "* Why?\n",
    "* How?\n",
    "* That's why!"
   ]
  },
  {
   "cell_type": "markdown",
   "metadata": {
    "deletable": true,
    "editable": true,
    "slideshow": {
     "slide_type": "subslide"
    }
   },
   "source": [
    "## What?\n",
    "* Web-based interface for integrated document writing and data processing\n",
    "\n",
    "<img src=\"notebook_components.png\">"
   ]
  },
  {
   "cell_type": "markdown",
   "metadata": {
    "deletable": true,
    "editable": true,
    "slideshow": {
     "slide_type": "subslide"
    }
   },
   "source": [
    "## Why?\n"
   ]
  },
  {
   "cell_type": "markdown",
   "metadata": {
    "deletable": true,
    "editable": true,
    "slideshow": {
     "slide_type": "fragment"
    }
   },
   "source": [
    "* Conventional programming tools:\n",
    "    * An Integrated Development Environment (IDE)\n",
    "    or\n",
    "    * A basic text editor"
   ]
  },
  {
   "cell_type": "markdown",
   "metadata": {
    "deletable": true,
    "editable": true,
    "slideshow": {
     "slide_type": "fragment"
    }
   },
   "source": [
    "* Fine for programs"
   ]
  },
  {
   "cell_type": "markdown",
   "metadata": {
    "deletable": true,
    "editable": true,
    "slideshow": {
     "slide_type": "subslide"
    }
   },
   "source": [
    "## How do I use it?\n",
    "### Starting Jupyter notebook\n",
    "* Type \"jupyter notebook\" in the console or start via Anaconda\n",
    "    * A browser tab should appear"
   ]
  },
  {
   "cell_type": "markdown",
   "metadata": {
    "deletable": true,
    "editable": true,
    "slideshow": {
     "slide_type": "fragment"
    }
   },
   "source": [
    "* Go to the folder where your notebook __\\(*.ipynb\\)__ is stored"
   ]
  },
  {
   "cell_type": "markdown",
   "metadata": {
    "deletable": true,
    "editable": true,
    "slideshow": {
     "slide_type": "fragment"
    }
   },
   "source": [
    "* Click on it\n",
    "    * A new browser tab should appear with your notebook"
   ]
  },
  {
   "cell_type": "markdown",
   "metadata": {
    "deletable": true,
    "editable": true,
    "slideshow": {
     "slide_type": "subslide"
    }
   },
   "source": [
    "## Using Jupyter notebook\n",
    "* All content is put in __cells__\n",
    "    * Code cells\n",
    "    * Markdown cells (non-code)            \n",
    "    * Raw NBConvert (only for special uses)\n",
    "    * Headings (obsolete)"
   ]
  },
  {
   "cell_type": "markdown",
   "metadata": {
    "deletable": true,
    "editable": true,
    "slideshow": {
     "slide_type": "fragment"
    }
   },
   "source": [
    "* Double-click on a cell to see it's code"
   ]
  },
  {
   "cell_type": "markdown",
   "metadata": {
    "deletable": true,
    "editable": true,
    "slideshow": {
     "slide_type": "fragment"
    }
   },
   "source": [
    "* Tab completion in code cells\n",
    "\n",
    "<img src=\"tab_completion.png\">"
   ]
  },
  {
   "cell_type": "markdown",
   "metadata": {
    "deletable": true,
    "editable": true,
    "slideshow": {
     "slide_type": "subslide"
    }
   },
   "source": [
    "### Markdown\n",
    "* HTML can be used"
   ]
  },
  {
   "cell_type": "markdown",
   "metadata": {
    "deletable": true,
    "editable": true,
    "slideshow": {
     "slide_type": "fragment"
    }
   },
   "source": [
    "* **#, ##, ###** for headers\n",
    "    * A space is needed between the # and the actual header"
   ]
  },
  {
   "cell_type": "markdown",
   "metadata": {
    "deletable": true,
    "editable": true,
    "slideshow": {
     "slide_type": "fragment"
    }
   },
   "source": [
    "* Encapsulate text with \\* for *italic*"
   ]
  },
  {
   "cell_type": "markdown",
   "metadata": {
    "deletable": true,
    "editable": true,
    "slideshow": {
     "slide_type": "fragment"
    }
   },
   "source": [
    "* Encapsulate text with \\*\\* for **bold**"
   ]
  },
  {
   "cell_type": "markdown",
   "metadata": {
    "deletable": true,
    "editable": true,
    "slideshow": {
     "slide_type": "fragment"
    }
   },
   "source": [
    "* __\\*__ for list\n",
    "    * A space is needed between the list designator and the actual item\n",
    "    * TAB__\\*__ for indented items (like this)\n",
    "        * TABTAB__\\*__ for double indents (like this), etc."
   ]
  },
  {
   "cell_type": "markdown",
   "metadata": {
    "deletable": true,
    "editable": true,
    "slideshow": {
     "slide_type": "subslide"
    }
   },
   "source": [
    "### Important hotkeys\n",
    "* Enter: start typing in cell\n",
    "* ESC: go to command mode\n",
    "* Ctrl+Enter: evaluate cell\n",
    "* Alt+Enter: evaluate cell and create a new one below\n",
    "* Shift+Enter: evaluate cell and go to the cell below"
   ]
  },
  {
   "cell_type": "markdown",
   "metadata": {
    "deletable": true,
    "editable": true,
    "slideshow": {
     "slide_type": "fragment"
    }
   },
   "source": [
    "In command mode :\n",
    "* M : select Markdown\n",
    "* Y : select Code\n",
    "* S : save the notebook"
   ]
  },
  {
   "cell_type": "markdown",
   "metadata": {
    "deletable": true,
    "editable": true,
    "slideshow": {
     "slide_type": "fragment"
    }
   },
   "source": [
    "In command mode :\n",
    "\n",
    "* C : copy cell\n",
    "* V : paste cell\n",
    "* X : cut cell\n",
    "* DD : delete cell\n",
    "* Z : undo (only last action!)"
   ]
  },
  {
   "cell_type": "markdown",
   "metadata": {
    "deletable": true,
    "editable": true,
    "slideshow": {
     "slide_type": "fragment"
    }
   },
   "source": [
    "* For more, see __Help -> Keyboard Shortcuts__"
   ]
  },
  {
   "cell_type": "markdown",
   "metadata": {
    "deletable": true,
    "editable": true,
    "slideshow": {
     "slide_type": "slide"
    }
   },
   "source": [
    "## Remarks\n",
    "* Be careful with out-of-order cell execution, since this might change variable values and as such modify output from other cells\n",
    "* No debugging is possible (as of yet)"
   ]
  },
  {
   "cell_type": "markdown",
   "metadata": {
    "deletable": true,
    "editable": true,
    "slideshow": {
     "slide_type": "slide"
    }
   },
   "source": [
    "## That's why!\n",
    "* Jupyter notebooks fit the work flow of writing papers\n",
    "* Easy to use platform independent editor\n",
    "* Free"
   ]
  },
  {
   "cell_type": "markdown",
   "metadata": {
    "deletable": true,
    "editable": true,
    "slideshow": {
     "slide_type": "slide"
    }
   },
   "source": [
    "# Content\n",
    "\n",
    "* [00](00.ipynb) Python and Jupyter\n",
    "* [01](01.ipynb) Getting started\n",
    "* [02](02.ipynb) Lists\n",
    "* [03](03.ipynb) First Steps Towards Programming\n",
    "* [04](04.ipynb) Control flow\n",
    "* [05](05.ipynb) Functions\n",
    "* [06](06.ipynb) Data structures\n",
    "* [07](07.ipynb) Classes and Modules\n",
    "* [08](08.ipynb) Input and output\n",
    "\n",
    "## Exercises / answers\n",
    "\n",
    "* [01](exercises/01.exercises.ipynb) / [01](exercises/01.answers.ipynb)\n",
    "* [02](exercises/02.exercises.ipynb) / [02](exercises/02.answers.ipynb)\n",
    "* [03](exercises/03.exercises.ipynb) / [03](exercises/03.answers.ipynb)\n",
    "* [04](exercises/04.exercises.ipynb) / [04](exercises/04.answers.ipynb)\n",
    "* [05](exercises/05.exercises.ipynb) / [05](exercises/05.answers.ipynb)\n",
    "* [06](exercises/06.exercises.ipynb) / [06](exercises/06.answers.ipynb)\n",
    "* [07](exercises/07.exercises.ipynb) / [07](exercises/07.answers.ipynb)\n",
    "\n",
    "## Project Euler problems / answers\n",
    "* [01](euler/01.problem.ipynb) / [01](euler/01.answers.ipynb)"
   ]
  },
  {
   "cell_type": "markdown",
   "metadata": {
    "deletable": true,
    "editable": true,
    "slideshow": {
     "slide_type": "slide"
    }
   },
   "source": [
    "# Extra\n",
    "\n",
    "* [Coding style](extra/Coding%20style.ipynb)\n",
    "* [Inheritance](extra/Inheritance.ipynb)\n",
    "* [Matplotlib](extra/Matplotlib.ipynb)\n",
    "\n",
    "## Exercises / answers\n",
    "\n",
    "* [Game 1](extra/Game 1.ipynb) / [Game 1](extra/Game 1.answers.ipynb)\n",
    "* [Game 2](extra/Game 2.ipynb) / [Game 2](extra/Game 2.answers.ipynb)\n",
    "* [Game 3](extra/Game 3.ipynb) / [Game 3](extra/Game 3.answers.ipynb)"
   ]
  },
  {
   "cell_type": "raw",
   "metadata": {
    "deletable": true,
    "editable": true,
    "slideshow": {
     "slide_type": "notes"
    }
   },
   "source": [
    "%%html\n",
    "<style>\n",
    "body:after {\n",
    "    content: \"00 \\a Intro\";\n",
    "}\n",
    "</style>"
   ]
  }
 ],
 "metadata": {
  "anaconda-cloud": {},
  "celltoolbar": "Slideshow",
  "hide_input": false,
  "kernelspec": {
   "display_name": "Python 3",
   "language": "python",
   "name": "python3"
  },
  "language_info": {
   "codemirror_mode": {
    "name": "ipython",
    "version": 3
   },
   "file_extension": ".py",
   "mimetype": "text/x-python",
   "name": "python",
   "nbconvert_exporter": "python",
   "pygments_lexer": "ipython3",
   "version": "3.7.1"
  },
  "latex_envs": {
   "bibliofile": "biblio.bib",
   "cite_by": "apalike",
   "current_citInitial": 1,
   "eqLabelWithNumbers": true,
   "eqNumInitial": 0
  }
 },
 "nbformat": 4,
 "nbformat_minor": 2
}
