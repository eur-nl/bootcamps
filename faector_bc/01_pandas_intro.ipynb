{
 "cells": [
  {
   "cell_type": "markdown",
   "metadata": {},
   "source": [
    "### Pandas: Introduction"
   ]
  },
  {
   "cell_type": "markdown",
   "metadata": {},
   "source": [
    "#### Under the hood: Using libraries"
   ]
  },
  {
   "cell_type": "markdown",
   "metadata": {},
   "source": [
    "Suppose we have the following csv file, cash.csv:\n",
    "\n",
    "    date,person,dollars\n",
    "    2000-01-03,Michael,200\n",
    "    2000-01-03,George,500\n",
    "    2000-01-03,Lisa,450\n",
    "    2000-01-04,Michael,180.50\n",
    "    2000-01-04,George,450\n",
    "    2000-01-04,Lisa,448\n",
    "    2000-01-05,Michael,177\n",
    "    2000-01-05,George,420\n",
    "    2000-01-05,Lisa,447\n",
    "    2000-01-06,Michael,150\n",
    "    2000-01-06,George,300\n",
    "    2000-01-06,Lisa,344.60"
   ]
  },
  {
   "cell_type": "markdown",
   "metadata": {},
   "source": [
    "Suppose we want to use this file to do some calculations (total_earnings, total_cash_withdrawals, what are we looking at here?). We would have to process the contents of the file.\n",
    "\n",
    "In Python this could look like:\n",
    "\n",
    "    #!/usr/bin/env python\n",
    "    import sys\n",
    "    input_file = sys.argv[1]\n",
    "    # ... more stuff\n",
    "    with open(input_file, 'r', newline='') as filereader:\n",
    "        header = filereader.readline()\n",
    "        header = header.strip()\n",
    "        header_list = header.split(',')\n",
    "        # ... do something useful with the header\n",
    "        for row in filereader:\n",
    "            row = row.strip()\n",
    "            row_list = row.split(',')\n",
    "            # ... do something useful with the contents\n",
    "     # Report about the useful stuff"
   ]
  },
  {
   "cell_type": "markdown",
   "metadata": {},
   "source": [
    "If we were to deal with csv files a lot, we would probably want to capture the above in some way in order to process the contents of csv regardless of their actual contents. And this is precisely what a *library* does: It automates some common tasks in a certain context.\n",
    "\n",
    "Mind you, there is always a trade-off involved in using libraries made by others: It makes a lot of things easier (faster) to do, so that you can concentrate on the task at hand, but it does this in a certain way and this might not be the (best) way to solve your particular problem. That said, well designed libraries can make life so much more pleasant.\n",
    "\n",
    "In data science csv files are often used as the basic storage file format for datasets.\n",
    "\n",
    "So, it will come as no surprise that Python has a csv library; Python code that makes it easier to read in csv, process the contents and report results back."
   ]
  },
  {
   "cell_type": "markdown",
   "metadata": {},
   "source": [
    "Reading in a csv file, using the Python csv library, looks like:\n",
    "\n",
    "    #!/usr/bin/env python\n",
    "    import csv\n",
    "    \n",
    "    def dataset(path):\n",
    "        with open(path, 'rU' as data:\n",
    "           reader = csv.reader(data)\n",
    "           # ... do useful stuff with the reader object"
   ]
  },
  {
   "cell_type": "markdown",
   "metadata": {},
   "source": [
    "Libraries can simplify your work by shielding you off a lot of low-level details. On the other hand, when things go wrong, and things will go wrong:-), you are looking at a black box, unless you understand what a library provide under the hood. That is why it always is a good idea to study the documentation and examples a library provides carefully. Start testing the problems you want to solve right away, plug them in, instead of just following the tutorial."
   ]
  },
  {
   "cell_type": "markdown",
   "metadata": {},
   "source": [
    "So, why Pandas when we already have the Python csv library? Pandas is much more than a library for easy processing of csv files.\n",
    "\n",
    "The Pandas library for Python was build around the dataframe idea taken from R, the statistical programming language. Wes McKinney is the driving force behind the library (O'Reilly book: Python for Data Analysis). Pandas provides high-level data structures and tools to make data analysis easy and fast.\n",
    "\n",
    "Both languages have \"notebooks\",  and it is possible in the Jupyter ([JU]lia[PYT]hone[R]) noteboooks to incorporate both Python and R snippets. CSV files are the \"lingua franca\" between the languages.\n",
    "\n",
    "We added references to both programming environments to the bibliography."
   ]
  },
  {
   "cell_type": "code",
   "execution_count": 2,
   "metadata": {},
   "outputs": [
    {
     "data": {
      "text/html": [
       "<div>\n",
       "<style>\n",
       "    .dataframe thead tr:only-child th {\n",
       "        text-align: right;\n",
       "    }\n",
       "\n",
       "    .dataframe thead th {\n",
       "        text-align: left;\n",
       "    }\n",
       "\n",
       "    .dataframe tbody tr th {\n",
       "        vertical-align: top;\n",
       "    }\n",
       "</style>\n",
       "<table border=\"1\" class=\"dataframe\">\n",
       "  <thead>\n",
       "    <tr style=\"text-align: right;\">\n",
       "      <th></th>\n",
       "      <th>date</th>\n",
       "      <th>person</th>\n",
       "      <th>dollars</th>\n",
       "    </tr>\n",
       "  </thead>\n",
       "  <tbody>\n",
       "    <tr>\n",
       "      <th>0</th>\n",
       "      <td>2000-01-03</td>\n",
       "      <td>Michael</td>\n",
       "      <td>200.0</td>\n",
       "    </tr>\n",
       "    <tr>\n",
       "      <th>1</th>\n",
       "      <td>2000-01-03</td>\n",
       "      <td>George</td>\n",
       "      <td>500.0</td>\n",
       "    </tr>\n",
       "    <tr>\n",
       "      <th>2</th>\n",
       "      <td>2000-01-03</td>\n",
       "      <td>Lisa</td>\n",
       "      <td>450.0</td>\n",
       "    </tr>\n",
       "    <tr>\n",
       "      <th>3</th>\n",
       "      <td>2000-01-04</td>\n",
       "      <td>Michael</td>\n",
       "      <td>180.5</td>\n",
       "    </tr>\n",
       "    <tr>\n",
       "      <th>4</th>\n",
       "      <td>2000-01-04</td>\n",
       "      <td>George</td>\n",
       "      <td>450.0</td>\n",
       "    </tr>\n",
       "  </tbody>\n",
       "</table>\n",
       "</div>"
      ],
      "text/plain": [
       "         date   person  dollars\n",
       "0  2000-01-03  Michael    200.0\n",
       "1  2000-01-03   George    500.0\n",
       "2  2000-01-03     Lisa    450.0\n",
       "3  2000-01-04  Michael    180.5\n",
       "4  2000-01-04   George    450.0"
      ]
     },
     "execution_count": 2,
     "metadata": {},
     "output_type": "execute_result"
    }
   ],
   "source": [
    "import pandas as pd\n",
    "df = pd.read_csv(\"data/cash.csv\")\n",
    "df.head()"
   ]
  },
  {
   "cell_type": "code",
   "execution_count": null,
   "metadata": {},
   "outputs": [],
   "source": [
    "total_earned = sum(df['dollars'])\n",
    "print(total_earned)"
   ]
  },
  {
   "cell_type": "code",
   "execution_count": null,
   "metadata": {},
   "outputs": [],
   "source": [
    "df['person'].value_counts()"
   ]
  },
  {
   "cell_type": "markdown",
   "metadata": {},
   "source": [
    "#### Pandas import conventions"
   ]
  },
  {
   "cell_type": "code",
   "execution_count": null,
   "metadata": {},
   "outputs": [],
   "source": [
    "from pandas import Series, DataFrame\n",
    "import pandas as pd"
   ]
  },
  {
   "cell_type": "markdown",
   "metadata": {},
   "source": [
    "#### Pandas: Series and dataframe"
   ]
  },
  {
   "cell_type": "markdown",
   "metadata": {},
   "source": [
    "Series is a one-dimensional array-like object containing an array of data and an associated array of data labels, called its *index*."
   ]
  },
  {
   "cell_type": "code",
   "execution_count": null,
   "metadata": {},
   "outputs": [],
   "source": [
    "obj = Series([4, 7, -5, 3])\n",
    "obj"
   ]
  },
  {
   "cell_type": "code",
   "execution_count": null,
   "metadata": {},
   "outputs": [],
   "source": [
    "obj.values"
   ]
  },
  {
   "cell_type": "code",
   "execution_count": null,
   "metadata": {},
   "outputs": [],
   "source": [
    "obj.index"
   ]
  },
  {
   "cell_type": "code",
   "execution_count": null,
   "metadata": {},
   "outputs": [],
   "source": [
    "obj[2]"
   ]
  },
  {
   "cell_type": "markdown",
   "metadata": {},
   "source": [
    "Series can be used to pass in Python dictionaries."
   ]
  },
  {
   "cell_type": "code",
   "execution_count": null,
   "metadata": {},
   "outputs": [],
   "source": [
    "sdata = {'Ohio': 35000, 'Texas': 71000, 'Oregon': 16000, 'Utah': 5000}"
   ]
  },
  {
   "cell_type": "code",
   "execution_count": null,
   "metadata": {},
   "outputs": [],
   "source": [
    "sdata_series = Series(sdata)"
   ]
  },
  {
   "cell_type": "code",
   "execution_count": null,
   "metadata": {},
   "outputs": [],
   "source": [
    "sdata_series"
   ]
  },
  {
   "cell_type": "markdown",
   "metadata": {},
   "source": [
    "Series make it easy to mix and merge. Take for example a second series in which we pass a new index of states and use the Python dict called sdata:"
   ]
  },
  {
   "cell_type": "code",
   "execution_count": null,
   "metadata": {},
   "outputs": [],
   "source": [
    "states = ['California', 'Ohio', 'Oregon', 'Texas']\n",
    "new_series = Series(sdata, index = states)"
   ]
  },
  {
   "cell_type": "code",
   "execution_count": null,
   "metadata": {},
   "outputs": [],
   "source": [
    "new_series"
   ]
  },
  {
   "cell_type": "code",
   "execution_count": null,
   "metadata": {},
   "outputs": [],
   "source": [
    "new_series.isnull()"
   ]
  },
  {
   "cell_type": "markdown",
   "metadata": {},
   "source": [
    "#### Dataframes\n",
    "\n",
    "Dataframes are spreadsheet-like data structures in which the columns may contain different value types and rows contain observations. Both columns and rows have indexes.\n",
    "\n",
    "To give just two simple examples of the use of dataframes:"
   ]
  },
  {
   "cell_type": "code",
   "execution_count": 3,
   "metadata": {},
   "outputs": [
    {
     "data": {
      "text/html": [
       "<div>\n",
       "<style>\n",
       "    .dataframe thead tr:only-child th {\n",
       "        text-align: right;\n",
       "    }\n",
       "\n",
       "    .dataframe thead th {\n",
       "        text-align: left;\n",
       "    }\n",
       "\n",
       "    .dataframe tbody tr th {\n",
       "        vertical-align: top;\n",
       "    }\n",
       "</style>\n",
       "<table border=\"1\" class=\"dataframe\">\n",
       "  <thead>\n",
       "    <tr style=\"text-align: right;\">\n",
       "      <th></th>\n",
       "      <th>Name</th>\n",
       "      <th>Treatment A</th>\n",
       "      <th>Treatment B</th>\n",
       "    </tr>\n",
       "  </thead>\n",
       "  <tbody>\n",
       "    <tr>\n",
       "      <th>0</th>\n",
       "      <td>John Smith</td>\n",
       "      <td>NaN</td>\n",
       "      <td>2</td>\n",
       "    </tr>\n",
       "    <tr>\n",
       "      <th>1</th>\n",
       "      <td>Jane Doe</td>\n",
       "      <td>16.0</td>\n",
       "      <td>11</td>\n",
       "    </tr>\n",
       "    <tr>\n",
       "      <th>2</th>\n",
       "      <td>Mary Johnson</td>\n",
       "      <td>3.0</td>\n",
       "      <td>1</td>\n",
       "    </tr>\n",
       "  </tbody>\n",
       "</table>\n",
       "</div>"
      ],
      "text/plain": [
       "           Name  Treatment A  Treatment B\n",
       "0    John Smith          NaN            2\n",
       "1      Jane Doe         16.0           11\n",
       "2  Mary Johnson          3.0            1"
      ]
     },
     "execution_count": 3,
     "metadata": {},
     "output_type": "execute_result"
    }
   ],
   "source": [
    "df2 = pd.read_csv(\"data/treatment1.csv\", sep = \",\")\n",
    "df2"
   ]
  },
  {
   "cell_type": "markdown",
   "metadata": {},
   "source": [
    "A clear case of so-called \"messy data\". The column names Treatment A and Treatment B contain values: A and B. And we have 5 or 6 values depending on how we count the \"-\".\n",
    "\n",
    "There is much to say about \"tidy data\" and if you are interested, please read the article by Hadley Wickham, of R and RStudio fame on the topic.\n",
    "\n",
    "Here we just use Pandas to change this dataset into a tidy form: A column contains variables and a row contains one observation."
   ]
  },
  {
   "cell_type": "code",
   "execution_count": 4,
   "metadata": {},
   "outputs": [
    {
     "data": {
      "text/html": [
       "<div>\n",
       "<style>\n",
       "    .dataframe thead tr:only-child th {\n",
       "        text-align: right;\n",
       "    }\n",
       "\n",
       "    .dataframe thead th {\n",
       "        text-align: left;\n",
       "    }\n",
       "\n",
       "    .dataframe tbody tr th {\n",
       "        vertical-align: top;\n",
       "    }\n",
       "</style>\n",
       "<table border=\"1\" class=\"dataframe\">\n",
       "  <thead>\n",
       "    <tr style=\"text-align: right;\">\n",
       "      <th></th>\n",
       "      <th>Name</th>\n",
       "      <th>Treatment</th>\n",
       "      <th>Result</th>\n",
       "    </tr>\n",
       "  </thead>\n",
       "  <tbody>\n",
       "    <tr>\n",
       "      <th>0</th>\n",
       "      <td>John Smith</td>\n",
       "      <td>Treatment A</td>\n",
       "      <td>NaN</td>\n",
       "    </tr>\n",
       "    <tr>\n",
       "      <th>1</th>\n",
       "      <td>Jane Doe</td>\n",
       "      <td>Treatment A</td>\n",
       "      <td>16.0</td>\n",
       "    </tr>\n",
       "    <tr>\n",
       "      <th>2</th>\n",
       "      <td>Mary Johnson</td>\n",
       "      <td>Treatment A</td>\n",
       "      <td>3.0</td>\n",
       "    </tr>\n",
       "    <tr>\n",
       "      <th>3</th>\n",
       "      <td>John Smith</td>\n",
       "      <td>Treatment B</td>\n",
       "      <td>2.0</td>\n",
       "    </tr>\n",
       "    <tr>\n",
       "      <th>4</th>\n",
       "      <td>Jane Doe</td>\n",
       "      <td>Treatment B</td>\n",
       "      <td>11.0</td>\n",
       "    </tr>\n",
       "    <tr>\n",
       "      <th>5</th>\n",
       "      <td>Mary Johnson</td>\n",
       "      <td>Treatment B</td>\n",
       "      <td>1.0</td>\n",
       "    </tr>\n",
       "  </tbody>\n",
       "</table>\n",
       "</div>"
      ],
      "text/plain": [
       "           Name    Treatment  Result\n",
       "0    John Smith  Treatment A     NaN\n",
       "1      Jane Doe  Treatment A    16.0\n",
       "2  Mary Johnson  Treatment A     3.0\n",
       "3    John Smith  Treatment B     2.0\n",
       "4      Jane Doe  Treatment B    11.0\n",
       "5  Mary Johnson  Treatment B     1.0"
      ]
     },
     "execution_count": 4,
     "metadata": {},
     "output_type": "execute_result"
    }
   ],
   "source": [
    "melted_df2 = pd.melt(df2,\n",
    "                     [\"Name\"],\n",
    "                     var_name = \"Treatment\",\n",
    "                     value_name = \"Result\")\n",
    "melted_df2"
   ]
  },
  {
   "cell_type": "markdown",
   "metadata": {},
   "source": [
    "The second dataframe shows how simple it is to take a nested Python dictionary and pass that to DataFrame."
   ]
  },
  {
   "cell_type": "code",
   "execution_count": null,
   "metadata": {},
   "outputs": [],
   "source": [
    "pop = {'Nevada': {2001: 2.4, 2002: 2.9},\n",
    "      'Ohio': {2000: 1.5, 2001: 1.7, 2002: 3.6}}"
   ]
  },
  {
   "cell_type": "code",
   "execution_count": null,
   "metadata": {},
   "outputs": [],
   "source": [
    "df3 = DataFrame(pop)\n",
    "df3"
   ]
  },
  {
   "cell_type": "code",
   "execution_count": null,
   "metadata": {},
   "outputs": [],
   "source": [
    "df3.T"
   ]
  },
  {
   "cell_type": "markdown",
   "metadata": {},
   "source": [
    "With the above we have just scratched the surface of what is possible with Python and data. But we hope that you have got an idea what is possible using these tools: Python, its scientific libraries, and the Jupyter Notebook. The notebook 99_titanic_bibliography.ipynb provides useful links to sources for selfstudy.\n",
    "\n",
    "Time to dive in and take on a somewhat larger dataset."
   ]
  }
 ],
 "metadata": {
  "kernelspec": {
   "display_name": "Python 3",
   "language": "python",
   "name": "python3"
  },
  "language_info": {
   "codemirror_mode": {
    "name": "ipython",
    "version": 3
   },
   "file_extension": ".py",
   "mimetype": "text/x-python",
   "name": "python",
   "nbconvert_exporter": "python",
   "pygments_lexer": "ipython3",
   "version": "3.6.3"
  }
 },
 "nbformat": 4,
 "nbformat_minor": 2
}
