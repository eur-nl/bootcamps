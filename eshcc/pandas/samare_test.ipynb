{
 "cells": [
  {
   "cell_type": "code",
   "execution_count": 1,
   "metadata": {},
   "outputs": [
    {
     "name": "stdout",
     "output_type": "stream",
     "text": [
      "01.pdf.txt\n",
      "11.pdf.txt\n",
      "15.pdf.txt\n",
      "20.pdf.txt\n",
      "21.pdf.txt\n",
      "25.pdf.txt\n",
      "26.pdf.txt\n",
      "30.pdf.txt\n",
      "31.pdf.txt\n",
      "35.pdf.txt\n",
      "36.pdf.txt\n",
      "38.pdf.txt\n",
      "41.pdf.txt\n",
      "42.pdf.txt\n",
      "47.pdf.txt\n",
      "51.pdf.txt\n",
      "60.pdf.txt\n",
      "61.pdf.txt\n",
      "76.pdf.txt\n",
      "80.pdf.txt\n",
      "81.pdf.txt\n",
      "91.pdf.txt\n"
     ]
    }
   ],
   "source": [
    "from nltk.corpus import PlaintextCorpusReader\n",
    "\n",
    "CORPUS_ROOT = \"/Users/peter/Documents/repub/wip/Samare/data/training\"\n",
    "\n",
    "contents = PlaintextCorpusReader(CORPUS_ROOT, '.*\\.txt')\n",
    "for fileid in contents.fileids():\n",
    "    # Do something useful\n",
    "    print(fileid)"
   ]
  }
 ],
 "metadata": {
  "kernelspec": {
   "display_name": "Python 3",
   "language": "python",
   "name": "python3"
  },
  "language_info": {
   "codemirror_mode": {
    "name": "ipython",
    "version": 3
   },
   "file_extension": ".py",
   "mimetype": "text/x-python",
   "name": "python",
   "nbconvert_exporter": "python",
   "pygments_lexer": "ipython3",
   "version": "3.6.3"
  }
 },
 "nbformat": 4,
 "nbformat_minor": 2
}
