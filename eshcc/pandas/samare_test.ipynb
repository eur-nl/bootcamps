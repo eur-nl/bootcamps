{
 "cells": [
  {
   "cell_type": "code",
   "execution_count": 3,
   "metadata": {},
   "outputs": [
    {
     "name": "stdout",
     "output_type": "stream",
     "text": [
      "00_20.pdf.txt\n",
      "00_26.pdf.txt\n",
      "00_30.pdf.txt\n",
      "00_33.pdf.txt\n",
      "00_35.pdf.txt\n",
      "00_38.pdf.txt\n",
      "00_42.pdf.txt\n",
      "00_47.pdf.txt\n",
      "00_76.pdf.txt\n",
      "00_80.pdf.txt\n",
      "01_15.pdf.txt\n",
      "01_40.pdf.txt\n",
      "01_60.pdf.txt\n",
      "02_01.pdf.txt\n",
      "02_11.pdf.txt\n",
      "02_15.pdf.txt\n",
      "02_21.pdf.txt\n",
      "02_25.pdf.txt\n",
      "02_31.pdf.txt\n",
      "02_36.pdf.txt\n",
      "02_41.pdf.txt\n",
      "02_51.pdf.txt\n",
      "02_61.pdf.txt\n",
      "02_71.pdf.txt\n",
      "02_81.pdf.txt\n",
      "02_91.pdf.txt\n"
     ]
    }
   ],
   "source": [
    "from nltk.corpus import PlaintextCorpusReader\n",
    "\n",
    "CORPUS_ROOT = \"/Users/peter/Documents/repub/wip/Samare/data/training\"\n",
    "\n",
    "contents = PlaintextCorpusReader(CORPUS_ROOT, '.*\\.txt')\n",
    "for fileid in contents.fileids():\n",
    "    # Do something useful\n",
    "    print(fileid)"
   ]
  }
 ],
 "metadata": {
  "kernelspec": {
   "display_name": "Python 3",
   "language": "python",
   "name": "python3"
  },
  "language_info": {
   "codemirror_mode": {
    "name": "ipython",
    "version": 3
   },
   "file_extension": ".py",
   "mimetype": "text/x-python",
   "name": "python",
   "nbconvert_exporter": "python",
   "pygments_lexer": "ipython3",
   "version": "3.6.3"
  }
 },
 "nbformat": 4,
 "nbformat_minor": 2
}
