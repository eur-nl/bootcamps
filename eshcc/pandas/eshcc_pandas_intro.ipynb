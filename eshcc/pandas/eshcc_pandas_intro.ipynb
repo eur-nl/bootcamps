{
 "cells": [
  {
   "cell_type": "markdown",
   "metadata": {},
   "source": [
    "### Tiny intro to Pandas\n",
    "\n",
    "Python's Pandas library is one of the reasons that Python is popular in the context of \"data science\". Wes Mckinney took R's dataframe idea and implemented that as Pandas, using the solid foundation of another scientific Python library: Numpy.\n",
    "\n",
    "Numpy is Python's number crunching library for vectors and matrices. Matrices hold columns of one numeric type. Dataframes expand on this idea: Columns can hold various datatypes, like text and/or numbers. Basically dataframes represent what we have come to name \"spreadsheets\".\n",
    "\n",
    "Like all libraries Pandas makes life easier by taking care of all sorts of laborious details \"under the hood\" when working with \"spreadsheet like data\":\n",
    "\n",
    "- reading files and writing to files\n",
    "- working with the contents of dataframes: cleaning, exploring\n",
    "- finding the meaning of data"
   ]
  },
  {
   "cell_type": "markdown",
   "metadata": {},
   "source": [
    "In this notebook we will look at some simple dataframe examples to get a feel for the Pandas library.\n",
    "\n",
    "In another notebook we will explore the Titanic dataset in order to see more (cleaning and meaning) of this important Python library."
   ]
  },
  {
   "cell_type": "code",
   "execution_count": null,
   "metadata": {},
   "outputs": [],
   "source": [
    "import pandas as pd\n",
    "df = pd.read_csv(\"grades.csv\")\n",
    "df.head(5)"
   ]
  },
  {
   "cell_type": "markdown",
   "metadata": {},
   "source": [
    "Above we used a simple, existing csv file to be read into a Pandas dataframe, but we also could have used a Python dictionary like the following:"
   ]
  },
  {
   "cell_type": "code",
   "execution_count": null,
   "metadata": {},
   "outputs": [],
   "source": [
    "data = {'state': ['Ohio', 'Ohio', 'Ohio', 'Nevada', 'Nevada', 'Nevada'],\n",
    "       'year': [2000, 2001, 2002,2001, 2002, 2003],\n",
    "       'pop': [1.5, 1.7, 3.6, 2.4, 2.9, 3.2]}\n",
    "frame = pd.DataFrame(data)\n",
    "frame.head(7)"
   ]
  },
  {
   "cell_type": "code",
   "execution_count": null,
   "metadata": {},
   "outputs": [],
   "source": [
    "# Columns can be retrieved as a series by using the \"dict-like notation\":\n",
    "frame['state']"
   ]
  },
  {
   "cell_type": "code",
   "execution_count": null,
   "metadata": {},
   "outputs": [],
   "source": [
    "# It is very easy to add columns using some logic on existing columns:\n",
    "frame['eastern'] = frame['state'] == 'Ohio'\n",
    "frame.head()"
   ]
  },
  {
   "cell_type": "markdown",
   "metadata": {},
   "source": [
    "There are quite a few data inputs that are already defined for the DataFrame contructor: 2D ndarray, dict of arrays or tuples, dict of Series, dict of dicts, etc.\n",
    "\n",
    "There are many methods already defined in Pandas to work with dataframes: append, delete, drop, unique, etc."
   ]
  },
  {
   "cell_type": "code",
   "execution_count": null,
   "metadata": {},
   "outputs": [],
   "source": [
    "# Dropping rows is easy:\n",
    "new_frame = frame.drop(2)\n",
    "new_frame.head()"
   ]
  },
  {
   "cell_type": "code",
   "execution_count": null,
   "metadata": {},
   "outputs": [],
   "source": [
    "# In order to drop a column we have to specify axis=1 or axis='columns'\n",
    "new_frame2 = frame.drop('eastern', axis=1)\n",
    "new_frame2.head(6)"
   ]
  },
  {
   "cell_type": "markdown",
   "metadata": {},
   "source": [
    "In the two examples using the drop function above, we played it safe by assigning the changed dataframe to a new variable. We can also change the dataframe in-place, by providing the method an extra argument: inplace = True"
   ]
  },
  {
   "cell_type": "markdown",
   "metadata": {},
   "source": [
    "There are numerous indexing methods available.\n",
    "\n",
    "Functions can be applied over complete dataframes or certain rows or columns."
   ]
  },
  {
   "cell_type": "code",
   "execution_count": null,
   "metadata": {},
   "outputs": [],
   "source": [
    "frame.sum()"
   ]
  },
  {
   "cell_type": "code",
   "execution_count": null,
   "metadata": {},
   "outputs": [],
   "source": [
    "# Large amount of methods available for descriptive statistics\n",
    "frame['pop'].sum()\n",
    "mean_pop = frame['pop'].sum() / len(frame['pop'])\n",
    "print(mean_pop)"
   ]
  },
  {
   "cell_type": "code",
   "execution_count": null,
   "metadata": {},
   "outputs": [],
   "source": [
    "# To conclude: We write our dataframe 'frame' to a csv file to be used later on\n",
    "df.to_csv(\"ohio_nevada_pop.csv\")"
   ]
  }
 ],
 "metadata": {
  "kernelspec": {
   "display_name": "Python 3",
   "language": "python",
   "name": "python3"
  },
  "language_info": {
   "codemirror_mode": {
    "name": "ipython",
    "version": 3
   },
   "file_extension": ".py",
   "mimetype": "text/x-python",
   "name": "python",
   "nbconvert_exporter": "python",
   "pygments_lexer": "ipython3",
   "version": "3.6.3"
  }
 },
 "nbformat": 4,
 "nbformat_minor": 2
}
