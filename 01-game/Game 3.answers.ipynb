{
 "cells": [
  {
   "cell_type": "markdown",
   "metadata": {
    "deletable": true,
    "editable": true
   },
   "source": [
    "## Tic Tac Toe"
   ]
  },
  {
   "cell_type": "markdown",
   "metadata": {
    "deletable": true,
    "editable": true
   },
   "source": [
    "In this exercise we're going to create the Tic Tac Toe game.  \n",
    "We'll be using a board like below, with 'X' is player 1 and 'O' player 2.  \n",
    "\n",
    "\n",
    "```\n",
    " --- --- --- \n",
    "|   | X | O | \n",
    " --- --- ---  \n",
    "|   | O |   | \n",
    " --- --- ---  \n",
    "| X | O | X | \n",
    " --- --- --- \n",
    "```"
   ]
  },
  {
   "cell_type": "markdown",
   "metadata": {
    "deletable": true,
    "editable": true
   },
   "source": [
    "<hr style=\"height: 3px; margin: 0\" />    \n",
    "### Part 1\n",
    "### Setup the game and draw the board"
   ]
  },
  {
   "cell_type": "markdown",
   "metadata": {
    "deletable": true,
    "editable": true
   },
   "source": [
    "In the first part we'll start with choosing a datastructure to hold the game state and drawing the board.  \n",
    "There are many options to choose from, but we pick a list of lists.  \n",
    "Each element of the outher list is a row, each row containing 3 items.\n",
    "A 1 or 2 denotes player 1 or 2, a 0 is for empty position.  \n",
    "\n",
    "* Define a function `start_game`, that returns an empty game  \n",
    "  That game consisting of 3 rows (with 3 columns) of zeros\n",
    "* Define a function called `draw_board` that outputs the game to the format above\n",
    "* Define as much helper funtions as you'd like"
   ]
  },
  {
   "cell_type": "code",
   "execution_count": null,
   "metadata": {
    "deletable": true,
    "editable": true
   },
   "outputs": [],
   "source": [
    "def start_game():\n",
    "    return [[0] * 3 for x in range(3)]\n",
    "\n",
    "def get_row(game, row):\n",
    "    return game[row]\n",
    "\n",
    "def get_col(game, col):\n",
    "    return [row[col] for row in game]\n",
    "\n",
    "def draw_line():\n",
    "    print(\" ---\" * 3)\n",
    "    \n",
    "def draw_row(row):\n",
    "    # Remember we have to translate the number to ' ', X' or 'O'\n",
    "    icons = {0: ' ', 1: 'X', 2: 'O'}\n",
    "    translated = [icons[col] for col in row]\n",
    "    print(\"| \" + \" | \".join(translated) + \" |\")\n",
    "\n",
    "def draw_board(game):\n",
    "    print()\n",
    "    for row in range(3):\n",
    "        draw_line()\n",
    "        draw_row(get_row(game, row))\n",
    "    draw_line()\n",
    "    \n",
    "    \n",
    "game = start_game()\n",
    "draw_board(game)\n",
    "game = [[2, 2, 0],\n",
    "        [1, 1, 0],\n",
    "        [2, 1, 1]]\n",
    "draw_board(game)"
   ]
  },
  {
   "cell_type": "markdown",
   "metadata": {
    "deletable": true,
    "editable": true
   },
   "source": [
    "<hr style=\"height: 3px; margin: 0\" />    \n",
    "### Part 2\n",
    "### Checking whether a game board has a winner"
   ]
  },
  {
   "cell_type": "markdown",
   "metadata": {
    "deletable": true,
    "editable": true
   },
   "source": [
    "Next we're going to focus on determining the winner.  \n",
    "Don't worry about how the moves were made.  \n",
    "The game below should declare player 1 as the winner.\n",
    "```\n",
    "game = [[1, 2, 0],\n",
    "        [2, 1, 0],\n",
    "        [2, 1, 1]]\n",
    "```\n",
    "\n",
    "* Create a function check_winner that either returns a 1, 2 (player won) or 0 (no winner)  \n",
    "* The input should be a game\n",
    "* Ignore the situation that a game has 2 winners (should never happen)"
   ]
  },
  {
   "cell_type": "code",
   "execution_count": null,
   "metadata": {
    "deletable": true,
    "editable": true
   },
   "outputs": [],
   "source": [
    "def check_row_winner(game):\n",
    "    for player in [1, 2]:\n",
    "        for row in range(3):\n",
    "            if get_row(game, row) == [player] * 3:\n",
    "                return player\n",
    "    return 0\n",
    "\n",
    "\n",
    "def check_col_winner(game):\n",
    "    for player in [1, 2]:\n",
    "        for col in range(3):\n",
    "            if get_col(game, col) == [player] * 3:\n",
    "                return player\n",
    "    return 0\n",
    "\n",
    "\n",
    "def check_diag_winner(game):\n",
    "    diag_down = [game[x][x] for x in range(3)]\n",
    "    diag_up = [game[2-x][x] for x in range(3)]\n",
    "    \n",
    "    if diag_down == [1] * 3 or diag_up == [1] * 3:\n",
    "        return 1\n",
    "    if diag_down == [2] * 3 or diag_up == [2] * 3:\n",
    "        return 2\n",
    "    \n",
    "    return 0\n",
    "\n",
    "\n",
    "def check_winner(game):\n",
    "    # First check the rows\n",
    "    winner = check_row_winner(game)\n",
    "    if winner != 0:\n",
    "        return winner\n",
    "    \n",
    "    # Check the columns\n",
    "    winner = check_col_winner(game)\n",
    "    if winner != 0:\n",
    "        return winner\n",
    "    \n",
    "    # Check the diagonals\n",
    "    winner = check_diag_winner(game)\n",
    "    if winner != 0:\n",
    "        return winner\n",
    "    \n",
    "    # No winner :(\n",
    "    return 0\n",
    "\n",
    "\n",
    "game = [[2, 2, 0],\n",
    "        [2, 1, 1],\n",
    "        [2, 1, 1]]\n",
    "print(check_winner(game))  # Should be 2\n",
    "\n",
    "game = [[2, 2, 2],\n",
    "        [1, 1, 0],\n",
    "        [2, 1, 1]]\n",
    "print(check_winner(game))  # Should be 2\n",
    "\n",
    "game = [[1, 2, 0],\n",
    "        [2, 1, 0],\n",
    "        [2, 1, 1]]\n",
    "print(check_winner(game))  # Should be 1\n",
    "\n",
    "game = [[0, 1, 0],\n",
    "        [2, 1, 2],\n",
    "        [2, 1, 1]]\n",
    "print(check_winner(game))  # Should be 1\n",
    "\n",
    "game = [[1, 2, 0],\n",
    "        [2, 1, 1],\n",
    "        [2, 1, 2]]\n",
    "print(check_winner(game))  # Should be 0\n",
    "\n",
    "game = [[1, 2, 0],\n",
    "        [2, 1, 0],\n",
    "        [2, 1, 0]]\n",
    "print(check_winner(game))  # Should be 0"
   ]
  },
  {
   "cell_type": "markdown",
   "metadata": {
    "deletable": true,
    "editable": true
   },
   "source": [
    "<hr style=\"height: 3px; margin: 0\" />    \n",
    "### Part 3\n",
    "### Handle a player move from user input"
   ]
  },
  {
   "cell_type": "markdown",
   "metadata": {
    "deletable": true,
    "editable": true
   },
   "source": [
    "Next we have to get the input from the user.  \n",
    "Let's have the input in the format 'x y', 2 number with a space.  \n",
    "The first number is the row, the second is the column.  \n",
    "Both should range from 1 to 3, else warn the user.  \n",
    "We should also check if the move is valid, maining the position is unoccupied.\n",
    "\n",
    "* Create a function `get_user_input` that asks and verifies the user input\n",
    "* Input to that function should be the game and the current player\n",
    "* If the input is valid, update the game"
   ]
  },
  {
   "cell_type": "code",
   "execution_count": null,
   "metadata": {
    "deletable": true,
    "editable": true
   },
   "outputs": [],
   "source": [
    "def get_move_coordinates(move):\n",
    "    parts = move.split()\n",
    "    # User counts 1-3, Python counts 0-2\n",
    "    return int(parts[0]) - 1, int(parts[1]) - 1\n",
    "\n",
    "\n",
    "def check_format(move):\n",
    "    if len(move.split()) != 2:\n",
    "        return \"Please answer in the following format : row_id col_id\"\n",
    "    try:\n",
    "        row, column = get_move_coordinates(move)\n",
    "    except:\n",
    "        return \"The rows and columns need to be 1, 2 or 3\"\n",
    "    \n",
    "    \n",
    "def check_range(move):\n",
    "    row, column = get_move_coordinates(move) \n",
    "    if row not in [0, 1, 2] or column not in [0, 1, 2]:\n",
    "        return \"The rows and columns need to be 1, 2 or 3\"\n",
    "\n",
    "\n",
    "def check_empty(game, move):\n",
    "    row, column = get_move_coordinates(move)\n",
    "    if game[row][column] != 0:\n",
    "        return \"This position is already taken!\"\n",
    "\n",
    "\n",
    "def check_move(game, move):\n",
    "    # Check the format\n",
    "    format_msg = check_format(move)\n",
    "    if format_msg is not None:\n",
    "        print(format_msg)\n",
    "        return False\n",
    "    \n",
    "    # Check the range \n",
    "    range_msg = check_range(move)\n",
    "    if range_msg is not None:\n",
    "        print(range_msg)\n",
    "        return False\n",
    "    \n",
    "    # Check position availability\n",
    "    empty_msg = check_empty(game, move)\n",
    "    if empty_msg is not None:\n",
    "        print(empty_msg)\n",
    "        return False    \n",
    "    \n",
    "    # No reason the move isn't ok\n",
    "    return True\n",
    "    \n",
    "\n",
    "def get_user_move(game, current_player):\n",
    "    print(\"\\nHi player %d!\" % current_player)\n",
    "    \n",
    "    move = None\n",
    "    while move is None:\n",
    "        move = input(\"Which row / column? \")\n",
    "        # Ignore excessive whitespacing\n",
    "        move = ' '.join(move.split()).strip()\n",
    "\n",
    "        # Check if the move is ok\n",
    "        if check_move(game, move) is False:\n",
    "            move = None\n",
    "        \n",
    "    # Update the game with the move\n",
    "    row, column = get_move_coordinates(move)\n",
    "    game[row][column] = current_player\n",
    "    \n",
    "\n",
    "game = [[0, 1, 0],\n",
    "        [2, 2, 0],\n",
    "        [2, 1, 1]]\n",
    "draw_board(game)\n",
    "get_user_move(game, current_player=1)\n",
    "draw_board(game)"
   ]
  },
  {
   "cell_type": "markdown",
   "metadata": {
    "deletable": true,
    "editable": true
   },
   "source": [
    "<hr style=\"height: 3px; margin: 0\" />    \n",
    "### Part 4\n",
    "### Finish the game!"
   ]
  },
  {
   "cell_type": "markdown",
   "metadata": {
    "deletable": true,
    "editable": true
   },
   "source": [
    "We're almost there, let's create the full game.  \n",
    "Start by initiating a game and set the current player to 1.  \n",
    "What we didn't check so far is if there is a draw : all positions taken but no winner\n",
    "\n",
    "* Create a function `is_draw` that detects if there is a draw\n",
    "* Start the game and ask the first player to move \n",
    "* Keep alternating between players until we have a winner or a draw\n",
    "* Print board after each move, and announce the winner "
   ]
  },
  {
   "cell_type": "code",
   "execution_count": null,
   "metadata": {
    "deletable": true,
    "editable": true
   },
   "outputs": [],
   "source": [
    "def is_draw(game):\n",
    "    # Can't have a draw if we have a winner\n",
    "    if check_winner(game) != 0:\n",
    "        return False\n",
    "    \n",
    "    # A draw happens when all positions are unequal to 0\n",
    "    for row in range(3):\n",
    "        if min(game[row]) < 1:\n",
    "            return False\n",
    "    return True\n",
    "        \n",
    "\n",
    "def tic_tac_toe():\n",
    "    game = start_game()\n",
    "    draw_board(game)\n",
    "    current_player = 1\n",
    "    while True:\n",
    "        get_user_move(game, current_player)\n",
    "        draw_board(game)\n",
    "        current_player = {1:2, 2:1}[current_player]\n",
    "        winner = check_winner(game)\n",
    "        if winner != 0:\n",
    "            break\n",
    "        if is_draw(game):\n",
    "            break\n",
    "\n",
    "    if winner == 0:\n",
    "        print(\"\\nThe game ended in a draw\\n\")        \n",
    "    else:\n",
    "        print(\"\\nAnd the winner is : player %d!\\n\" % winner)\n",
    "        \n",
    "        \n",
    "tic_tac_toe()"
   ]
  }
 ],
 "metadata": {
  "kernelspec": {
   "display_name": "Python 3",
   "language": "python",
   "name": "python3"
  },
  "language_info": {
   "codemirror_mode": {
    "name": "ipython",
    "version": 3
   },
   "file_extension": ".py",
   "mimetype": "text/x-python",
   "name": "python",
   "nbconvert_exporter": "python",
   "pygments_lexer": "ipython3",
   "version": "3.5.2"
  }
 },
 "nbformat": 4,
 "nbformat_minor": 2
}
