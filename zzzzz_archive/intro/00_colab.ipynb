{
 "cells": [
  {
   "cell_type": "markdown",
   "metadata": {
    "deletable": true,
    "editable": true,
    "slideshow": {
     "slide_type": "slide"
    }
   },
   "source": [
    "<center>\n",
    "<h1>Introduction to Python</h1>\n",
    "<h2>Peter van Huisstede, Jasper Op de Coul, UBIB</h2>\n",
    "<h2>Erik Kemperman, Govert Buijs, RSM IMC</h2>\n",
    "</center>"
   ]
  },
  {
   "cell_type": "markdown",
   "metadata": {
    "deletable": true,
    "editable": true,
    "slideshow": {
     "slide_type": "slide"
    }
   },
   "source": [
    "## Why Jupyter notebooks"
   ]
  },
  {
   "cell_type": "markdown",
   "metadata": {
    "deletable": true,
    "editable": true,
    "slideshow": {
     "slide_type": "fragment"
    }
   },
   "source": [
    "* What?\n",
    "* Why?\n",
    "* How?\n",
    "* That's why!"
   ]
  },
  {
   "cell_type": "markdown",
   "metadata": {
    "deletable": true,
    "editable": true,
    "slideshow": {
     "slide_type": "subslide"
    }
   },
   "source": [
    "## What?\n",
    "* Web-based interface for integrated document writing and data processing\n",
    "\n",
    "<img src=\"notebook_components.png\">"
   ]
  },
  {
   "cell_type": "markdown",
   "metadata": {
    "deletable": true,
    "editable": true,
    "slideshow": {
     "slide_type": "subslide"
    }
   },
   "source": [
    "## Why?\n"
   ]
  },
  {
   "cell_type": "markdown",
   "metadata": {
    "deletable": true,
    "editable": true,
    "slideshow": {
     "slide_type": "fragment"
    }
   },
   "source": [
    "* Conventional programming tools:\n",
    "    * An Integrated Development Environment or IDE (Visual Studio, PyCharm, etc.)\n",
    "    or\n",
    "    * An editor (Idle, Emacs, Vi(m), Sublime Text, etc.)"
   ]
  },
  {
   "cell_type": "markdown",
   "metadata": {
    "deletable": true,
    "editable": true,
    "slideshow": {
     "slide_type": "fragment"
    }
   },
   "source": [
    "* Fine for programs, but you have to get to know that software also -- which gives you basically two things to learn at the same time. Jupyter Notebooks are simpler in the sense that you only have cells with code and cells with text (using the MarkDown syntax for extra's: links, images, math, etc.)"
   ]
  },
  {
   "cell_type": "markdown",
   "metadata": {
    "deletable": true,
    "editable": true,
    "slideshow": {
     "slide_type": "subslide"
    }
   },
   "source": [
    "## How do I use it?\n",
    "\n",
    "This workshop we make use of the new Notebook platform hosted by Google: Google Colabs. If you have a look at the image above, then the part in green labelled \"Notebook server\" is provided by Google.\n",
    "\n",
    "There is no software to install (We used to ask workshop participants to install the Anaconda Python distribution), but more importantly the Colab setup provides access to your Google drive, our GitHub repository with all the notebooks we use for workshops. But also with the more advanced parts of Google's cloud infrastructure: GCS, BigQuery and TensorFlow (machine learning).\n",
    "\n",
    "Let's try it out: [Jump to Google Colab](https://colab.research.google.com/)\n",
    "\n",
    "You should be able to login with your EUR Erna account.\n",
    "\n",
    "In the popup window, the one with the yellow/orange banner, select GITHUB.\n",
    "\n",
    "Enter the following GitHub URL:\n",
    "\n",
    "https://github.com/eur-nl/bootcamps\n",
    "\n",
    "All Notebooks we use for Python workshops should be available.\n"
   ]
  },
  {
   "cell_type": "markdown",
   "metadata": {
    "deletable": true,
    "editable": true,
    "slideshow": {
     "slide_type": "subslide"
    }
   },
   "source": [
    "## Using Jupyter notebook\n",
    "\n",
    "What you need to know to start with Notebooks is:\n",
    "\n",
    "* All content is put in __cells__\n",
    "    * Code cells\n",
    "    * Markdown cells (non-code or text)            \n",
    "    * The sequence of code cells is important\n",
    "    * Double click on a cell to work with its content\n",
    " \n",
    "Think of the code cells as the steps you need to take in order to solve the problem(s). The Markdown cells describe what you do and why you do it in that way ([Markdown cheatsheet](https://github.com/adam-p/markdown-here/wiki/Markdown-Cheatsheet)). The result is well documented code, or: [Literate programming](https://en.wikipedia.org/wiki/Literate_programming)"
   ]
  },
  {
   "cell_type": "markdown",
   "metadata": {
    "deletable": true,
    "editable": true,
    "slideshow": {
     "slide_type": "slide"
    }
   },
   "source": [
    "## That's why!\n",
    "* Jupyter notebooks fit the work flow of writing papers\n",
    "* Easy to use platform independent editor\n",
    "* Free"
   ]
  },
  {
   "cell_type": "markdown",
   "metadata": {
    "deletable": true,
    "editable": true,
    "slideshow": {
     "slide_type": "slide"
    }
   },
   "source": [
    "# Content of the workshop\n",
    "\n",
    "* [000](00_colab_welcome.ipynb) By way of introduction\n",
    "* [00](00_colab.ipynb) Python, Jupyter Notebooks and Content of the workshop\n",
    "* [01](01.ipynb) Getting started\n",
    "* [02](02.ipynb) Lists\n",
    "* [03](03.ipynb) First Steps Towards Programming\n",
    "* [04](04.ipynb) Control flow\n",
    "* [05](05.ipynb) Functions\n",
    "* [06](06.ipynb) Data structures\n",
    "* [07](07.ipynb) Classes and Modules\n",
    "* [08](08.ipynb) Input and output\n",
    "\n",
    "## Extra topics\n",
    "\n",
    "* [01](topics/01.topics.ipynb) Approximation of sqrt(2)\n",
    "* [02](topics/02.topics.ipynb) Fibonacci sequence (see also Euler problem 2)\n",
    "\n",
    "## Exercises / answers\n",
    "\n",
    "* [01](exercises/01.exercises.ipynb) / [01](exercises/01.answers.ipynb)\n",
    "* [02](exercises/02.exercises.ipynb) / [02](exercises/02.answers.ipynb)\n",
    "* [03](exercises/03.exercises.ipynb) / [03](exercises/03.answers.ipynb)\n",
    "* [04](exercises/04.exercises.ipynb) / [04](exercises/04.answers.ipynb)\n",
    "* [05](exercises/05.exercises.ipynb) / [05](exercises/05.answers.ipynb)\n",
    "* [06](exercises/06.exercises.ipynb) / [06](exercises/06.answers.ipynb)\n",
    "* [07](exercises/07.exercises.ipynb) / [07](exercises/07.answers.ipynb)\n",
    "\n",
    "## Project Euler problems / answers\n",
    "* [01](euler/01.problem.ipynb) / [01](euler/01.answers.ipynb)\n",
    "* [02](euler/02.problem.ipynb) / [02](euler/01.answers.ipynb)"
   ]
  },
  {
   "cell_type": "markdown",
   "metadata": {
    "deletable": true,
    "editable": true,
    "slideshow": {
     "slide_type": "slide"
    }
   },
   "source": [
    "# Extra\n",
    "\n",
    "* [Coding style](extra/Coding%20style.ipynb)\n",
    "* [Inheritance](extra/Inheritance.ipynb)\n",
    "* [Matplotlib](extra/Matplotlib.ipynb)\n",
    "\n",
    "## Exercises / answers\n",
    "\n",
    "* [Game 1](extra/Game 1.ipynb) / [Game 1](extra/Game 1.answers.ipynb)\n",
    "* [Game 2](extra/Game 2.ipynb) / [Game 2](extra/Game 2.answers.ipynb)\n",
    "* [Game 3](extra/Game 3.ipynb) / [Game 3](extra/Game 3.answers.ipynb)"
   ]
  },
  {
   "cell_type": "raw",
   "metadata": {
    "deletable": true,
    "editable": true,
    "slideshow": {
     "slide_type": "notes"
    }
   },
   "source": [
    "%%html\n",
    "<style>\n",
    "body:after {\n",
    "    content: \"00 \\a Intro\";\n",
    "}\n",
    "</style>"
   ]
  }
 ],
 "metadata": {
  "anaconda-cloud": {},
  "celltoolbar": "Slideshow",
  "hide_input": false,
  "kernelspec": {
   "display_name": "Python 3",
   "language": "python",
   "name": "python3"
  },
  "language_info": {
   "codemirror_mode": {
    "name": "ipython",
    "version": 3
   },
   "file_extension": ".py",
   "mimetype": "text/x-python",
   "name": "python",
   "nbconvert_exporter": "python",
   "pygments_lexer": "ipython3",
   "version": "3.7.1"
  },
  "latex_envs": {
   "bibliofile": "biblio.bib",
   "cite_by": "apalike",
   "current_citInitial": 1,
   "eqLabelWithNumbers": true,
   "eqNumInitial": 0
  }
 },
 "nbformat": 4,
 "nbformat_minor": 2
}
